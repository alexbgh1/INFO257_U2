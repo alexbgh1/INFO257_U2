{
 "cells": [
  {
   "cell_type": "markdown",
   "metadata": {},
   "source": [
    "### Notebook 1:  Clustering con K-means\n",
    "En este notebook vamos a implementar el algoritmo de clustering K-means en R. El objetivo es entender como funciona este algoritmo y  aprender a utilizarlo con un ejemplo simple. Se incluye además la estrategia para definir el número de grupos k. Al final se propone un ejercicio con nuevos datos, con el fin de aprender a utilizar el algoritmo. "
   ]
  },
  {
   "cell_type": "code",
   "execution_count": 365,
   "metadata": {
    "vscode": {
     "languageId": "r"
    }
   },
   "outputs": [
    {
     "name": "stdout",
     "output_type": "stream",
     "text": [
      "           WATER PROTEIN  FAT LACTOSE  ASH\n",
      "HORSE       90.1     2.6  1.0     6.9 0.35\n",
      "ORANGUTAN   88.5     1.4  3.5     6.0 0.24\n",
      "MONKEY      88.4     2.2  2.7     6.4 0.18\n",
      "DONKEY      90.3     1.7  1.4     6.2 0.40\n",
      "HIPPO       90.4     0.6  4.5     4.4 0.10\n",
      "CAMEL       87.7     3.5  3.4     4.8 0.71\n",
      "BISON       86.9     4.8  1.7     5.7 0.90\n",
      "BUFFALO     82.1     5.9  7.9     4.7 0.78\n",
      "GUINEA_PIG  81.9     7.4  7.2     2.7 0.85\n",
      "CAT         81.6    10.1  6.3     4.4 0.75\n",
      "FOX         81.6     6.6  5.9     4.9 0.93\n",
      "LLAMA       86.5     3.9  3.2     5.6 0.80\n",
      "MULE        90.0     2.0  1.8     5.5 0.47\n",
      "PIG         82.8     7.1  5.1     3.7 1.10\n",
      "ZEBRA       86.2     3.0  4.8     5.3 0.70\n",
      "SHEEP       82.0     5.6  6.4     4.7 0.91\n",
      "DOG         76.3     9.3  9.5     3.0 1.20\n",
      "ELEPHANT    70.7     3.6 17.6     5.6 0.63\n",
      "RABBIT      71.3    12.3 13.1     1.9 2.30\n",
      "RAT         72.5     9.2 12.6     3.3 1.40\n",
      "DEER        65.9    10.4 19.7     2.6 1.40\n",
      "REINDEER    64.8    10.7 20.3     2.5 1.40\n",
      "WHALE       64.8    11.1 21.2     1.6 1.70\n",
      "SEAL        46.4     9.7 42.0     0.0 0.85\n",
      "DOLPHIN     44.9    10.6 34.9     0.9 0.53\n"
     ]
    },
    {
     "data": {
      "text/plain": [
       "     WATER          PROTEIN            FAT           LACTOSE     \n",
       " Min.   :44.90   Min.   : 0.600   Min.   : 1.00   Min.   :0.000  \n",
       " 1st Qu.:71.30   1st Qu.: 3.000   1st Qu.: 3.40   1st Qu.:2.700  \n",
       " Median :82.00   Median : 5.900   Median : 6.30   Median :4.700  \n",
       " Mean   :78.18   Mean   : 6.212   Mean   :10.31   Mean   :4.132  \n",
       " 3rd Qu.:87.70   3rd Qu.: 9.700   3rd Qu.:13.10   3rd Qu.:5.600  \n",
       " Max.   :90.40   Max.   :12.300   Max.   :42.00   Max.   :6.900  \n",
       "      ASH        \n",
       " Min.   :0.1000  \n",
       " 1st Qu.:0.5300  \n",
       " Median :0.8000  \n",
       " Mean   :0.8632  \n",
       " 3rd Qu.:1.1000  \n",
       " Max.   :2.3000  "
      ]
     },
     "metadata": {},
     "output_type": "display_data"
    },
    {
     "data": {
      "image/png": "[encoded data removed]",
      "text/plain": [
       "plot without title"
      ]
     },
     "metadata": {},
     "output_type": "display_data"
    }
   ],
   "source": [
    "library(cluster)\n",
    "library(ggplot2)\n",
    "\n",
    "#ruta datos\n",
    "#lee datos del archivo de texto como una matriz. La primera #columna se utiliza como vector de nombres de las filas\n",
    "datos <-read.table(\"milk1.dat\",row.names=1,dec=\".\",header=TRUE)\n",
    "print(datos)\n",
    "summary(datos)\n",
    "boxplot(datos)"
   ]
  },
  {
   "cell_type": "markdown",
   "metadata": {},
   "source": [
    "**Descripción de los datos y porque realizar un análisis de agrupamiento**\n",
    "\n",
    "Se trata de un conjunto de datos que describen la composición de la leche de 25 mamíferos. Se consideran 5 características en porcentajes: agua, proteína, grasa, lactosa y calcio. Se puede observar del boxplot que, en promedio, el mayor porcentaje de todas las leches es agua (cerca de 80%), seguido de proteína, grasa y lactosa (cerca del 5%) y bastante menor porcentaje de calcio (0,8%). Las componente que tienen mayor variación son el porcentaje de agua y de grasa. Parece pertinente realizar un análisis de agrupamiento para distinguir grupos de mamíferos que poseen leches de características similares."
   ]
  },
  {
   "cell_type": "code",
   "execution_count": 366,
   "metadata": {
    "scrolled": true,
    "vscode": {
     "languageId": "r"
    }
   },
   "outputs": [
    {
     "data": {
      "image/png": "[encoded data removed]",
      "text/plain": [
       "plot without title"
      ]
     },
     "metadata": {},
     "output_type": "display_data"
    }
   ],
   "source": [
    "#ingresar valor de k0 \n",
    "k0=3\n",
    "cl<-kmeans(datos,k0,iter.max=1000,nstart=10)\n",
    "#grafica los datos coloreados con el grupo asignado en planos de pares de variables\n",
    "pairs(datos,col=cl$cluster)\n"
   ]
  },
  {
   "cell_type": "markdown",
   "metadata": {},
   "source": [
    "Al considerar 3 grupos con el algoritmo KMeans, se obtienen grupos claramente diferenciados por las variables porcentaje de agua y grasa. El grupo rojo (focas y delfines), con los menores porcentajes de agua y mayores porcentajes de grasa. El grupo negro, con 6 mamíferos, cuyas leches tienen porcentajes intermedios de agua (60 a 75%) y grasa (12 a 22%). Y luego el grupo verde, el mas común, con 17 mamíferos, cuyas leches tienen mas de 75% de agua y menos de 10% de grasa. Las otras variables no permiten discriminar completamente los 3 grupos definidos."
   ]
  },
  {
   "cell_type": "code",
   "execution_count": 367,
   "metadata": {
    "vscode": {
     "languageId": "r"
    }
   },
   "outputs": [
    {
     "name": "stdout",
     "output_type": "stream",
     "text": [
      "Call:\n",
      "princomp(x = datos, cor = TRUE)\n",
      "\n",
      "Standard deviations:\n",
      "    Comp.1     Comp.2     Comp.3     Comp.4     Comp.5 \n",
      "1.96946572 0.94201777 0.35905327 0.31397620 0.07941651 \n",
      "\n",
      " 5  variables and  25 observations.\n"
     ]
    },
    {
     "data": {
      "text/html": [
       "<table>\n",
       "<thead><tr><th scope=col>Comp.1</th><th scope=col>Comp.2</th><th scope=col>Comp.3</th><th scope=col>Comp.4</th><th scope=col>Comp.5</th></tr></thead>\n",
       "<tbody>\n",
       "\t<tr><td> 1.243827   </td><td> 0.0248324  </td><td> 0.07949783 </td><td>-0.02299768 </td><td> 0.004865841</td></tr>\n",
       "\t<tr><td>-3.831081   </td><td>-2.2408320  </td><td> 0.09790001 </td><td>-0.02910750 </td><td>-0.029457957</td></tr>\n",
       "\t<tr><td>-1.748439   </td><td> 0.5834780  </td><td>-0.20968076 </td><td> 0.06088255 </td><td>-0.002705362</td></tr>\n",
       "</tbody>\n",
       "</table>\n"
      ],
      "text/latex": [
       "\\begin{tabular}{r|lllll}\n",
       " Comp.1 & Comp.2 & Comp.3 & Comp.4 & Comp.5\\\\\n",
       "\\hline\n",
       "\t  1.243827    &  0.0248324   &  0.07949783  & -0.02299768  &  0.004865841\\\\\n",
       "\t -3.831081    & -2.2408320   &  0.09790001  & -0.02910750  & -0.029457957\\\\\n",
       "\t -1.748439    &  0.5834780   & -0.20968076  &  0.06088255  & -0.002705362\\\\\n",
       "\\end{tabular}\n"
      ],
      "text/markdown": [
       "\n",
       "| Comp.1 | Comp.2 | Comp.3 | Comp.4 | Comp.5 |\n",
       "|---|---|---|---|---|\n",
       "|  1.243827    |  0.0248324   |  0.07949783  | -0.02299768  |  0.004865841 |\n",
       "| -3.831081    | -2.2408320   |  0.09790001  | -0.02910750  | -0.029457957 |\n",
       "| -1.748439    |  0.5834780   | -0.20968076  |  0.06088255  | -0.002705362 |\n",
       "\n"
      ],
      "text/plain": [
       "  Comp.1    Comp.2     Comp.3      Comp.4      Comp.5      \n",
       "1  1.243827  0.0248324  0.07949783 -0.02299768  0.004865841\n",
       "2 -3.831081 -2.2408320  0.09790001 -0.02910750 -0.029457957\n",
       "3 -1.748439  0.5834780 -0.20968076  0.06088255 -0.002705362"
      ]
     },
     "metadata": {},
     "output_type": "display_data"
    },
    {
     "data": {
      "text/plain": [
       "K-means clustering with 3 clusters of sizes 16, 2, 7\n",
       "\n",
       "Cluster means:\n",
       "     WATER   PROTEIN      FAT  LACTOSE      ASH\n",
       "1 86.06250  4.275000  4.17500 5.118750 0.635625\n",
       "2 45.65000 10.150000 38.45000 0.450000 0.690000\n",
       "3 69.47143  9.514286 16.28571 2.928571 1.432857\n",
       "\n",
       "Clustering vector:\n",
       "     HORSE  ORANGUTAN     MONKEY     DONKEY      HIPPO      CAMEL      BISON \n",
       "         1          1          1          1          1          1          1 \n",
       "   BUFFALO GUINEA_PIG        CAT        FOX      LLAMA       MULE        PIG \n",
       "         1          1          1          1          1          1          1 \n",
       "     ZEBRA      SHEEP        DOG   ELEPHANT     RABBIT        RAT       DEER \n",
       "         1          1          3          3          3          3          3 \n",
       "  REINDEER      WHALE       SEAL    DOLPHIN \n",
       "         3          3          2          2 \n",
       "\n",
       "Within cluster sum of squares by cluster:\n",
       "[1] 377.2215  27.1912 299.9911\n",
       " (between_SS / total_SS =  89.9 %)\n",
       "\n",
       "Available components:\n",
       "\n",
       "[1] \"cluster\"      \"centers\"      \"totss\"        \"withinss\"     \"tot.withinss\"\n",
       "[6] \"betweenss\"    \"size\"         \"iter\"         \"ifault\"      "
      ]
     },
     "metadata": {},
     "output_type": "display_data"
    },
    {
     "data": {
      "image/png": "[encoded data removed]",
      "text/plain": [
       "Plot with title \"res\""
      ]
     },
     "metadata": {},
     "output_type": "display_data"
    },
    {
     "data": {
      "image/png": "[encoded data removed]",
      "text/plain": [
       "plot without title"
      ]
     },
     "metadata": {},
     "output_type": "display_data"
    }
   ],
   "source": [
    "#Análisis de Componentes Principales para graficar los grupos obtenidos\n",
    "#Calcula plano de componentes principales y grafica las observaciones con el número de su grupo\n",
    "res <- princomp(datos, cor=TRUE)\n",
    "print(res)\n",
    "plot(res)\n",
    "res2 <- predict(res,cl$centers)\n",
    "res2\n",
    "cl\n",
    "biplot(res,xlabs=cl$cluster)\n",
    "#grafica los centros de cada grupo en el plano de componentes principales utilizando colores distintos\n",
    "points(res2[,1:2],col=1:k0,pch=19)\n"
   ]
  },
  {
   "cell_type": "markdown",
   "metadata": {},
   "source": [
    "La representación de los grupos en el primer plano principal nos permite distinguir que el grupo 3 representa a los individuos con mayores valores de FAT, mientras corresponde a los mamíferos con mayores porcentajes de agua y lactosa y por otra parte el grupo 2 contiene mamíferos con mayores porcentajes de proteína y calcio (a excepción de un caso)."
   ]
  },
  {
   "cell_type": "code",
   "execution_count": 368,
   "metadata": {
    "vscode": {
     "languageId": "r"
    }
   },
   "outputs": [
    {
     "data": {
      "image/png": "[encoded data removed]",
      "text/plain": [
       "Plot with title \"J v/s k en k-means\""
      ]
     },
     "metadata": {},
     "output_type": "display_data"
    }
   ],
   "source": [
    "#Estrategia para elegir K, el numero de grupos\n",
    "#J suma cuadrado de las distancias por cada k utilizado\n",
    "#K-means\n",
    "J <- rep(0,20)\n",
    "fin_iter <- 20\n",
    "\n",
    "\n",
    "for (k in 1:fin_iter){\n",
    "     cl<-kmeans(datos,k,iter.max=1000,nstart=10)\n",
    "\tJ[k]<-cl$tot.withinss\n",
    "}\n",
    "\n",
    "#Grafica\n",
    "plot(1:fin_iter,J,xlab=\"k\",ylab=\"J\",type=\"p\",main=\"J v/s k en k-means\",col=2) "
   ]
  },
  {
   "cell_type": "markdown",
   "metadata": {},
   "source": [
    "**Ejercicio 1:** \n",
    "1. De acuerdo al gráfico obtenido, cuál es el valor de K mas apropiado? Agregue código para automatizar este criterio.\n",
    "2. Caracterice los grupos obtenidos con el K óptimo. Interprete sus resultados"
   ]
  },
  {
   "cell_type": "code",
   "execution_count": 369,
   "metadata": {
    "vscode": {
     "languageId": "r"
    }
   },
   "outputs": [],
   "source": [
    "J <- rep(0,20)\n",
    "fin_iter <- 20\n",
    "#hasta donde la funcion de perdida va decreciendo\n",
    "\n",
    "for (k in 1:fin_iter){\n",
    "     cl<-kmeans(datos,k,iter.max=2000,nstart=10)\n",
    "\tJ[k]<-cl$tot.withinss\n",
    "}"
   ]
  },
  {
   "cell_type": "code",
   "execution_count": 370,
   "metadata": {
    "vscode": {
     "languageId": "r"
    }
   },
   "outputs": [
    {
     "name": "stdout",
     "output_type": "stream",
     "text": [
      "[1] 4818.2662 1482.4192  362.5183\n",
      " [1] \"J:  7005.089144\"      \"J:  2186.82291397059\" \"J:  704.403725892857\"\n",
      " [4] \"J:  341.885447619048\" \"J:  212.504458333333\" \"J:  141.106116666667\"\n",
      " [7] \"J:  109.515408333333\" \"J:  87.337075\"        \"J:  76.3526616666667\"\n",
      "[10] \"J:  58.120875\"        \"J:  38.976595\"        \"J:  38.3444666666667\"\n",
      "[13] \"J:  30.0595833333333\" \"J:  24.9847033333334\" \"J:  18.7884\"         \n",
      "[16] \"J:  19.5479\"          \"J:  15.0565666666667\" \"J:  7.58033333333335\"\n",
      "[19] \"J:  7.09066666666667\" \"J:  5.49865000000001\"\n",
      " [1] \"difJ 1\"                  \"difJ 4818.26623002941\"  \n",
      " [3] \"difJ 1482.41918807773\"   \"difJ 362.51827827381\"   \n",
      " [5] \"difJ 129.380989285714\"   \"difJ 71.3983416666667\"  \n",
      " [7] \"difJ 31.5907083333333\"   \"difJ 22.1783333333333\"  \n",
      " [9] \"difJ 10.9844133333333\"   \"difJ 18.2317866666667\"  \n",
      "[11] \"difJ 19.14428\"           \"difJ 0.632128333333327\" \n",
      "[13] \"difJ 8.28488333333334\"   \"difJ 5.07487999999999\"  \n",
      "[15] \"difJ 6.19630333333334\"   \"difJ -0.759499999999996\"\n",
      "[17] \"difJ 1\"                  \"difJ 1\"                 \n",
      "[19] \"difJ 1\"                  \"difJ 1\"                 \n",
      " [1] \"ratio 0\"                 \"ratio 1\"                \n",
      " [3] \"ratio 1\"                 \"ratio 4.08922605264627\" \n",
      " [5] \"ratio 2.80194393531227\"  \"ratio 1.81210076124384\" \n",
      " [7] \"ratio 2.26010575366966\"  \"ratio 1.42439505523409\" \n",
      " [9] \"ratio 2.01907308659179\"  \"ratio 0.602486938562978\"\n",
      "[11] \"ratio 1\"                 \"ratio 1\"                \n",
      "[13] \"ratio 1\"                 \"ratio 1\"                \n",
      "[15] \"ratio 0.819017360350874\" \"ratio 0\"                \n",
      "[17] \"ratio 0\"                 \"ratio 0\"                \n",
      "[19] \"ratio 0\"                 \"ratio 0\"                \n",
      " [1] 3 0 0 0 0 0 0 0 0 0 0 0 0 0 0 0 0 0 0 0\n",
      "[1] \"El valor de k más optimo es :  3\"\n"
     ]
    }
   ],
   "source": [
    "#       (1.1)\n",
    "\n",
    "# De acuerdo al gráfico y considerando la \"forma de codo\" el valor más apropiado se encuentra entre K = 3 y K = 4\n",
    "# En término del costo que supone agregar 1 a K es más llamativo K = 3, ya que su rendimiento no parece mejorar tanto desde K = 3 a K = 4,\n",
    "# Como lo hace de K = 1 hacia K = 2, o desde K = 2 hacia K = 3;\n",
    "\n",
    "# Por esos motivos, consideramos K = 3  como el más apropiado\n",
    "\n",
    "\n",
    "#       (1.1)\n",
    "\n",
    "# Planteamiento: Dado que la Función de pérdida va disminuyendo a medida que K aumenta\n",
    "# Debemos crear una función capaz de discernir una diferencia optima con los datos dados,\n",
    "# para ello recorreremos en completitud el arreglo dado, ya que al tratarse de un 'mejor valor'\n",
    "# debemos recorrer todo para estar seguros que es el optimo, pese a saber que si K es creciente,\n",
    "# la función de perdida disminuye.\n",
    "\n",
    "# Para el codigo consideraremos la misma variable que se usó para graficar\n",
    "# cluster$tot.withinss\n",
    "\n",
    "# Basicamente es la suma de cuadrados de forma conjunta de los grupos\n",
    "# De esta forma, mientras mayor es el valor de cluster$tot.withinss, sabremos que estamos lejos de un optimo\n",
    "# Ya que representa la distancia de los grupos frente a la 'X' que rodean, siendo 'X' un punto de referencia para la agrupacion\n",
    "\n",
    "\n",
    "# Considerando las declaraciones de variables anteriores tenemos:\n",
    "# Arreglo J relleno con valores de funcion de pérdida, de largo 20, con K = i; tal que i es ascendente [1,20]\n",
    "fin_iter <- 20\n",
    "\n",
    "difJ <- rep (1,20) # Almacenará las diferencias de J, dejando la primera celda sin usar\n",
    "\n",
    "# Sabemos que J[1] > J[2]\n",
    "# Buscamos dejar difJ de forma: [ /, J[1] - J[2], J[2] - J[3], ... , J[k-1]-J[k]]\n",
    "difJ[2] <- J[1] - J[2]\n",
    "\n",
    "ratio <- rep(0,20) # Almacenará el ratio o disparidad, dependerá de difJ[k-1]/difJ[k]  ; K = 3 -> (J[1] - J[2]) / (J[2] - J[3])\n",
    "ratio[2] <- difJ[1]/difJ[2]\n",
    "# Nosotros buscamos una diferencia importante con respecto a las diferencias anteriores\n",
    "# Esto significaria que ratio[k], sea el ratio más grande entre todas las diferencias generadas\n",
    "\n",
    "k_optimo <- 1\n",
    "ratio_Actual <- 1\n",
    "\n",
    "k_selected <- rep(0,20)\n",
    "i<-1\n",
    "\n",
    "for (k in 3:fin_iter){\n",
    "    \n",
    "    # Calculamos la diferencia descrita antes\n",
    "    difJ[k] <- J[k-1]-J[k]\n",
    "    \n",
    "    # Mientras exista una diferencia de J[k-1] - J[k] > 0 ; J[k-1] > J[k] ; que sea positiva\n",
    "    # También dado la gráfica, a medida que k asciende hay valores de J no garantizan lo anterior\n",
    "\n",
    "    if( (difJ[k] > 0) && (ratio[k-1] > 0) ){\n",
    "        \n",
    "        # Aprovechando el comportamiento del grafico (mientras k aumenta J disminuye)\n",
    "        # Si se descubre que el valor medio de entre 3 valores ya calculados se tratá de un máximo (esto es un pick pequeño)\n",
    "        # Entonces se regula \n",
    "        # Ej: J[17] = 14.38805 J[18] = 7.35305000000001 J[19] = 11.4049833333333\n",
    "        if ( ( (J[k-2] < J[k-1]) && (J[k-1] > J[k]) ) || ( (difJ[k-2] < difJ[k-1]) && (difJ[k-1] > difJ[k]) ) ){\n",
    "            ratio[k-1] <- 1\n",
    "            ratio[k] <- 1\n",
    "        }\n",
    "        #Si la curva permanece drececiente, entonces hace el calculo normal\n",
    "        else{\n",
    "\n",
    "            #Calcula el nuevo ratio\n",
    "            ratio[k] <- difJ[k-1]/difJ[k]\n",
    "\n",
    "            if (ratio[k] > ratio_Actual){\n",
    "                print(c(difJ[k-2],difJ[k-1],difJ[k]))\n",
    "                ratio_Actual <- ratio[k]\n",
    "                k_optimo <- k-1\n",
    "                k_selected[i] <- k_optimo\n",
    "                i <- i+1\n",
    "            }\n",
    "        }\n",
    "    }else{break}    \n",
    "}\n",
    "\n",
    "print(paste(\"J: \",J))\n",
    "print(paste(\"difJ\",difJ))\n",
    "print(paste(\"ratio\",ratio))\n",
    "print(k_selected)\n",
    "\n",
    "print(paste(\"El valor de k más optimo es : \", k_optimo))\n"
   ]
  },
  {
   "cell_type": "code",
   "execution_count": 371,
   "metadata": {
    "vscode": {
     "languageId": "r"
    }
   },
   "outputs": [
    {
     "name": "stdout",
     "output_type": "stream",
     "text": [
      "     HORSE  ORANGUTAN     MONKEY     DONKEY      HIPPO      CAMEL      BISON \n",
      "         1          1          1          1          1          1          1 \n",
      "   BUFFALO GUINEA_PIG        CAT        FOX      LLAMA       MULE        PIG \n",
      "         1          1          1          1          1          1          1 \n",
      "     ZEBRA      SHEEP        DOG   ELEPHANT     RABBIT        RAT       DEER \n",
      "         1          1          2          2          2          2          2 \n",
      "  REINDEER      WHALE       SEAL    DOLPHIN \n",
      "         2          2          3          3 \n"
     ]
    },
    {
     "data": {
      "text/html": [
       "<table>\n",
       "<thead><tr><th></th><th scope=col>WATER</th><th scope=col>PROTEIN</th><th scope=col>FAT</th><th scope=col>LACTOSE</th><th scope=col>ASH</th></tr></thead>\n",
       "<tbody>\n",
       "\t<tr><th scope=row>Min.</th><td>81.6000 </td><td> 0.600  </td><td>1.000   </td><td>2.70000 </td><td>0.100000</td></tr>\n",
       "\t<tr><th scope=row>1st Qu.</th><td>82.0750 </td><td> 2.150  </td><td>2.475   </td><td>4.62500 </td><td>0.387500</td></tr>\n",
       "\t<tr><th scope=row>Median</th><td>86.7000 </td><td> 3.700  </td><td>4.000   </td><td>5.10000 </td><td>0.730000</td></tr>\n",
       "\t<tr><th scope=row>Mean</th><td>86.0625 </td><td> 4.275  </td><td>4.175   </td><td>5.11875 </td><td>0.635625</td></tr>\n",
       "\t<tr><th scope=row>3rd Qu.</th><td>88.8750 </td><td> 6.075  </td><td>6.000   </td><td>5.77500 </td><td>0.862500</td></tr>\n",
       "\t<tr><th scope=row>Max.</th><td>90.4000 </td><td>10.100  </td><td>7.900   </td><td>6.90000 </td><td>1.100000</td></tr>\n",
       "</tbody>\n",
       "</table>\n"
      ],
      "text/latex": [
       "\\begin{tabular}{r|lllll}\n",
       "  & WATER & PROTEIN & FAT & LACTOSE & ASH\\\\\n",
       "\\hline\n",
       "\tMin. & 81.6000  &  0.600   & 1.000    & 2.70000  & 0.100000\\\\\n",
       "\t1st Qu. & 82.0750  &  2.150   & 2.475    & 4.62500  & 0.387500\\\\\n",
       "\tMedian & 86.7000  &  3.700   & 4.000    & 5.10000  & 0.730000\\\\\n",
       "\tMean & 86.0625  &  4.275   & 4.175    & 5.11875  & 0.635625\\\\\n",
       "\t3rd Qu. & 88.8750  &  6.075   & 6.000    & 5.77500  & 0.862500\\\\\n",
       "\tMax. & 90.4000  & 10.100   & 7.900    & 6.90000  & 1.100000\\\\\n",
       "\\end{tabular}\n"
      ],
      "text/markdown": [
       "\n",
       "| <!--/--> | WATER | PROTEIN | FAT | LACTOSE | ASH |\n",
       "|---|---|---|---|---|---|\n",
       "| Min. | 81.6000  |  0.600   | 1.000    | 2.70000  | 0.100000 |\n",
       "| 1st Qu. | 82.0750  |  2.150   | 2.475    | 4.62500  | 0.387500 |\n",
       "| Median | 86.7000  |  3.700   | 4.000    | 5.10000  | 0.730000 |\n",
       "| Mean | 86.0625  |  4.275   | 4.175    | 5.11875  | 0.635625 |\n",
       "| 3rd Qu. | 88.8750  |  6.075   | 6.000    | 5.77500  | 0.862500 |\n",
       "| Max. | 90.4000  | 10.100   | 7.900    | 6.90000  | 1.100000 |\n",
       "\n"
      ],
      "text/plain": [
       "        WATER   PROTEIN FAT   LACTOSE ASH     \n",
       "Min.    81.6000  0.600  1.000 2.70000 0.100000\n",
       "1st Qu. 82.0750  2.150  2.475 4.62500 0.387500\n",
       "Median  86.7000  3.700  4.000 5.10000 0.730000\n",
       "Mean    86.0625  4.275  4.175 5.11875 0.635625\n",
       "3rd Qu. 88.8750  6.075  6.000 5.77500 0.862500\n",
       "Max.    90.4000 10.100  7.900 6.90000 1.100000"
      ]
     },
     "metadata": {},
     "output_type": "display_data"
    },
    {
     "data": {
      "text/html": [
       "<table>\n",
       "<thead><tr><th></th><th scope=col>WATER</th><th scope=col>PROTEIN</th><th scope=col>FAT</th><th scope=col>LACTOSE</th><th scope=col>ASH</th></tr></thead>\n",
       "<tbody>\n",
       "\t<tr><th scope=row>Min.</th><td>64.80000 </td><td> 3.600000</td><td> 9.50000 </td><td>1.600000 </td><td>0.630000 </td></tr>\n",
       "\t<tr><th scope=row>1st Qu.</th><td>65.35000 </td><td> 9.250000</td><td>12.85000 </td><td>2.200000 </td><td>1.300000 </td></tr>\n",
       "\t<tr><th scope=row>Median</th><td>70.70000 </td><td>10.400000</td><td>17.60000 </td><td>2.600000 </td><td>1.400000 </td></tr>\n",
       "\t<tr><th scope=row>Mean</th><td>69.47143 </td><td> 9.514286</td><td>16.28571 </td><td>2.928571 </td><td>1.432857 </td></tr>\n",
       "\t<tr><th scope=row>3rd Qu.</th><td>71.90000 </td><td>10.900000</td><td>20.00000 </td><td>3.150000 </td><td>1.550000 </td></tr>\n",
       "\t<tr><th scope=row>Max.</th><td>76.30000 </td><td>12.300000</td><td>21.20000 </td><td>5.600000 </td><td>2.300000 </td></tr>\n",
       "</tbody>\n",
       "</table>\n"
      ],
      "text/latex": [
       "\\begin{tabular}{r|lllll}\n",
       "  & WATER & PROTEIN & FAT & LACTOSE & ASH\\\\\n",
       "\\hline\n",
       "\tMin. & 64.80000  &  3.600000 &  9.50000  & 1.600000  & 0.630000 \\\\\n",
       "\t1st Qu. & 65.35000  &  9.250000 & 12.85000  & 2.200000  & 1.300000 \\\\\n",
       "\tMedian & 70.70000  & 10.400000 & 17.60000  & 2.600000  & 1.400000 \\\\\n",
       "\tMean & 69.47143  &  9.514286 & 16.28571  & 2.928571  & 1.432857 \\\\\n",
       "\t3rd Qu. & 71.90000  & 10.900000 & 20.00000  & 3.150000  & 1.550000 \\\\\n",
       "\tMax. & 76.30000  & 12.300000 & 21.20000  & 5.600000  & 2.300000 \\\\\n",
       "\\end{tabular}\n"
      ],
      "text/markdown": [
       "\n",
       "| <!--/--> | WATER | PROTEIN | FAT | LACTOSE | ASH |\n",
       "|---|---|---|---|---|---|\n",
       "| Min. | 64.80000  |  3.600000 |  9.50000  | 1.600000  | 0.630000  |\n",
       "| 1st Qu. | 65.35000  |  9.250000 | 12.85000  | 2.200000  | 1.300000  |\n",
       "| Median | 70.70000  | 10.400000 | 17.60000  | 2.600000  | 1.400000  |\n",
       "| Mean | 69.47143  |  9.514286 | 16.28571  | 2.928571  | 1.432857  |\n",
       "| 3rd Qu. | 71.90000  | 10.900000 | 20.00000  | 3.150000  | 1.550000  |\n",
       "| Max. | 76.30000  | 12.300000 | 21.20000  | 5.600000  | 2.300000  |\n",
       "\n"
      ],
      "text/plain": [
       "        WATER    PROTEIN   FAT      LACTOSE  ASH     \n",
       "Min.    64.80000  3.600000  9.50000 1.600000 0.630000\n",
       "1st Qu. 65.35000  9.250000 12.85000 2.200000 1.300000\n",
       "Median  70.70000 10.400000 17.60000 2.600000 1.400000\n",
       "Mean    69.47143  9.514286 16.28571 2.928571 1.432857\n",
       "3rd Qu. 71.90000 10.900000 20.00000 3.150000 1.550000\n",
       "Max.    76.30000 12.300000 21.20000 5.600000 2.300000"
      ]
     },
     "metadata": {},
     "output_type": "display_data"
    },
    {
     "data": {
      "text/html": [
       "<table>\n",
       "<thead><tr><th></th><th scope=col>WATER</th><th scope=col>PROTEIN</th><th scope=col>FAT</th><th scope=col>LACTOSE</th><th scope=col>ASH</th></tr></thead>\n",
       "<tbody>\n",
       "\t<tr><th scope=row>Min.</th><td>44.900</td><td> 9.700</td><td>34.900</td><td>0.000 </td><td>0.53  </td></tr>\n",
       "\t<tr><th scope=row>1st Qu.</th><td>45.275</td><td> 9.925</td><td>36.675</td><td>0.225 </td><td>0.61  </td></tr>\n",
       "\t<tr><th scope=row>Median</th><td>45.650</td><td>10.150</td><td>38.450</td><td>0.450 </td><td>0.69  </td></tr>\n",
       "\t<tr><th scope=row>Mean</th><td>45.650</td><td>10.150</td><td>38.450</td><td>0.450 </td><td>0.69  </td></tr>\n",
       "\t<tr><th scope=row>3rd Qu.</th><td>46.025</td><td>10.375</td><td>40.225</td><td>0.675 </td><td>0.77  </td></tr>\n",
       "\t<tr><th scope=row>Max.</th><td>46.400</td><td>10.600</td><td>42.000</td><td>0.900 </td><td>0.85  </td></tr>\n",
       "</tbody>\n",
       "</table>\n"
      ],
      "text/latex": [
       "\\begin{tabular}{r|lllll}\n",
       "  & WATER & PROTEIN & FAT & LACTOSE & ASH\\\\\n",
       "\\hline\n",
       "\tMin. & 44.900 &  9.700 & 34.900 & 0.000  & 0.53  \\\\\n",
       "\t1st Qu. & 45.275 &  9.925 & 36.675 & 0.225  & 0.61  \\\\\n",
       "\tMedian & 45.650 & 10.150 & 38.450 & 0.450  & 0.69  \\\\\n",
       "\tMean & 45.650 & 10.150 & 38.450 & 0.450  & 0.69  \\\\\n",
       "\t3rd Qu. & 46.025 & 10.375 & 40.225 & 0.675  & 0.77  \\\\\n",
       "\tMax. & 46.400 & 10.600 & 42.000 & 0.900  & 0.85  \\\\\n",
       "\\end{tabular}\n"
      ],
      "text/markdown": [
       "\n",
       "| <!--/--> | WATER | PROTEIN | FAT | LACTOSE | ASH |\n",
       "|---|---|---|---|---|---|\n",
       "| Min. | 44.900 |  9.700 | 34.900 | 0.000  | 0.53   |\n",
       "| 1st Qu. | 45.275 |  9.925 | 36.675 | 0.225  | 0.61   |\n",
       "| Median | 45.650 | 10.150 | 38.450 | 0.450  | 0.69   |\n",
       "| Mean | 45.650 | 10.150 | 38.450 | 0.450  | 0.69   |\n",
       "| 3rd Qu. | 46.025 | 10.375 | 40.225 | 0.675  | 0.77   |\n",
       "| Max. | 46.400 | 10.600 | 42.000 | 0.900  | 0.85   |\n",
       "\n"
      ],
      "text/plain": [
       "        WATER  PROTEIN FAT    LACTOSE ASH \n",
       "Min.    44.900  9.700  34.900 0.000   0.53\n",
       "1st Qu. 45.275  9.925  36.675 0.225   0.61\n",
       "Median  45.650 10.150  38.450 0.450   0.69\n",
       "Mean    45.650 10.150  38.450 0.450   0.69\n",
       "3rd Qu. 46.025 10.375  40.225 0.675   0.77\n",
       "Max.    46.400 10.600  42.000 0.900   0.85"
      ]
     },
     "metadata": {},
     "output_type": "display_data"
    }
   ],
   "source": [
    "#Utilizando el k optimo obtenido anteriormente:\n",
    "cl<-kmeans(datos,3,iter.max=1000,nstart=10)\n",
    "print(cl$cluster)\n",
    "apply(datos[cl$cluster==1,],2,summary)\n",
    "apply(datos[cl$cluster==2,],2,summary)\n",
    "apply(datos[cl$cluster==3,],2,summary)\n"
   ]
  },
  {
   "cell_type": "code",
   "execution_count": 372,
   "metadata": {
    "vscode": {
     "languageId": "r"
    }
   },
   "outputs": [
    {
     "data": {
      "text/plain": [
       "K-means clustering with 3 clusters of sizes 16, 7, 2\n",
       "\n",
       "Cluster means:\n",
       "     WATER   PROTEIN      FAT  LACTOSE      ASH\n",
       "1 86.06250  4.275000  4.17500 5.118750 0.635625\n",
       "2 69.47143  9.514286 16.28571 2.928571 1.432857\n",
       "3 45.65000 10.150000 38.45000 0.450000 0.690000\n",
       "\n",
       "Clustering vector:\n",
       "     HORSE  ORANGUTAN     MONKEY     DONKEY      HIPPO      CAMEL      BISON \n",
       "         1          1          1          1          1          1          1 \n",
       "   BUFFALO GUINEA_PIG        CAT        FOX      LLAMA       MULE        PIG \n",
       "         1          1          1          1          1          1          1 \n",
       "     ZEBRA      SHEEP        DOG   ELEPHANT     RABBIT        RAT       DEER \n",
       "         1          1          2          2          2          2          2 \n",
       "  REINDEER      WHALE       SEAL    DOLPHIN \n",
       "         2          2          3          3 \n",
       "\n",
       "Within cluster sum of squares by cluster:\n",
       "[1] 377.2215 299.9911  27.1912\n",
       " (between_SS / total_SS =  89.9 %)\n",
       "\n",
       "Available components:\n",
       "\n",
       "[1] \"cluster\"      \"centers\"      \"totss\"        \"withinss\"     \"tot.withinss\"\n",
       "[6] \"betweenss\"    \"size\"         \"iter\"         \"ifault\"      "
      ]
     },
     "metadata": {},
     "output_type": "display_data"
    },
    {
     "data": {
      "text/plain": [
       "     WATER          PROTEIN            FAT           LACTOSE     \n",
       " Min.   :44.90   Min.   : 0.600   Min.   : 1.00   Min.   :0.000  \n",
       " 1st Qu.:71.30   1st Qu.: 3.000   1st Qu.: 3.40   1st Qu.:2.700  \n",
       " Median :82.00   Median : 5.900   Median : 6.30   Median :4.700  \n",
       " Mean   :78.18   Mean   : 6.212   Mean   :10.31   Mean   :4.132  \n",
       " 3rd Qu.:87.70   3rd Qu.: 9.700   3rd Qu.:13.10   3rd Qu.:5.600  \n",
       " Max.   :90.40   Max.   :12.300   Max.   :42.00   Max.   :6.900  \n",
       "      ASH        \n",
       " Min.   :0.1000  \n",
       " 1st Qu.:0.5300  \n",
       " Median :0.8000  \n",
       " Mean   :0.8632  \n",
       " 3rd Qu.:1.1000  \n",
       " Max.   :2.3000  "
      ]
     },
     "metadata": {},
     "output_type": "display_data"
    },
    {
     "data": {
      "text/html": [
       "<ol class=list-inline>\n",
       "\t<li>25</li>\n",
       "\t<li>5</li>\n",
       "</ol>\n"
      ],
      "text/latex": [
       "\\begin{enumerate*}\n",
       "\\item 25\n",
       "\\item 5\n",
       "\\end{enumerate*}\n"
      ],
      "text/markdown": [
       "1. 25\n",
       "2. 5\n",
       "\n",
       "\n"
      ],
      "text/plain": [
       "[1] 25  5"
      ]
     },
     "metadata": {},
     "output_type": "display_data"
    },
    {
     "data": {
      "image/png": "[encoded data removed]",
      "text/plain": [
       "plot without title"
      ]
     },
     "metadata": {},
     "output_type": "display_data"
    }
   ],
   "source": [
    "#       (1.2)\n",
    "\n",
    "# Caracterizar los datos\n",
    "# cl$cluster muestra a qué grupo pertenecen los datos\n",
    "cl # muestra toda la info\n",
    "\n",
    "# NOTA: ESTA INFORMACIÓN PUEDE CAMBIAR SEGÚN LA EJECUCIÓN YA QUE DEPENDE DE UN VALOR ALEATORIO\n",
    "# AUNQUE LOS DATOS DEBIESEN, GENERALMENTE, MANTENERSE EN LOS MISMOS GRUPOS (puede que su número de grupo cambie)\n",
    "\n",
    "#        DOG   ELEPHANT     RABBIT        RAT       DEER    REINDEER      WHALE\n",
    "#          1          1          1          1          1           1          1       \n",
    "    \n",
    "\n",
    "#       SEAL    DOLPHIN \n",
    "#          2          2 \n",
    "\n",
    "#      HORSE  ORANGUTAN     MONKEY     DONKEY      HIPPO      CAMEL      BISON \n",
    "#          3          3          3          3          3          3          3 \n",
    "#    BUFFALO GUINEA_PIG        CAT        FOX      LLAMA       MULE        PIG \n",
    "#          3          3          3          3          3          3          3 \n",
    "#      ZEBRA      SHEEP       \n",
    "#          3          3       \n",
    "\n",
    "#      WATER   PROTEIN      FAT  LACTOSE      ASH\n",
    "# 1 69.47143  9.514286 16.28571 2.928571 1.432857\n",
    "# 2 45.65000 10.150000 38.45000 0.450000 0.690000\n",
    "# 3 86.06250  4.275000  4.17500 5.118750 0.635625\n",
    "\n",
    "# Los valores más cambiantes (en base al boxplot) son Agua, Grasa y Proteina\n",
    "\n",
    "# 2 animales\n",
    "# Considerando el grupo más pequeño son Seal y Dolphin, podemos observar que en todos los datos se encuentran más alejados del resto de animales\n",
    "# Siendo el grupo con menor porcentaje de Agua con 45.65% y mayor Grasa con 38.45%\n",
    "# También corresponden al grupo con mayor % de Proteina, siendo levemente superior al 2do puesto, con un 10.15%\n",
    "\n",
    "# En el segundo grupo por tamaño, (Dog, Elephant, rabbit, rat, deer, reindeer, whale) - 7 animales\n",
    "# Tenemos que están en 2do lugar en % de Agua (69.47%), Proteina (9.5%) y Grasa (16.28%)\n",
    "# Esta información acompañada del gráfico pairs podemos ver que este grupo\n",
    "# Aproximadamente tiene los siguientes porcentajes:\n",
    "# Los porcentajes de Agua fluctúan por un 60 y 78 porciento\n",
    "# Los porcentajes de Proteina fluctúan por un 8 a 12 porciento\n",
    "# Los porcentajes de Grasa entre un 10 y 23 porciento\n",
    "\n",
    "# En el tercer grupo por tamaño tenemos cerca de 16 aniamles\n",
    "# Los cuales muestran una clara tendencia en % de Agua, siendo el mayor grupo con valores que fluctúan entre el 80 y 95 porciento, bastante superior a los anteriores\n",
    "# Los valores de Porteina son bastante más bajo, siendo el peor entre los 3 grupos, con valores entre 1 y 10 porciento, con mayor concentración de valores cercano al 3 y 4%\n",
    "# En cuanto a la Grasa es el grupo con menor % de grasa, en promedio con 4.17%, 12 % menos que el grupo con mayor % de grasa. Y los porcentajes de grasa varian entre 1 y 10 porciento\n",
    "\n",
    "# De toda esta información se puede asegurar que hay distinciones claras entre los grupos\n",
    "# Como datos los más significativos son % de Agua y % de Grasa, la Proteina no permite diferenciar del todo al grupo más pequeño y mediano\n",
    "# Y aunque no se consideró, la Lactosa puede ser una variable a evaluar dado que en el gráfico si se puede ver una distinción entre estos grupos\n",
    "\n",
    "#Reutilizando el código dado,\n",
    "datos <-read.table(\"milk1.dat\",row.names=1,dec=\".\",header=TRUE)\n",
    "summary(datos)\n",
    "dim(datos)\n",
    "#ingresar valor de k0 \n",
    "k0=3\n",
    "cl<-kmeans(datos,k0,iter.max=1000,nstart=10)\n",
    "#grafica los datos coloreados con el grupo asignado en planos de pares de variables\n",
    "pairs(datos,col=cl$cluster)\n"
   ]
  },
  {
   "cell_type": "markdown",
   "metadata": {},
   "source": [
    "**Ejercicio 2:** Realice un análisis de clustering con un subconjunto de datos de comunas.csv (puede escoger variables (al menos 5) y comunas (al menos 30) indicando el criterio utilizado en su elección.\n",
    "\n",
    "1. Describa los datos y discuta la pertinencia de realizar un análisis de clustering o agrupamiento\n",
    "2. Utilice k-means para realizar el clustering de los datos y calcule el K óptimo. \n",
    "3. Caracterice los grupos obtenidos con el K óptimo. Interprete sus resultados\n"
   ]
  },
  {
   "cell_type": "code",
   "execution_count": 373,
   "metadata": {
    "vscode": {
     "languageId": "r"
    }
   },
   "outputs": [
    {
     "data": {
      "text/html": [
       "<ol class=list-inline>\n",
       "\t<li>323</li>\n",
       "\t<li>13</li>\n",
       "</ol>\n"
      ],
      "text/latex": [
       "\\begin{enumerate*}\n",
       "\\item 323\n",
       "\\item 13\n",
       "\\end{enumerate*}\n"
      ],
      "text/markdown": [
       "1. 323\n",
       "2. 13\n",
       "\n",
       "\n"
      ],
      "text/plain": [
       "[1] 323  13"
      ]
     },
     "metadata": {},
     "output_type": "display_data"
    },
    {
     "data": {
      "text/html": [
       "<table>\n",
       "<thead><tr><th></th><th scope=col>Regiï..n</th><th scope=col>Poblaciï..n..miles..2011</th><th scope=col>IDSE</th><th scope=col>Ingreso.per.cï..p..Mens..miles....2006.11</th><th scope=col>Pobreza...2006.11</th><th scope=col>Escolaridad..aï..os..2006.11</th><th scope=col>Material.Vivienda.bueno.o.acceptable...2006</th><th scope=col>Alcantarillado.o.Fosa.S.pt....2006</th><th scope=col>Esperanza.vida.al.nacer..aï..os..2005.10</th><th scope=col>X.ndice.Desarrollo.Humano</th><th scope=col>Tasa.AVPP.x.1000.h.2007.11</th><th scope=col>X..defunc..50..aï..os.2011</th><th scope=col>Mortalidad.Infantil.x.1000.NV.2009.11</th></tr></thead>\n",
       "<tbody>\n",
       "\t<tr><th scope=row>Iquique</th><td>1    </td><td>186.0</td><td>0.698</td><td>227.6</td><td>10.2 </td><td>11.1 </td><td>81.8 </td><td>98.8 </td><td>77.2 </td><td>0.631</td><td>82.1 </td><td>73.0 </td><td>8.9  </td></tr>\n",
       "\t<tr><th scope=row>Pica</th><td>1    </td><td> 18.6</td><td>0.604</td><td>188.1</td><td>12.2 </td><td> 9.6 </td><td>71.0 </td><td>94.0 </td><td>77.5 </td><td>0.572</td><td>23.0 </td><td>45.8 </td><td>9.8  </td></tr>\n",
       "\t<tr><th scope=row>Pozo Almonte</th><td>1    </td><td> 17.3</td><td>0.591</td><td>176.0</td><td> 9.8 </td><td> 9.7 </td><td>73.1 </td><td>83.5 </td><td>77.3 </td><td>0.574</td><td>44.3 </td><td>66.7 </td><td>7.1  </td></tr>\n",
       "\t<tr><th scope=row>Alto Hospicio</th><td>1    </td><td> 93.8</td><td>0.577</td><td>166.3</td><td>20.9 </td><td>10.1 </td><td>65.9 </td><td>98.4 </td><td>78.1 </td><td>0.555</td><td>46.7 </td><td>56.2 </td><td>4.9  </td></tr>\n",
       "\t<tr><th scope=row>Huara</th><td>1    </td><td>  3.4</td><td>0.382</td><td>161.4</td><td>10.0 </td><td> 7.6 </td><td>49.0 </td><td>38.9 </td><td>81.8 </td><td>0.592</td><td>55.8 </td><td>44.4 </td><td>8.9  </td></tr>\n",
       "\t<tr><th scope=row>Calama</th><td>2    </td><td>148.8</td><td>0.717</td><td>269.3</td><td> 8.5 </td><td>10.9 </td><td>85.0 </td><td>98.9 </td><td>76.2 </td><td>0.625</td><td>87.2 </td><td>63.4 </td><td>9.7  </td></tr>\n",
       "</tbody>\n",
       "</table>\n"
      ],
      "text/latex": [
       "\\begin{tabular}{r|lllllllllllll}\n",
       "  & Regiï..n & Poblaciï..n..miles..2011 & IDSE & Ingreso.per.cï..p..Mens..miles....2006.11 & Pobreza...2006.11 & Escolaridad..aï..os..2006.11 & Material.Vivienda.bueno.o.acceptable...2006 & Alcantarillado.o.Fosa.S.pt....2006 & Esperanza.vida.al.nacer..aï..os..2005.10 & X.ndice.Desarrollo.Humano & Tasa.AVPP.x.1000.h.2007.11 & X..defunc..50..aï..os.2011 & Mortalidad.Infantil.x.1000.NV.2009.11\\\\\n",
       "\\hline\n",
       "\tIquique & 1     & 186.0 & 0.698 & 227.6 & 10.2  & 11.1  & 81.8  & 98.8  & 77.2  & 0.631 & 82.1  & 73.0  & 8.9  \\\\\n",
       "\tPica & 1     &  18.6 & 0.604 & 188.1 & 12.2  &  9.6  & 71.0  & 94.0  & 77.5  & 0.572 & 23.0  & 45.8  & 9.8  \\\\\n",
       "\tPozo Almonte & 1     &  17.3 & 0.591 & 176.0 &  9.8  &  9.7  & 73.1  & 83.5  & 77.3  & 0.574 & 44.3  & 66.7  & 7.1  \\\\\n",
       "\tAlto Hospicio & 1     &  93.8 & 0.577 & 166.3 & 20.9  & 10.1  & 65.9  & 98.4  & 78.1  & 0.555 & 46.7  & 56.2  & 4.9  \\\\\n",
       "\tHuara & 1     &   3.4 & 0.382 & 161.4 & 10.0  &  7.6  & 49.0  & 38.9  & 81.8  & 0.592 & 55.8  & 44.4  & 8.9  \\\\\n",
       "\tCalama & 2     & 148.8 & 0.717 & 269.3 &  8.5  & 10.9  & 85.0  & 98.9  & 76.2  & 0.625 & 87.2  & 63.4  & 9.7  \\\\\n",
       "\\end{tabular}\n"
      ],
      "text/markdown": [
       "\n",
       "| <!--/--> | Regiï..n | Poblaciï..n..miles..2011 | IDSE | Ingreso.per.cï..p..Mens..miles....2006.11 | Pobreza...2006.11 | Escolaridad..aï..os..2006.11 | Material.Vivienda.bueno.o.acceptable...2006 | Alcantarillado.o.Fosa.S.pt....2006 | Esperanza.vida.al.nacer..aï..os..2005.10 | X.ndice.Desarrollo.Humano | Tasa.AVPP.x.1000.h.2007.11 | X..defunc..50..aï..os.2011 | Mortalidad.Infantil.x.1000.NV.2009.11 |\n",
       "|---|---|---|---|---|---|---|---|---|---|---|---|---|---|\n",
       "| Iquique | 1     | 186.0 | 0.698 | 227.6 | 10.2  | 11.1  | 81.8  | 98.8  | 77.2  | 0.631 | 82.1  | 73.0  | 8.9   |\n",
       "| Pica | 1     |  18.6 | 0.604 | 188.1 | 12.2  |  9.6  | 71.0  | 94.0  | 77.5  | 0.572 | 23.0  | 45.8  | 9.8   |\n",
       "| Pozo Almonte | 1     |  17.3 | 0.591 | 176.0 |  9.8  |  9.7  | 73.1  | 83.5  | 77.3  | 0.574 | 44.3  | 66.7  | 7.1   |\n",
       "| Alto Hospicio | 1     |  93.8 | 0.577 | 166.3 | 20.9  | 10.1  | 65.9  | 98.4  | 78.1  | 0.555 | 46.7  | 56.2  | 4.9   |\n",
       "| Huara | 1     |   3.4 | 0.382 | 161.4 | 10.0  |  7.6  | 49.0  | 38.9  | 81.8  | 0.592 | 55.8  | 44.4  | 8.9   |\n",
       "| Calama | 2     | 148.8 | 0.717 | 269.3 |  8.5  | 10.9  | 85.0  | 98.9  | 76.2  | 0.625 | 87.2  | 63.4  | 9.7   |\n",
       "\n"
      ],
      "text/plain": [
       "              Regiï..n Poblaciï..n..miles..2011 IDSE \n",
       "Iquique       1        186.0                    0.698\n",
       "Pica          1         18.6                    0.604\n",
       "Pozo Almonte  1         17.3                    0.591\n",
       "Alto Hospicio 1         93.8                    0.577\n",
       "Huara         1          3.4                    0.382\n",
       "Calama        2        148.8                    0.717\n",
       "              Ingreso.per.cï..p..Mens..miles....2006.11 Pobreza...2006.11\n",
       "Iquique       227.6                                     10.2             \n",
       "Pica          188.1                                     12.2             \n",
       "Pozo Almonte  176.0                                      9.8             \n",
       "Alto Hospicio 166.3                                     20.9             \n",
       "Huara         161.4                                     10.0             \n",
       "Calama        269.3                                      8.5             \n",
       "              Escolaridad..aï..os..2006.11\n",
       "Iquique       11.1                        \n",
       "Pica           9.6                        \n",
       "Pozo Almonte   9.7                        \n",
       "Alto Hospicio 10.1                        \n",
       "Huara          7.6                        \n",
       "Calama        10.9                        \n",
       "              Material.Vivienda.bueno.o.acceptable...2006\n",
       "Iquique       81.8                                       \n",
       "Pica          71.0                                       \n",
       "Pozo Almonte  73.1                                       \n",
       "Alto Hospicio 65.9                                       \n",
       "Huara         49.0                                       \n",
       "Calama        85.0                                       \n",
       "              Alcantarillado.o.Fosa.S.pt....2006\n",
       "Iquique       98.8                              \n",
       "Pica          94.0                              \n",
       "Pozo Almonte  83.5                              \n",
       "Alto Hospicio 98.4                              \n",
       "Huara         38.9                              \n",
       "Calama        98.9                              \n",
       "              Esperanza.vida.al.nacer..aï..os..2005.10\n",
       "Iquique       77.2                                    \n",
       "Pica          77.5                                    \n",
       "Pozo Almonte  77.3                                    \n",
       "Alto Hospicio 78.1                                    \n",
       "Huara         81.8                                    \n",
       "Calama        76.2                                    \n",
       "              X.ndice.Desarrollo.Humano Tasa.AVPP.x.1000.h.2007.11\n",
       "Iquique       0.631                     82.1                      \n",
       "Pica          0.572                     23.0                      \n",
       "Pozo Almonte  0.574                     44.3                      \n",
       "Alto Hospicio 0.555                     46.7                      \n",
       "Huara         0.592                     55.8                      \n",
       "Calama        0.625                     87.2                      \n",
       "              X..defunc..50..aï..os.2011 Mortalidad.Infantil.x.1000.NV.2009.11\n",
       "Iquique       73.0                       8.9                                  \n",
       "Pica          45.8                       9.8                                  \n",
       "Pozo Almonte  66.7                       7.1                                  \n",
       "Alto Hospicio 56.2                       4.9                                  \n",
       "Huara         44.4                       8.9                                  \n",
       "Calama        63.4                       9.7                                  "
      ]
     },
     "metadata": {},
     "output_type": "display_data"
    },
    {
     "data": {
      "text/html": [
       "<ol class=list-inline>\n",
       "\t<li>323</li>\n",
       "\t<li>6</li>\n",
       "</ol>\n"
      ],
      "text/latex": [
       "\\begin{enumerate*}\n",
       "\\item 323\n",
       "\\item 6\n",
       "\\end{enumerate*}\n"
      ],
      "text/markdown": [
       "1. 323\n",
       "2. 6\n",
       "\n",
       "\n"
      ],
      "text/plain": [
       "[1] 323   6"
      ]
     },
     "metadata": {},
     "output_type": "display_data"
    },
    {
     "data": {
      "text/html": [
       "<table>\n",
       "<thead><tr><th></th><th scope=col>Poblaciï..n..miles..2011</th><th scope=col>IDSE</th><th scope=col>Ingreso.per.cï..p..Mens..miles....2006.11</th><th scope=col>Pobreza...2006.11</th><th scope=col>Escolaridad..aï..os..2006.11</th><th scope=col>X.ndice.Desarrollo.Humano</th></tr></thead>\n",
       "<tbody>\n",
       "\t<tr><th scope=row>Iquique</th><td>186.0</td><td>0.698</td><td>227.6</td><td>10.2 </td><td>11.1 </td><td>0.631</td></tr>\n",
       "\t<tr><th scope=row>Pica</th><td> 18.6</td><td>0.604</td><td>188.1</td><td>12.2 </td><td> 9.6 </td><td>0.572</td></tr>\n",
       "\t<tr><th scope=row>Pozo Almonte</th><td> 17.3</td><td>0.591</td><td>176.0</td><td> 9.8 </td><td> 9.7 </td><td>0.574</td></tr>\n",
       "\t<tr><th scope=row>Alto Hospicio</th><td> 93.8</td><td>0.577</td><td>166.3</td><td>20.9 </td><td>10.1 </td><td>0.555</td></tr>\n",
       "\t<tr><th scope=row>Huara</th><td>  3.4</td><td>0.382</td><td>161.4</td><td>10.0 </td><td> 7.6 </td><td>0.592</td></tr>\n",
       "\t<tr><th scope=row>Calama</th><td>148.8</td><td>0.717</td><td>269.3</td><td> 8.5 </td><td>10.9 </td><td>0.625</td></tr>\n",
       "</tbody>\n",
       "</table>\n"
      ],
      "text/latex": [
       "\\begin{tabular}{r|llllll}\n",
       "  & Poblaciï..n..miles..2011 & IDSE & Ingreso.per.cï..p..Mens..miles....2006.11 & Pobreza...2006.11 & Escolaridad..aï..os..2006.11 & X.ndice.Desarrollo.Humano\\\\\n",
       "\\hline\n",
       "\tIquique & 186.0 & 0.698 & 227.6 & 10.2  & 11.1  & 0.631\\\\\n",
       "\tPica &  18.6 & 0.604 & 188.1 & 12.2  &  9.6  & 0.572\\\\\n",
       "\tPozo Almonte &  17.3 & 0.591 & 176.0 &  9.8  &  9.7  & 0.574\\\\\n",
       "\tAlto Hospicio &  93.8 & 0.577 & 166.3 & 20.9  & 10.1  & 0.555\\\\\n",
       "\tHuara &   3.4 & 0.382 & 161.4 & 10.0  &  7.6  & 0.592\\\\\n",
       "\tCalama & 148.8 & 0.717 & 269.3 &  8.5  & 10.9  & 0.625\\\\\n",
       "\\end{tabular}\n"
      ],
      "text/markdown": [
       "\n",
       "| <!--/--> | Poblaciï..n..miles..2011 | IDSE | Ingreso.per.cï..p..Mens..miles....2006.11 | Pobreza...2006.11 | Escolaridad..aï..os..2006.11 | X.ndice.Desarrollo.Humano |\n",
       "|---|---|---|---|---|---|---|\n",
       "| Iquique | 186.0 | 0.698 | 227.6 | 10.2  | 11.1  | 0.631 |\n",
       "| Pica |  18.6 | 0.604 | 188.1 | 12.2  |  9.6  | 0.572 |\n",
       "| Pozo Almonte |  17.3 | 0.591 | 176.0 |  9.8  |  9.7  | 0.574 |\n",
       "| Alto Hospicio |  93.8 | 0.577 | 166.3 | 20.9  | 10.1  | 0.555 |\n",
       "| Huara |   3.4 | 0.382 | 161.4 | 10.0  |  7.6  | 0.592 |\n",
       "| Calama | 148.8 | 0.717 | 269.3 |  8.5  | 10.9  | 0.625 |\n",
       "\n"
      ],
      "text/plain": [
       "              Poblaciï..n..miles..2011 IDSE \n",
       "Iquique       186.0                    0.698\n",
       "Pica           18.6                    0.604\n",
       "Pozo Almonte   17.3                    0.591\n",
       "Alto Hospicio  93.8                    0.577\n",
       "Huara           3.4                    0.382\n",
       "Calama        148.8                    0.717\n",
       "              Ingreso.per.cï..p..Mens..miles....2006.11 Pobreza...2006.11\n",
       "Iquique       227.6                                     10.2             \n",
       "Pica          188.1                                     12.2             \n",
       "Pozo Almonte  176.0                                      9.8             \n",
       "Alto Hospicio 166.3                                     20.9             \n",
       "Huara         161.4                                     10.0             \n",
       "Calama        269.3                                      8.5             \n",
       "              Escolaridad..aï..os..2006.11 X.ndice.Desarrollo.Humano\n",
       "Iquique       11.1                         0.631                    \n",
       "Pica           9.6                         0.572                    \n",
       "Pozo Almonte   9.7                         0.574                    \n",
       "Alto Hospicio 10.1                         0.555                    \n",
       "Huara          7.6                         0.592                    \n",
       "Calama        10.9                         0.625                    "
      ]
     },
     "metadata": {},
     "output_type": "display_data"
    },
    {
     "data": {
      "text/html": [
       "<ol class=list-inline>\n",
       "\t<li>48</li>\n",
       "\t<li>6</li>\n",
       "</ol>\n"
      ],
      "text/latex": [
       "\\begin{enumerate*}\n",
       "\\item 48\n",
       "\\item 6\n",
       "\\end{enumerate*}\n"
      ],
      "text/markdown": [
       "1. 48\n",
       "2. 6\n",
       "\n",
       "\n"
      ],
      "text/plain": [
       "[1] 48  6"
      ]
     },
     "metadata": {},
     "output_type": "display_data"
    },
    {
     "data": {
      "text/html": [
       "<table>\n",
       "<thead><tr><th></th><th scope=col>Poblaciï..n..miles..2011</th><th scope=col>IDSE</th><th scope=col>Ingreso.per.cï..p..Mens..miles....2006.11</th><th scope=col>Pobreza...2006.11</th><th scope=col>Escolaridad..aï..os..2006.11</th><th scope=col>X.ndice.Desarrollo.Humano</th></tr></thead>\n",
       "<tbody>\n",
       "\t<tr><th scope=row>Iquique</th><td>186.0</td><td>0.698</td><td>227.6</td><td>10.2 </td><td>11.1 </td><td>0.631</td></tr>\n",
       "\t<tr><th scope=row>Calama</th><td>148.8</td><td>0.717</td><td>269.3</td><td> 8.5 </td><td>10.9 </td><td>0.625</td></tr>\n",
       "\t<tr><th scope=row>Antofagasta</th><td>373.0</td><td>0.714</td><td>256.5</td><td> 7.1 </td><td>11.0 </td><td>0.627</td></tr>\n",
       "\t<tr><th scope=row>Copiapo</th><td>163.9</td><td>0.671</td><td>219.4</td><td>14.5 </td><td>10.7 </td><td>0.609</td></tr>\n",
       "\t<tr><th scope=row>La Serena</th><td>214.7</td><td>0.669</td><td>194.3</td><td>14.5 </td><td>10.6 </td><td>0.619</td></tr>\n",
       "\t<tr><th scope=row>Coquimbo</th><td>215.1</td><td>0.657</td><td>183.1</td><td>13.0 </td><td>10.4 </td><td>0.620</td></tr>\n",
       "</tbody>\n",
       "</table>\n"
      ],
      "text/latex": [
       "\\begin{tabular}{r|llllll}\n",
       "  & Poblaciï..n..miles..2011 & IDSE & Ingreso.per.cï..p..Mens..miles....2006.11 & Pobreza...2006.11 & Escolaridad..aï..os..2006.11 & X.ndice.Desarrollo.Humano\\\\\n",
       "\\hline\n",
       "\tIquique & 186.0 & 0.698 & 227.6 & 10.2  & 11.1  & 0.631\\\\\n",
       "\tCalama & 148.8 & 0.717 & 269.3 &  8.5  & 10.9  & 0.625\\\\\n",
       "\tAntofagasta & 373.0 & 0.714 & 256.5 &  7.1  & 11.0  & 0.627\\\\\n",
       "\tCopiapo & 163.9 & 0.671 & 219.4 & 14.5  & 10.7  & 0.609\\\\\n",
       "\tLa Serena & 214.7 & 0.669 & 194.3 & 14.5  & 10.6  & 0.619\\\\\n",
       "\tCoquimbo & 215.1 & 0.657 & 183.1 & 13.0  & 10.4  & 0.620\\\\\n",
       "\\end{tabular}\n"
      ],
      "text/markdown": [
       "\n",
       "| <!--/--> | Poblaciï..n..miles..2011 | IDSE | Ingreso.per.cï..p..Mens..miles....2006.11 | Pobreza...2006.11 | Escolaridad..aï..os..2006.11 | X.ndice.Desarrollo.Humano |\n",
       "|---|---|---|---|---|---|---|\n",
       "| Iquique | 186.0 | 0.698 | 227.6 | 10.2  | 11.1  | 0.631 |\n",
       "| Calama | 148.8 | 0.717 | 269.3 |  8.5  | 10.9  | 0.625 |\n",
       "| Antofagasta | 373.0 | 0.714 | 256.5 |  7.1  | 11.0  | 0.627 |\n",
       "| Copiapo | 163.9 | 0.671 | 219.4 | 14.5  | 10.7  | 0.609 |\n",
       "| La Serena | 214.7 | 0.669 | 194.3 | 14.5  | 10.6  | 0.619 |\n",
       "| Coquimbo | 215.1 | 0.657 | 183.1 | 13.0  | 10.4  | 0.620 |\n",
       "\n"
      ],
      "text/plain": [
       "            Poblaciï..n..miles..2011 IDSE \n",
       "Iquique     186.0                    0.698\n",
       "Calama      148.8                    0.717\n",
       "Antofagasta 373.0                    0.714\n",
       "Copiapo     163.9                    0.671\n",
       "La Serena   214.7                    0.669\n",
       "Coquimbo    215.1                    0.657\n",
       "            Ingreso.per.cï..p..Mens..miles....2006.11 Pobreza...2006.11\n",
       "Iquique     227.6                                     10.2             \n",
       "Calama      269.3                                      8.5             \n",
       "Antofagasta 256.5                                      7.1             \n",
       "Copiapo     219.4                                     14.5             \n",
       "La Serena   194.3                                     14.5             \n",
       "Coquimbo    183.1                                     13.0             \n",
       "            Escolaridad..aï..os..2006.11 X.ndice.Desarrollo.Humano\n",
       "Iquique     11.1                         0.631                    \n",
       "Calama      10.9                         0.625                    \n",
       "Antofagasta 11.0                         0.627                    \n",
       "Copiapo     10.7                         0.609                    \n",
       "La Serena   10.6                         0.619                    \n",
       "Coquimbo    10.4                         0.620                    "
      ]
     },
     "metadata": {},
     "output_type": "display_data"
    }
   ],
   "source": [
    "#       (2.0) y parte de la (2.1)\n",
    "\n",
    "# Lectura de datos e información filtrada 'comunas.csv'\n",
    "# Nota: Se editaron algunos nombres de ciudad modificando 'ñ' y tildes\n",
    "\n",
    "# Leemos la data y seteamos las Ciudades como nombres de Fila\n",
    "datos <- read.csv(\"comunas.csv\", row.names = 2 ,header=TRUE,sep=\";\",dec=\".\")\n",
    "dim(datos)\n",
    "head(datos)\n",
    "\n",
    "# Arbitrariamente editamos la data para dejar 5 variables de posible interés y relación\n",
    "# Población miles, IDSE, Ingreso per. cap miles, Pobreza, Escolaridad, Indice de desarrollo humano\n",
    "\n",
    "# Estas variables se escogieron por sobre las demás porque posiblemente tengan un mayor impacto y relaciones entre sí\n",
    "# Por ejemplo la mortalidad y nacimiento no es tan relevante a comparación de los demás datos, aunque todo depende del interés de estudio\n",
    "\n",
    "\n",
    "datos <- datos[,c(2,3,4,5,6,10)]\n",
    "dim(datos)\n",
    "head(datos)\n",
    "\n",
    "# Ahora seleccionamos poblaciones con Población mayor a 100 en miles\n",
    "# Esto para seleccionar ciudades 'grandes'\n",
    "datos <- datos[datos[,1] >=100,]\n",
    "\n",
    "dim(datos)\n",
    "head(datos)"
   ]
  },
  {
   "cell_type": "code",
   "execution_count": 374,
   "metadata": {
    "vscode": {
     "languageId": "r"
    }
   },
   "outputs": [
    {
     "data": {
      "text/plain": [
       " Poblaciï..n..miles..2011      IDSE       \n",
       " Min.   :107.2            Min.   :0.5190  \n",
       " 1st Qu.:129.8            1st Qu.:0.6228  \n",
       " Median :169.9            Median :0.6650  \n",
       " Mean   :207.9            Mean   :0.6750  \n",
       " 3rd Qu.:246.7            3rd Qu.:0.6965  \n",
       " Max.   :735.4            Max.   :0.9700  \n",
       " Ingreso.per.cï..p..Mens..miles....2006.11 Pobreza...2006.11\n",
       " Min.   :134.1                             Min.   : 1.30    \n",
       " 1st Qu.:176.6                             1st Qu.:10.18    \n",
       " Median :205.0                             Median :13.30    \n",
       " Mean   :252.6                             Mean   :13.37    \n",
       " 3rd Qu.:238.3                             3rd Qu.:17.20    \n",
       " Max.   :966.7                             Max.   :23.70    \n",
       " Escolaridad..aï..os..2006.11 X.ndice.Desarrollo.Humano\n",
       " Min.   : 8.90                Min.   :0.4820           \n",
       " 1st Qu.:10.07                1st Qu.:0.5507           \n",
       " Median :10.60                Median :0.6050           \n",
       " Mean   :10.81                Mean   :0.6165           \n",
       " 3rd Qu.:11.15                3rd Qu.:0.6315           \n",
       " Max.   :14.70                Max.   :0.9720           "
      ]
     },
     "metadata": {},
     "output_type": "display_data"
    },
    {
     "data": {
      "image/png": "[encoded data removed]",
      "text/plain": [
       "plot without title"
      ]
     },
     "metadata": {},
     "output_type": "display_data"
    }
   ],
   "source": [
    "# Echamos un vistazo a la información\n",
    "summary(datos)\n",
    "boxplot(datos)"
   ]
  },
  {
   "cell_type": "code",
   "execution_count": 375,
   "metadata": {
    "vscode": {
     "languageId": "r"
    }
   },
   "outputs": [
    {
     "data": {
      "text/html": [
       "2.93011642522962"
      ],
      "text/latex": [
       "2.93011642522962"
      ],
      "text/markdown": [
       "2.93011642522962"
      ],
      "text/plain": [
       "[1] 2.930116"
      ]
     },
     "metadata": {},
     "output_type": "display_data"
    },
    {
     "data": {
      "text/html": [
       "2.90885447646451"
      ],
      "text/latex": [
       "2.90885447646451"
      ],
      "text/markdown": [
       "2.90885447646451"
      ],
      "text/plain": [
       "[1] 2.908854"
      ]
     },
     "metadata": {},
     "output_type": "display_data"
    },
    {
     "data": {
      "text/html": [
       "0.675432211697602"
      ],
      "text/latex": [
       "0.675432211697602"
      ],
      "text/markdown": [
       "0.675432211697602"
      ],
      "text/plain": [
       "[1] 0.6754322"
      ]
     },
     "metadata": {},
     "output_type": "display_data"
    },
    {
     "data": {
      "image/png": "[encoded data removed]",
      "text/plain": [
       "Plot with title \"J v/s k en k-means\""
      ]
     },
     "metadata": {},
     "output_type": "display_data"
    }
   ],
   "source": [
    "J <- rep(0,20)\n",
    "fin_iter <- 20\n",
    "\n",
    "\n",
    "for (k in 1:fin_iter){\n",
    "     cl<-kmeans(datos,k,iter.max=1000,nstart=10)\n",
    "\tJ[k]<-cl$tot.withinss\n",
    "}\n",
    "\n",
    "#Grafica\n",
    "plot(1:fin_iter,J,xlab=\"k\",ylab=\"J\",type=\"p\",main=\"J v/s k en k-means\",col=2) \n",
    "\n",
    "# Valores diferencia y su relacion ; el mayor de los valores se da cuando K = 3\n",
    "(J[1] - J[2]) /  (J[2] - J[3]) # K = 3 \n",
    "(J[2] - J[3]) /  (J[3] - J[4]) # K = 4\n",
    "(J[3] - J[4]) /  (J[4] - J[5]) # K = 5\n"
   ]
  },
  {
   "cell_type": "code",
   "execution_count": 376,
   "metadata": {
    "vscode": {
     "languageId": "r"
    }
   },
   "outputs": [
    {
     "name": "stdout",
     "output_type": "stream",
     "text": [
      "[1] 1192651.2  407032.0  139928.6\n",
      " [1] 2110529.70  917878.51  510846.50  370917.87  163748.85  130439.69\n",
      " [7]   99886.73   77280.88   59543.58   51753.99   58040.41   47482.33\n",
      "[13]   43280.24   34576.29   32423.65   19160.12   28125.09   18454.48\n",
      "[19]   14284.08   13383.98\n",
      " [1] 0.000000 1.000000 1.000000 2.908854 1.000000 1.000000 1.090211 1.351550\n",
      " [9] 1.274481 2.277052 0.000000 0.000000 0.000000 0.000000 0.000000 0.000000\n",
      "[17] 0.000000 0.000000 0.000000 0.000000\n",
      " [1] 3 0 0 0 0 0 0 0 0 0 0 0 0 0 0 0 0 0 0 0\n",
      "[1] \"K optimo seleccionado es:  3\"\n"
     ]
    }
   ],
   "source": [
    "J <- rep(0,20)\n",
    "fin_iter <- 20\n",
    "\n",
    "\n",
    "for (k in 1:fin_iter){\n",
    "     cl<-kmeans(datos,k,iter.max=1000,nstart=10)\n",
    "\tJ[k]<-cl$tot.withinss\n",
    "}\n",
    "\n",
    "fin_iter <- 20\n",
    "\n",
    "difJ <- rep (1,20) # Almacenará las diferencias de J, dejando la primera celda sin usar\n",
    "\n",
    "# Sabemos que J[1] > J[2]\n",
    "# Buscamos dejar difJ de forma: [ /, J[1] - J[2], J[2] - J[3], ... , J[k-1]-J[k]]\n",
    "difJ[2] <- J[1] - J[2]\n",
    "\n",
    "ratio <- rep(0,20) # Almacenará el ratio o disparidad, dependerá de difJ[k-1]/difJ[k]  ; K = 3 -> (J[1] - J[2]) / (J[2] - J[3])\n",
    "ratio[2] <- difJ[1]/difJ[2]\n",
    "# Nosotros buscamos una diferencia importante con respecto a las diferencias anteriores\n",
    "# Esto significaria que ratio[k], sea el ratio más grande entre todas las diferencias generadas\n",
    "\n",
    "k_optimo <- 1\n",
    "ratio_Actual <- 1\n",
    "\n",
    "k_selected <- rep(0,20)\n",
    "i<-1\n",
    "\n",
    "for (k in 3:fin_iter){\n",
    "    \n",
    "    # Calculamos la diferencia descrita antes\n",
    "    difJ[k] <- J[k-1]-J[k]\n",
    "    \n",
    "    # Mientras exista una diferencia de J[k-1] - J[k] > 0 ; J[k-1] > J[k] ; que sea positiva\n",
    "    # También dado la gráfica, a medida que k asciende hay valores de J no garantizan lo anterior\n",
    "\n",
    "    if( (difJ[k] > 0) && (ratio[k-1] > 0) ){\n",
    "        \n",
    "        # Aprovechando el comportamiento del grafico (mientras k aumenta J disminuye)\n",
    "        # Si se descubre que el valor medio de entre 3 valores ya calculados se tratá de un máximo (esto es un pick pequeño)\n",
    "        # Entonces se regula \n",
    "        # Ej: J[17] = 14.38805 J[18] = 7.35305000000001 J[19] = 11.4049833333333\n",
    "        if ( ( (J[k-2] < J[k-1]) && (J[k-1] > J[k]) ) || ( (difJ[k-2] < difJ[k-1]) && (difJ[k-1] > difJ[k]) ) ){\n",
    "            ratio[k-1] <- 1\n",
    "            ratio[k] <- 1\n",
    "        }\n",
    "        #Si la curva permanece drececiente, entonces hace el calculo normal\n",
    "        else{\n",
    "\n",
    "            #Calcula el nuevo ratio\n",
    "            ratio[k] <- difJ[k-1]/difJ[k]\n",
    "\n",
    "            if (ratio[k] > ratio_Actual){\n",
    "                print(c(difJ[k-2],difJ[k-1],difJ[k]))\n",
    "                ratio_Actual <- ratio[k]\n",
    "                k_optimo <- k-1\n",
    "                k_selected[i] <- k_optimo\n",
    "                i <- i+1\n",
    "            }\n",
    "        }\n",
    "    }else{break}    \n",
    "}\n",
    "\n",
    "print(J)\n",
    "print(ratio)\n",
    "print(k_selected)\n",
    "print(paste(\"K optimo seleccionado es: \",k_optimo))"
   ]
  },
  {
   "cell_type": "code",
   "execution_count": 377,
   "metadata": {
    "vscode": {
     "languageId": "r"
    }
   },
   "outputs": [
    {
     "data": {
      "text/html": [
       "<dl class=dl-horizontal>\n",
       "\t<dt>Iquique</dt>\n",
       "\t\t<dd>2</dd>\n",
       "\t<dt>Calama</dt>\n",
       "\t\t<dd>2</dd>\n",
       "\t<dt>Antofagasta</dt>\n",
       "\t\t<dd>1</dd>\n",
       "\t<dt>Copiapo</dt>\n",
       "\t\t<dd>2</dd>\n",
       "\t<dt>La Serena</dt>\n",
       "\t\t<dd>2</dd>\n",
       "\t<dt>Coquimbo</dt>\n",
       "\t\t<dd>2</dd>\n",
       "\t<dt>Ovalle</dt>\n",
       "\t\t<dd>2</dd>\n",
       "\t<dt>Quilpu?</dt>\n",
       "\t\t<dd>2</dd>\n",
       "\t<dt>Vina del Mar</dt>\n",
       "\t\t<dd>2</dd>\n",
       "\t<dt>Villa Alemana</dt>\n",
       "\t\t<dd>2</dd>\n",
       "\t<dt>Valparaiso</dt>\n",
       "\t\t<dd>2</dd>\n",
       "\t<dt>Rancagua</dt>\n",
       "\t\t<dd>2</dd>\n",
       "\t<dt>Curico</dt>\n",
       "\t\t<dd>2</dd>\n",
       "\t<dt>Talca</dt>\n",
       "\t\t<dd>2</dd>\n",
       "\t<dt>Chiguayante</dt>\n",
       "\t\t<dd>2</dd>\n",
       "\t<dt>Concepciï¿½n</dt>\n",
       "\t\t<dd>2</dd>\n",
       "\t<dt>Talcahuano</dt>\n",
       "\t\t<dd>2</dd>\n",
       "\t<dt>Chillan</dt>\n",
       "\t\t<dd>2</dd>\n",
       "\t<dt>Los Angeles</dt>\n",
       "\t\t<dd>2</dd>\n",
       "\t<dt>Coronel</dt>\n",
       "\t\t<dd>2</dd>\n",
       "\t<dt>Temuco</dt>\n",
       "\t\t<dd>2</dd>\n",
       "\t<dt>Puerto Montt</dt>\n",
       "\t\t<dd>2</dd>\n",
       "\t<dt>Osorno</dt>\n",
       "\t\t<dd>2</dd>\n",
       "\t<dt>Punta Arenas</dt>\n",
       "\t\t<dd>2</dd>\n",
       "\t<dt>Las Condes</dt>\n",
       "\t\t<dd>3</dd>\n",
       "\t<dt>Providencia</dt>\n",
       "\t\t<dd>3</dd>\n",
       "\t<dt>Nunoa</dt>\n",
       "\t\t<dd>3</dd>\n",
       "\t<dt>Santiago</dt>\n",
       "\t\t<dd>3</dd>\n",
       "\t<dt>Lo Barnechea</dt>\n",
       "\t\t<dd>3</dd>\n",
       "\t<dt>La Florida</dt>\n",
       "\t\t<dd>1</dd>\n",
       "\t<dt>Maipu</dt>\n",
       "\t\t<dd>1</dd>\n",
       "\t<dt>Quilicura</dt>\n",
       "\t\t<dd>2</dd>\n",
       "\t<dt>Estaciï¿½n Central</dt>\n",
       "\t\t<dd>2</dd>\n",
       "\t<dt>Puente Alto</dt>\n",
       "\t\t<dd>1</dd>\n",
       "\t<dt>Penalolen</dt>\n",
       "\t\t<dd>2</dd>\n",
       "\t<dt>Pudahuel</dt>\n",
       "\t\t<dd>2</dd>\n",
       "\t<dt>Colina</dt>\n",
       "\t\t<dd>2</dd>\n",
       "\t<dt>Conchalï¿½</dt>\n",
       "\t\t<dd>2</dd>\n",
       "\t<dt>Recoleta</dt>\n",
       "\t\t<dd>2</dd>\n",
       "\t<dt>El Bosque</dt>\n",
       "\t\t<dd>2</dd>\n",
       "\t<dt>San Bernardo</dt>\n",
       "\t\t<dd>2</dd>\n",
       "\t<dt>Renca</dt>\n",
       "\t\t<dd>2</dd>\n",
       "\t<dt>La Granja</dt>\n",
       "\t\t<dd>2</dd>\n",
       "\t<dt>Melipilla</dt>\n",
       "\t\t<dd>2</dd>\n",
       "\t<dt>Cerro Navia</dt>\n",
       "\t\t<dd>2</dd>\n",
       "\t<dt>La Pintana</dt>\n",
       "\t\t<dd>2</dd>\n",
       "\t<dt>Valdivia</dt>\n",
       "\t\t<dd>2</dd>\n",
       "\t<dt>Arica</dt>\n",
       "\t\t<dd>2</dd>\n",
       "</dl>\n"
      ],
      "text/latex": [
       "\\begin{description*}\n",
       "\\item[Iquique] 2\n",
       "\\item[Calama] 2\n",
       "\\item[Antofagasta] 1\n",
       "\\item[Copiapo] 2\n",
       "\\item[La Serena] 2\n",
       "\\item[Coquimbo] 2\n",
       "\\item[Ovalle] 2\n",
       "\\item[Quilpu?] 2\n",
       "\\item[Vina del Mar] 2\n",
       "\\item[Villa Alemana] 2\n",
       "\\item[Valparaiso] 2\n",
       "\\item[Rancagua] 2\n",
       "\\item[Curico] 2\n",
       "\\item[Talca] 2\n",
       "\\item[Chiguayante] 2\n",
       "\\item[Concepciï¿½n] 2\n",
       "\\item[Talcahuano] 2\n",
       "\\item[Chillan] 2\n",
       "\\item[Los Angeles] 2\n",
       "\\item[Coronel] 2\n",
       "\\item[Temuco] 2\n",
       "\\item[Puerto Montt] 2\n",
       "\\item[Osorno] 2\n",
       "\\item[Punta Arenas] 2\n",
       "\\item[Las Condes] 3\n",
       "\\item[Providencia] 3\n",
       "\\item[Nunoa] 3\n",
       "\\item[Santiago] 3\n",
       "\\item[Lo Barnechea] 3\n",
       "\\item[La Florida] 1\n",
       "\\item[Maipu] 1\n",
       "\\item[Quilicura] 2\n",
       "\\item[Estaciï¿½n Central] 2\n",
       "\\item[Puente Alto] 1\n",
       "\\item[Penalolen] 2\n",
       "\\item[Pudahuel] 2\n",
       "\\item[Colina] 2\n",
       "\\item[Conchalï¿½] 2\n",
       "\\item[Recoleta] 2\n",
       "\\item[El Bosque] 2\n",
       "\\item[San Bernardo] 2\n",
       "\\item[Renca] 2\n",
       "\\item[La Granja] 2\n",
       "\\item[Melipilla] 2\n",
       "\\item[Cerro Navia] 2\n",
       "\\item[La Pintana] 2\n",
       "\\item[Valdivia] 2\n",
       "\\item[Arica] 2\n",
       "\\end{description*}\n"
      ],
      "text/markdown": [
       "Iquique\n",
       ":   2Calama\n",
       ":   2Antofagasta\n",
       ":   1Copiapo\n",
       ":   2La Serena\n",
       ":   2Coquimbo\n",
       ":   2Ovalle\n",
       ":   2Quilpu?\n",
       ":   2Vina del Mar\n",
       ":   2Villa Alemana\n",
       ":   2Valparaiso\n",
       ":   2Rancagua\n",
       ":   2Curico\n",
       ":   2Talca\n",
       ":   2Chiguayante\n",
       ":   2Concepciï¿½n\n",
       ":   2Talcahuano\n",
       ":   2Chillan\n",
       ":   2Los Angeles\n",
       ":   2Coronel\n",
       ":   2Temuco\n",
       ":   2Puerto Montt\n",
       ":   2Osorno\n",
       ":   2Punta Arenas\n",
       ":   2Las Condes\n",
       ":   3Providencia\n",
       ":   3Nunoa\n",
       ":   3Santiago\n",
       ":   3Lo Barnechea\n",
       ":   3La Florida\n",
       ":   1Maipu\n",
       ":   1Quilicura\n",
       ":   2Estaciï¿½n Central\n",
       ":   2Puente Alto\n",
       ":   1Penalolen\n",
       ":   2Pudahuel\n",
       ":   2Colina\n",
       ":   2Conchalï¿½\n",
       ":   2Recoleta\n",
       ":   2El Bosque\n",
       ":   2San Bernardo\n",
       ":   2Renca\n",
       ":   2La Granja\n",
       ":   2Melipilla\n",
       ":   2Cerro Navia\n",
       ":   2La Pintana\n",
       ":   2Valdivia\n",
       ":   2Arica\n",
       ":   2\n",
       "\n"
      ],
      "text/plain": [
       "           Iquique             Calama        Antofagasta            Copiapo \n",
       "                 2                  2                  1                  2 \n",
       "         La Serena           Coquimbo             Ovalle            Quilpu? \n",
       "                 2                  2                  2                  2 \n",
       "      Vina del Mar      Villa Alemana         Valparaiso           Rancagua \n",
       "                 2                  2                  2                  2 \n",
       "            Curico              Talca        Chiguayante       Concepciï¿½n \n",
       "                 2                  2                  2                  2 \n",
       "        Talcahuano            Chillan        Los Angeles            Coronel \n",
       "                 2                  2                  2                  2 \n",
       "            Temuco       Puerto Montt             Osorno       Punta Arenas \n",
       "                 2                  2                  2                  2 \n",
       "        Las Condes        Providencia              Nunoa           Santiago \n",
       "                 3                  3                  3                  3 \n",
       "      Lo Barnechea         La Florida              Maipu          Quilicura \n",
       "                 3                  1                  1                  2 \n",
       "Estaciï¿½n Central        Puente Alto          Penalolen           Pudahuel \n",
       "                 2                  1                  2                  2 \n",
       "            Colina         Conchalï¿½           Recoleta          El Bosque \n",
       "                 2                  2                  2                  2 \n",
       "      San Bernardo              Renca          La Granja          Melipilla \n",
       "                 2                  2                  2                  2 \n",
       "       Cerro Navia         La Pintana           Valdivia              Arica \n",
       "                 2                  2                  2                  2 "
      ]
     },
     "metadata": {},
     "output_type": "display_data"
    },
    {
     "data": {
      "image/png": "[encoded data removed]",
      "text/plain": [
       "plot without title"
      ]
     },
     "metadata": {},
     "output_type": "display_data"
    }
   ],
   "source": [
    "#       (2.1)\n",
    "\n",
    "# El realizar un clustering de estos datos, quizás considerando todas las variables no sea muy pertinente\n",
    "# dado que son cerca de 13 variables y + 300 datos\n",
    "\n",
    "# Pero al filtrar los datos según cierto conocimiento previo de la información puede llegar a ser coherente\n",
    "# la realización del clustering\n",
    "# En el caso de los datos seleccionados son los siguientes:\n",
    "# Población miles, IDSE, Ingreso per. cap miles, Pobreza, Escolaridad, Indice de desarrollo humano\n",
    "\n",
    "# De estos, sin revisar los datos numéricos de cada uno se pueden estimar ciertas relaciones bajo intuición\n",
    "# Lo que posteriormente se podrá ver graficado y agrupado\n",
    "\n",
    "#       (2.2)\n",
    "\n",
    "# En base al gráfico anterior y el pequeño cálculo de las diferencias mostrando como un print,\n",
    "# Podemos decir que el óptimo es K = 3\n",
    "\n",
    "#Valor inicial k\n",
    "k0=3\n",
    "\n",
    "#Creando clustering K = 3\n",
    "cl<-kmeans(datos,k0,iter.max=1000,nstart=10)\n",
    "#grafica los datos coloreados con el grupo asignado en planos de pares de variables\n",
    "pairs(datos,col=cl$cluster)\n",
    "\n",
    "#Para saber qué ciudad corresponde a cada grupo: cl$cluster\n",
    "cl$cluster"
   ]
  },
  {
   "cell_type": "code",
   "execution_count": 378,
   "metadata": {
    "vscode": {
     "languageId": "r"
    }
   },
   "outputs": [
    {
     "name": "stdout",
     "output_type": "stream",
     "text": [
      "Call:\n",
      "princomp(x = datos, cor = TRUE)\n",
      "\n",
      "Standard deviations:\n",
      "   Comp.1    Comp.2    Comp.3    Comp.4    Comp.5    Comp.6 \n",
      "2.1146671 1.0051303 0.5942480 0.3373713 0.1931167 0.1168423 \n",
      "\n",
      " 6  variables and  48 observations.\n"
     ]
    },
    {
     "data": {
      "text/html": [
       "<table>\n",
       "<thead><tr><th scope=col>Comp.1</th><th scope=col>Comp.2</th><th scope=col>Comp.3</th><th scope=col>Comp.4</th><th scope=col>Comp.5</th><th scope=col>Comp.6</th></tr></thead>\n",
       "<tbody>\n",
       "\t<tr><td> 1.1332284  </td><td> 2.6236721  </td><td>-0.300972466</td><td>-0.04248778 </td><td>-0.056595275</td><td> 0.035796628</td></tr>\n",
       "\t<tr><td>-0.7719408  </td><td>-0.1727815  </td><td>-0.008364956</td><td>-0.02298157 </td><td> 0.002203284</td><td>-0.001484889</td></tr>\n",
       "\t<tr><td> 5.1145553  </td><td>-0.7512421  </td><td> 0.306024632</td><td> 0.21324650 </td><td> 0.028090609</td><td>-0.017055169</td></tr>\n",
       "</tbody>\n",
       "</table>\n"
      ],
      "text/latex": [
       "\\begin{tabular}{r|llllll}\n",
       " Comp.1 & Comp.2 & Comp.3 & Comp.4 & Comp.5 & Comp.6\\\\\n",
       "\\hline\n",
       "\t  1.1332284   &  2.6236721   & -0.300972466 & -0.04248778  & -0.056595275 &  0.035796628\\\\\n",
       "\t -0.7719408   & -0.1727815   & -0.008364956 & -0.02298157  &  0.002203284 & -0.001484889\\\\\n",
       "\t  5.1145553   & -0.7512421   &  0.306024632 &  0.21324650  &  0.028090609 & -0.017055169\\\\\n",
       "\\end{tabular}\n"
      ],
      "text/markdown": [
       "\n",
       "| Comp.1 | Comp.2 | Comp.3 | Comp.4 | Comp.5 | Comp.6 |\n",
       "|---|---|---|---|---|---|\n",
       "|  1.1332284   |  2.6236721   | -0.300972466 | -0.04248778  | -0.056595275 |  0.035796628 |\n",
       "| -0.7719408   | -0.1727815   | -0.008364956 | -0.02298157  |  0.002203284 | -0.001484889 |\n",
       "|  5.1145553   | -0.7512421   |  0.306024632 |  0.21324650  |  0.028090609 | -0.017055169 |\n",
       "\n"
      ],
      "text/plain": [
       "  Comp.1     Comp.2     Comp.3       Comp.4      Comp.5       Comp.6      \n",
       "1  1.1332284  2.6236721 -0.300972466 -0.04248778 -0.056595275  0.035796628\n",
       "2 -0.7719408 -0.1727815 -0.008364956 -0.02298157  0.002203284 -0.001484889\n",
       "3  5.1145553 -0.7512421  0.306024632  0.21324650  0.028090609 -0.017055169"
      ]
     },
     "metadata": {},
     "output_type": "display_data"
    },
    {
     "data": {
      "text/plain": [
       "K-means clustering with 3 clusters of sizes 4, 39, 5\n",
       "\n",
       "Cluster means:\n",
       "  Poblaciï..n..miles..2011      IDSE Ingreso.per.cï..p..Mens..miles....2006.11\n",
       "1                 513.9000 0.7180000                                  238.4000\n",
       "2                 181.8154 0.6424872                                  194.9974\n",
       "3                 166.6800 0.8944000                                  712.8800\n",
       "  Pobreza...2006.11 Escolaridad..aï..os..2006.11 X.ndice.Desarrollo.Humano\n",
       "1           9.45000                     11.25000                 0.6810000\n",
       "2          14.93077                     10.41795                 0.5794615\n",
       "3           4.34000                     13.54000                 0.8540000\n",
       "\n",
       "Clustering vector:\n",
       "           Iquique             Calama        Antofagasta            Copiapo \n",
       "                 2                  2                  1                  2 \n",
       "         La Serena           Coquimbo             Ovalle            Quilpu? \n",
       "                 2                  2                  2                  2 \n",
       "      Vina del Mar      Villa Alemana         Valparaiso           Rancagua \n",
       "                 2                  2                  2                  2 \n",
       "            Curico              Talca        Chiguayante       Concepciï¿½n \n",
       "                 2                  2                  2                  2 \n",
       "        Talcahuano            Chillan        Los Angeles            Coronel \n",
       "                 2                  2                  2                  2 \n",
       "            Temuco       Puerto Montt             Osorno       Punta Arenas \n",
       "                 2                  2                  2                  2 \n",
       "        Las Condes        Providencia              Nunoa           Santiago \n",
       "                 3                  3                  3                  3 \n",
       "      Lo Barnechea         La Florida              Maipu          Quilicura \n",
       "                 3                  1                  1                  2 \n",
       "Estaciï¿½n Central        Puente Alto          Penalolen           Pudahuel \n",
       "                 2                  1                  2                  2 \n",
       "            Colina         Conchalï¿½           Recoleta          El Bosque \n",
       "                 2                  2                  2                  2 \n",
       "      San Bernardo              Renca          La Granja          Melipilla \n",
       "                 2                  2                  2                  2 \n",
       "       Cerro Navia         La Pintana           Valdivia              Arica \n",
       "                 2                  2                  2                  2 \n",
       "\n",
       "Within cluster sum of squares by cluster:\n",
       "[1]  88866.65 192745.42 229234.42\n",
       " (between_SS / total_SS =  75.8 %)\n",
       "\n",
       "Available components:\n",
       "\n",
       "[1] \"cluster\"      \"centers\"      \"totss\"        \"withinss\"     \"tot.withinss\"\n",
       "[6] \"betweenss\"    \"size\"         \"iter\"         \"ifault\"      "
      ]
     },
     "metadata": {},
     "output_type": "display_data"
    },
    {
     "data": {
      "image/png": "[encoded data removed]",
      "text/plain": [
       "Plot with title \"datos1\""
      ]
     },
     "metadata": {},
     "output_type": "display_data"
    },
    {
     "data": {
      "image/png": "[encoded data removed]",
      "text/plain": [
       "plot without title"
      ]
     },
     "metadata": {},
     "output_type": "display_data"
    },
    {
     "name": "stdout",
     "output_type": "stream",
     "text": [
      "biplot                  package:stats                  R Documentation\n",
      "\n",
      "_\bB_\bi_\bp_\bl_\bo_\bt _\bo_\bf _\bM_\bu_\bl_\bt_\bi_\bv_\ba_\br_\bi_\ba_\bt_\be _\bD_\ba_\bt_\ba\n",
      "\n",
      "_\bD_\be_\bs_\bc_\br_\bi_\bp_\bt_\bi_\bo_\bn:\n",
      "\n",
      "     Plot a biplot on the current graphics device.\n",
      "\n",
      "_\bU_\bs_\ba_\bg_\be:\n",
      "\n",
      "     biplot(x, ...)\n",
      "     \n",
      "     ## Default S3 method:\n",
      "     biplot(x, y, var.axes = TRUE, col, cex = rep(par(\"cex\"), 2),\n",
      "            xlabs = NULL, ylabs = NULL, expand = 1,\n",
      "            xlim  = NULL, ylim  = NULL, arrow.len = 0.1,\n",
      "            main = NULL, sub = NULL, xlab = NULL, ylab = NULL, ...)\n",
      "     \n",
      "_\bA_\br_\bg_\bu_\bm_\be_\bn_\bt_\bs:\n",
      "\n",
      "       x: The 'biplot', a fitted object. For 'biplot.default', the\n",
      "          first set of points (a two-column matrix), usually associated\n",
      "          with observations.\n",
      "\n",
      "       y: The second set of points (a two-column matrix), usually\n",
      "          associated with variables.\n",
      "\n",
      "var.axes: If 'TRUE' the second set of points have arrows representing\n",
      "          them as (unscaled) axes.\n",
      "\n",
      "     col: A vector of length 2 giving the colours for the first and\n",
      "          second set of points respectively (and the corresponding\n",
      "          axes). If a single colour is specified it will be used for\n",
      "          both sets.  If missing the default colour is looked for in\n",
      "          the 'palette': if there it and the next colour as used,\n",
      "          otherwise the first two colours of the palette are used.\n",
      "\n",
      "     cex: The character expansion factor used for labelling the points.\n",
      "          The labels can be of different sizes for the two sets by\n",
      "          supplying a vector of length two.\n",
      "\n",
      "   xlabs: A vector of character strings to label the first set of\n",
      "          points: the default is to use the row dimname of 'x', or\n",
      "          '1:n' if the dimname is 'NULL'.\n",
      "\n",
      "   ylabs: A vector of character strings to label the second set of\n",
      "          points: the default is to use the row dimname of 'y', or\n",
      "          '1:n' if the dimname is 'NULL'.\n",
      "\n",
      "  expand: An expansion factor to apply when plotting the second set of\n",
      "          points relative to the first. This can be used to tweak the\n",
      "          scaling of the two sets to a physically comparable scale.\n",
      "\n",
      "arrow.len: The length of the arrow heads on the axes plotted in\n",
      "          'var.axes' is true. The arrow head can be suppressed by\n",
      "          'arrow.len = 0'.\n",
      "\n",
      "xlim, ylim: Limits for the x and y axes in the units of the first set\n",
      "          of variables.\n",
      "\n",
      "main, sub, xlab, ylab, ...: graphical parameters.\n",
      "\n",
      "_\bD_\be_\bt_\ba_\bi_\bl_\bs:\n",
      "\n",
      "     A biplot is plot which aims to represent both the observations and\n",
      "     variables of a matrix of multivariate data on the same plot. There\n",
      "     are many variations on biplots (see the references) and perhaps\n",
      "     the most widely used one is implemented by 'biplot.princomp'.  The\n",
      "     function 'biplot.default' merely provides the underlying code to\n",
      "     plot two sets of variables on the same figure.\n",
      "\n",
      "     Graphical parameters can also be given to 'biplot': the size of\n",
      "     'xlabs' and 'ylabs' is controlled by 'cex'.\n",
      "\n",
      "_\bS_\bi_\bd_\be _\bE_\bf_\bf_\be_\bc_\bt_\bs:\n",
      "\n",
      "     a plot is produced on the current graphics device.\n",
      "\n",
      "_\bR_\be_\bf_\be_\br_\be_\bn_\bc_\be_\bs:\n",
      "\n",
      "     K. R. Gabriel (1971).  The biplot graphical display of matrices\n",
      "     with application to principal component analysis.  _Biometrika_,\n",
      "     *58*, 453-467.  doi: 10.2307/2334381 (URL:\n",
      "     https://doi.org/10.2307/2334381).\n",
      "\n",
      "     J.C. Gower and D. J. Hand (1996).  _Biplots_.  Chapman & Hall.\n",
      "\n",
      "_\bS_\be_\be _\bA_\bl_\bs_\bo:\n",
      "\n",
      "     'biplot.princomp', also for examples.\n"
     ]
    }
   ],
   "source": [
    "#Análisis de Componentes Principales para graficar los grupos obtenidos\n",
    "#Calcula plano de componentes principales y grafica las observaciones con el número de su grupo\n",
    "datos1 <- princomp(datos, cor=TRUE)\n",
    "print(datos1)\n",
    "plot(datos1) #barras\n",
    "datos2 <- predict(datos1,cl$centers)\n",
    "datos2\n",
    "cl\n",
    "help(biplot)\n",
    "biplot(datos1,xlabs=cl$cluster, xlim = c(-0.4,0.6),ylim = c(-0.4,0.8)) #flechas\n",
    "points(datos2[,1:6],col=1:k0,pch=24)\n"
   ]
  },
  {
   "cell_type": "code",
   "execution_count": 379,
   "metadata": {
    "vscode": {
     "languageId": "r"
    }
   },
   "outputs": [
    {
     "data": {
      "text/html": [
       "<dl class=dl-horizontal>\n",
       "\t<dt>Poblaciï..n..miles..2011</dt>\n",
       "\t\t<dd>13879.5785638298</dd>\n",
       "\t<dt>IDSE</dt>\n",
       "\t\t<dd>0.00864529742907801</dd>\n",
       "\t<dt>Ingreso.per.cï..p..Mens..miles....2006.11</dt>\n",
       "\t\t<dd>30998.0075487589</dd>\n",
       "\t<dt>Pobreza...2006.11</dt>\n",
       "\t\t<dd>25.8599822695035</dd>\n",
       "\t<dt>Escolaridad..aï..os..2006.11</dt>\n",
       "\t\t<dd>1.42196808510638</dd>\n",
       "\t<dt>X.ndice.Desarrollo.Humano</dt>\n",
       "\t\t<dd>0.0104571484929078</dd>\n",
       "</dl>\n"
      ],
      "text/latex": [
       "\\begin{description*}\n",
       "\\item[Poblaciï..n..miles..2011] 13879.5785638298\n",
       "\\item[IDSE] 0.00864529742907801\n",
       "\\item[Ingreso.per.cï..p..Mens..miles....2006.11] 30998.0075487589\n",
       "\\item[Pobreza...2006.11] 25.8599822695035\n",
       "\\item[Escolaridad..aï..os..2006.11] 1.42196808510638\n",
       "\\item[X.ndice.Desarrollo.Humano] 0.0104571484929078\n",
       "\\end{description*}\n"
      ],
      "text/markdown": [
       "Poblaciï..n..miles..2011\n",
       ":   13879.5785638298IDSE\n",
       ":   0.00864529742907801Ingreso.per.cï..p..Mens..miles....2006.11\n",
       ":   30998.0075487589Pobreza...2006.11\n",
       ":   25.8599822695035Escolaridad..aï..os..2006.11\n",
       ":   1.42196808510638X.ndice.Desarrollo.Humano\n",
       ":   0.0104571484929078\n",
       "\n"
      ],
      "text/plain": [
       "                 Poblaciï..n..miles..2011 \n",
       "                             1.387958e+04 \n",
       "                                     IDSE \n",
       "                             8.645297e-03 \n",
       "Ingreso.per.cï..p..Mens..miles....2006.11 \n",
       "                             3.099801e+04 \n",
       "                        Pobreza...2006.11 \n",
       "                             2.585998e+01 \n",
       "             Escolaridad..aï..os..2006.11 \n",
       "                             1.421968e+00 \n",
       "                X.ndice.Desarrollo.Humano \n",
       "                             1.045715e-02 "
      ]
     },
     "metadata": {},
     "output_type": "display_data"
    },
    {
     "data": {
      "text/html": [
       "<dl class=dl-horizontal>\n",
       "\t<dt>Poblaciï..n..miles..2011</dt>\n",
       "\t\t<dd>207.9125</dd>\n",
       "\t<dt>IDSE</dt>\n",
       "\t\t<dd>0.675020833333333</dd>\n",
       "\t<dt>Ingreso.per.cï..p..Mens..miles....2006.11</dt>\n",
       "\t\t<dd>252.560416666667</dd>\n",
       "\t<dt>Pobreza...2006.11</dt>\n",
       "\t\t<dd>13.3708333333333</dd>\n",
       "\t<dt>Escolaridad..aï..os..2006.11</dt>\n",
       "\t\t<dd>10.8125</dd>\n",
       "\t<dt>X.ndice.Desarrollo.Humano</dt>\n",
       "\t\t<dd>0.616520833333333</dd>\n",
       "</dl>\n"
      ],
      "text/latex": [
       "\\begin{description*}\n",
       "\\item[Poblaciï..n..miles..2011] 207.9125\n",
       "\\item[IDSE] 0.675020833333333\n",
       "\\item[Ingreso.per.cï..p..Mens..miles....2006.11] 252.560416666667\n",
       "\\item[Pobreza...2006.11] 13.3708333333333\n",
       "\\item[Escolaridad..aï..os..2006.11] 10.8125\n",
       "\\item[X.ndice.Desarrollo.Humano] 0.616520833333333\n",
       "\\end{description*}\n"
      ],
      "text/markdown": [
       "Poblaciï..n..miles..2011\n",
       ":   207.9125IDSE\n",
       ":   0.675020833333333Ingreso.per.cï..p..Mens..miles....2006.11\n",
       ":   252.560416666667Pobreza...2006.11\n",
       ":   13.3708333333333Escolaridad..aï..os..2006.11\n",
       ":   10.8125X.ndice.Desarrollo.Humano\n",
       ":   0.616520833333333\n",
       "\n"
      ],
      "text/plain": [
       "                 Poblaciï..n..miles..2011 \n",
       "                              207.9125000 \n",
       "                                     IDSE \n",
       "                                0.6750208 \n",
       "Ingreso.per.cï..p..Mens..miles....2006.11 \n",
       "                              252.5604167 \n",
       "                        Pobreza...2006.11 \n",
       "                               13.3708333 \n",
       "             Escolaridad..aï..os..2006.11 \n",
       "                               10.8125000 \n",
       "                X.ndice.Desarrollo.Humano \n",
       "                                0.6165208 "
      ]
     },
     "metadata": {},
     "output_type": "display_data"
    }
   ],
   "source": [
    "tempDatos <- datos\n",
    "\n",
    "apply(tempDatos[,1:6], 2, var) # column, varianza\n",
    "\n",
    "apply(tempDatos[,1:6],2,mean) # column, promedio\n"
   ]
  },
  {
   "cell_type": "code",
   "execution_count": 380,
   "metadata": {
    "vscode": {
     "languageId": "r"
    }
   },
   "outputs": [
    {
     "data": {
      "text/html": [
       "<table>\n",
       "<thead><tr><th scope=col>Poblaciï..n..miles..2011</th><th scope=col>IDSE</th><th scope=col>Ingreso.per.cï..p..Mens..miles....2006.11</th><th scope=col>Pobreza...2006.11</th><th scope=col>Escolaridad..aï..os..2006.11</th><th scope=col>X.ndice.Desarrollo.Humano</th></tr></thead>\n",
       "<tbody>\n",
       "\t<tr><td>-0.18599608</td><td> 0.24714072</td><td>-0.14177020</td><td>-0.62353280</td><td> 0.24109762</td><td> 0.14159142</td></tr>\n",
       "\t<tr><td>-0.50175440</td><td> 0.45148554</td><td> 0.09507750</td><td>-0.95783159</td><td> 0.07337754</td><td> 0.08291756</td></tr>\n",
       "\t<tr><td> 1.40128364</td><td> 0.41922057</td><td> 0.02237605</td><td>-1.23313648</td><td> 0.15723758</td><td> 0.10247552</td></tr>\n",
       "\t<tr><td>-0.37358368</td><td>-0.04324402</td><td>-0.18834456</td><td> 0.22204650</td><td>-0.09434255</td><td>-0.07354605</td></tr>\n",
       "\t<tr><td> 0.05761316</td><td>-0.06475401</td><td>-0.33090757</td><td> 0.22204650</td><td>-0.17820259</td><td> 0.02424371</td></tr>\n",
       "\t<tr><td> 0.06100841</td><td>-0.19381389</td><td>-0.39452134</td><td>-0.07292302</td><td>-0.34592267</td><td> 0.03402269</td></tr>\n",
       "</tbody>\n",
       "</table>\n"
      ],
      "text/latex": [
       "\\begin{tabular}{llllll}\n",
       " Poblaciï..n..miles..2011 & IDSE & Ingreso.per.cï..p..Mens..miles....2006.11 & Pobreza...2006.11 & Escolaridad..aï..os..2006.11 & X.ndice.Desarrollo.Humano\\\\\n",
       "\\hline\n",
       "\t -0.18599608 &  0.24714072 & -0.14177020 & -0.62353280 &  0.24109762 &  0.14159142\\\\\n",
       "\t -0.50175440 &  0.45148554 &  0.09507750 & -0.95783159 &  0.07337754 &  0.08291756\\\\\n",
       "\t  1.40128364 &  0.41922057 &  0.02237605 & -1.23313648 &  0.15723758 &  0.10247552\\\\\n",
       "\t -0.37358368 & -0.04324402 & -0.18834456 &  0.22204650 & -0.09434255 & -0.07354605\\\\\n",
       "\t  0.05761316 & -0.06475401 & -0.33090757 &  0.22204650 & -0.17820259 &  0.02424371\\\\\n",
       "\t  0.06100841 & -0.19381389 & -0.39452134 & -0.07292302 & -0.34592267 &  0.03402269\\\\\n",
       "\\end{tabular}\n"
      ],
      "text/markdown": [
       "\n",
       "| Poblaciï..n..miles..2011 | IDSE | Ingreso.per.cï..p..Mens..miles....2006.11 | Pobreza...2006.11 | Escolaridad..aï..os..2006.11 | X.ndice.Desarrollo.Humano |\n",
       "|---|---|---|---|---|---|\n",
       "| -0.18599608 |  0.24714072 | -0.14177020 | -0.62353280 |  0.24109762 |  0.14159142 |\n",
       "| -0.50175440 |  0.45148554 |  0.09507750 | -0.95783159 |  0.07337754 |  0.08291756 |\n",
       "|  1.40128364 |  0.41922057 |  0.02237605 | -1.23313648 |  0.15723758 |  0.10247552 |\n",
       "| -0.37358368 | -0.04324402 | -0.18834456 |  0.22204650 | -0.09434255 | -0.07354605 |\n",
       "|  0.05761316 | -0.06475401 | -0.33090757 |  0.22204650 | -0.17820259 |  0.02424371 |\n",
       "|  0.06100841 | -0.19381389 | -0.39452134 | -0.07292302 | -0.34592267 |  0.03402269 |\n",
       "\n"
      ],
      "text/plain": [
       "     Poblaciï..n..miles..2011 IDSE       \n",
       "[1,] -0.18599608               0.24714072\n",
       "[2,] -0.50175440               0.45148554\n",
       "[3,]  1.40128364               0.41922057\n",
       "[4,] -0.37358368              -0.04324402\n",
       "[5,]  0.05761316              -0.06475401\n",
       "[6,]  0.06100841              -0.19381389\n",
       "     Ingreso.per.cï..p..Mens..miles....2006.11 Pobreza...2006.11\n",
       "[1,] -0.14177020                               -0.62353280      \n",
       "[2,]  0.09507750                               -0.95783159      \n",
       "[3,]  0.02237605                               -1.23313648      \n",
       "[4,] -0.18834456                                0.22204650      \n",
       "[5,] -0.33090757                                0.22204650      \n",
       "[6,] -0.39452134                               -0.07292302      \n",
       "     Escolaridad..aï..os..2006.11 X.ndice.Desarrollo.Humano\n",
       "[1,]  0.24109762                   0.14159142              \n",
       "[2,]  0.07337754                   0.08291756              \n",
       "[3,]  0.15723758                   0.10247552              \n",
       "[4,] -0.09434255                  -0.07354605              \n",
       "[5,] -0.17820259                   0.02424371              \n",
       "[6,] -0.34592267                   0.03402269              "
      ]
     },
     "metadata": {},
     "output_type": "display_data"
    },
    {
     "data": {
      "text/html": [
       "<dl class=dl-horizontal>\n",
       "\t<dt>Poblaciï..n..miles..2011</dt>\n",
       "\t\t<dd>1</dd>\n",
       "\t<dt>IDSE</dt>\n",
       "\t\t<dd>1</dd>\n",
       "\t<dt>Ingreso.per.cï..p..Mens..miles....2006.11</dt>\n",
       "\t\t<dd>1</dd>\n",
       "\t<dt>Pobreza...2006.11</dt>\n",
       "\t\t<dd>1</dd>\n",
       "\t<dt>Escolaridad..aï..os..2006.11</dt>\n",
       "\t\t<dd>1</dd>\n",
       "\t<dt>X.ndice.Desarrollo.Humano</dt>\n",
       "\t\t<dd>1</dd>\n",
       "</dl>\n"
      ],
      "text/latex": [
       "\\begin{description*}\n",
       "\\item[Poblaciï..n..miles..2011] 1\n",
       "\\item[IDSE] 1\n",
       "\\item[Ingreso.per.cï..p..Mens..miles....2006.11] 1\n",
       "\\item[Pobreza...2006.11] 1\n",
       "\\item[Escolaridad..aï..os..2006.11] 1\n",
       "\\item[X.ndice.Desarrollo.Humano] 1\n",
       "\\end{description*}\n"
      ],
      "text/markdown": [
       "Poblaciï..n..miles..2011\n",
       ":   1IDSE\n",
       ":   1Ingreso.per.cï..p..Mens..miles....2006.11\n",
       ":   1Pobreza...2006.11\n",
       ":   1Escolaridad..aï..os..2006.11\n",
       ":   1X.ndice.Desarrollo.Humano\n",
       ":   1\n",
       "\n"
      ],
      "text/plain": [
       "                 Poblaciï..n..miles..2011 \n",
       "                                        1 \n",
       "                                     IDSE \n",
       "                                        1 \n",
       "Ingreso.per.cï..p..Mens..miles....2006.11 \n",
       "                                        1 \n",
       "                        Pobreza...2006.11 \n",
       "                                        1 \n",
       "             Escolaridad..aï..os..2006.11 \n",
       "                                        1 \n",
       "                X.ndice.Desarrollo.Humano \n",
       "                                        1 "
      ]
     },
     "metadata": {},
     "output_type": "display_data"
    },
    {
     "data": {
      "text/html": [
       "<dl class=dl-horizontal>\n",
       "\t<dt>Poblaciï..n..miles..2011</dt>\n",
       "\t\t<dd>4.56728635488991e-17</dd>\n",
       "\t<dt>IDSE</dt>\n",
       "\t\t<dd>5.21897091696211e-16</dd>\n",
       "\t<dt>Ingreso.per.cï..p..Mens..miles....2006.11</dt>\n",
       "\t\t<dd>-3.11072849879142e-17</dd>\n",
       "\t<dt>Pobreza...2006.11</dt>\n",
       "\t\t<dd>-4.75462180839099e-17</dd>\n",
       "\t<dt>Escolaridad..aï..os..2006.11</dt>\n",
       "\t\t<dd>-1.95442970527878e-17</dd>\n",
       "\t<dt>X.ndice.Desarrollo.Humano</dt>\n",
       "\t\t<dd>3.65991360391637e-16</dd>\n",
       "</dl>\n"
      ],
      "text/latex": [
       "\\begin{description*}\n",
       "\\item[Poblaciï..n..miles..2011] 4.56728635488991e-17\n",
       "\\item[IDSE] 5.21897091696211e-16\n",
       "\\item[Ingreso.per.cï..p..Mens..miles....2006.11] -3.11072849879142e-17\n",
       "\\item[Pobreza...2006.11] -4.75462180839099e-17\n",
       "\\item[Escolaridad..aï..os..2006.11] -1.95442970527878e-17\n",
       "\\item[X.ndice.Desarrollo.Humano] 3.65991360391637e-16\n",
       "\\end{description*}\n"
      ],
      "text/markdown": [
       "Poblaciï..n..miles..2011\n",
       ":   4.56728635488991e-17IDSE\n",
       ":   5.21897091696211e-16Ingreso.per.cï..p..Mens..miles....2006.11\n",
       ":   -3.11072849879142e-17Pobreza...2006.11\n",
       ":   -4.75462180839099e-17Escolaridad..aï..os..2006.11\n",
       ":   -1.95442970527878e-17X.ndice.Desarrollo.Humano\n",
       ":   3.65991360391637e-16\n",
       "\n"
      ],
      "text/plain": [
       "                 Poblaciï..n..miles..2011 \n",
       "                             4.567286e-17 \n",
       "                                     IDSE \n",
       "                             5.218971e-16 \n",
       "Ingreso.per.cï..p..Mens..miles....2006.11 \n",
       "                            -3.110728e-17 \n",
       "                        Pobreza...2006.11 \n",
       "                            -4.754622e-17 \n",
       "             Escolaridad..aï..os..2006.11 \n",
       "                            -1.954430e-17 \n",
       "                X.ndice.Desarrollo.Humano \n",
       "                             3.659914e-16 "
      ]
     },
     "metadata": {},
     "output_type": "display_data"
    }
   ],
   "source": [
    "scaled_df <- apply(tempDatos[,1:6], 2, scale)\n",
    "head(scaled_df)\n",
    "\n",
    "apply(scaled_df, 2, var)\n",
    "apply(scaled_df, 2, mean)\n"
   ]
  },
  {
   "cell_type": "code",
   "execution_count": 381,
   "metadata": {
    "vscode": {
     "languageId": "r"
    }
   },
   "outputs": [
    {
     "data": {
      "text/html": [
       "<ol class=list-inline>\n",
       "\t<li>0.75</li>\n",
       "\t<li>0.17</li>\n",
       "\t<li>0.06</li>\n",
       "\t<li>0.02</li>\n",
       "\t<li>0.01</li>\n",
       "\t<li>0</li>\n",
       "</ol>\n"
      ],
      "text/latex": [
       "\\begin{enumerate*}\n",
       "\\item 0.75\n",
       "\\item 0.17\n",
       "\\item 0.06\n",
       "\\item 0.02\n",
       "\\item 0.01\n",
       "\\item 0\n",
       "\\end{enumerate*}\n"
      ],
      "text/markdown": [
       "1. 0.75\n",
       "2. 0.17\n",
       "3. 0.06\n",
       "4. 0.02\n",
       "5. 0.01\n",
       "6. 0\n",
       "\n",
       "\n"
      ],
      "text/plain": [
       "[1] 0.75 0.17 0.06 0.02 0.01 0.00"
      ]
     },
     "metadata": {},
     "output_type": "display_data"
    }
   ],
   "source": [
    "#Calculamos covarianza\n",
    "datos.covarianza <- cov(scaled_df)\n",
    "#Calculamos los valores propios\n",
    "datos.valoresPropios <- eigen(datos.covarianza)\n",
    "\n",
    "PVE <- datos.valoresPropios$values / sum(datos.valoresPropios$values)\n",
    "# Ordenados por ejes\n",
    "round(PVE, 2)"
   ]
  },
  {
   "cell_type": "code",
   "execution_count": 382,
   "metadata": {
    "vscode": {
     "languageId": "r"
    }
   },
   "outputs": [
    {
     "name": "stdout",
     "output_type": "stream",
     "text": [
      "           Iquique             Calama        Antofagasta            Copiapo \n",
      "                 2                  2                  1                  2 \n",
      "         La Serena           Coquimbo             Ovalle            Quilpu? \n",
      "                 2                  2                  2                  2 \n",
      "      Vina del Mar      Villa Alemana         Valparaiso           Rancagua \n",
      "                 2                  2                  2                  2 \n",
      "            Curico              Talca        Chiguayante       Concepciï¿½n \n",
      "                 2                  2                  2                  2 \n",
      "        Talcahuano            Chillan        Los Angeles            Coronel \n",
      "                 2                  2                  2                  2 \n",
      "            Temuco       Puerto Montt             Osorno       Punta Arenas \n",
      "                 2                  2                  2                  2 \n",
      "        Las Condes        Providencia              Nunoa           Santiago \n",
      "                 3                  3                  3                  3 \n",
      "      Lo Barnechea         La Florida              Maipu          Quilicura \n",
      "                 3                  1                  1                  2 \n",
      "Estaciï¿½n Central        Puente Alto          Penalolen           Pudahuel \n",
      "                 2                  1                  2                  2 \n",
      "            Colina         Conchalï¿½           Recoleta          El Bosque \n",
      "                 2                  2                  2                  2 \n",
      "      San Bernardo              Renca          La Granja          Melipilla \n",
      "                 2                  2                  2                  2 \n",
      "       Cerro Navia         La Pintana           Valdivia              Arica \n",
      "                 2                  2                  2                  2 \n"
     ]
    },
    {
     "data": {
      "text/html": [
       "<table>\n",
       "<thead><tr><th></th><th scope=col>Poblaciï..n..miles..2011</th><th scope=col>IDSE</th><th scope=col>Ingreso.per.cï..p..Mens..miles....2006.11</th><th scope=col>Pobreza...2006.11</th><th scope=col>Escolaridad..aï..os..2006.11</th><th scope=col>X.ndice.Desarrollo.Humano</th></tr></thead>\n",
       "<tbody>\n",
       "\t<tr><th scope=row>Min.</th><td>373.00 </td><td>0.6760 </td><td>175.000</td><td> 7.100 </td><td>10.900 </td><td>0.62700</td></tr>\n",
       "\t<tr><th scope=row>1st Qu.</th><td>392.05 </td><td>0.7045 </td><td>236.125</td><td> 7.925 </td><td>10.975 </td><td>0.63375</td></tr>\n",
       "\t<tr><th scope=row>Median</th><td>473.60 </td><td>0.7275 </td><td>258.700</td><td> 8.850 </td><td>11.250 </td><td>0.67900</td></tr>\n",
       "\t<tr><th scope=row>Mean</th><td>513.90 </td><td>0.7180 </td><td>238.400</td><td> 9.450 </td><td>11.250 </td><td>0.68100</td></tr>\n",
       "\t<tr><th scope=row>3rd Qu.</th><td>595.45 </td><td>0.7410 </td><td>260.975</td><td>10.375 </td><td>11.525 </td><td>0.72625</td></tr>\n",
       "\t<tr><th scope=row>Max.</th><td>735.40 </td><td>0.7410 </td><td>261.200</td><td>13.000 </td><td>11.600 </td><td>0.73900</td></tr>\n",
       "</tbody>\n",
       "</table>\n"
      ],
      "text/latex": [
       "\\begin{tabular}{r|llllll}\n",
       "  & Poblaciï..n..miles..2011 & IDSE & Ingreso.per.cï..p..Mens..miles....2006.11 & Pobreza...2006.11 & Escolaridad..aï..os..2006.11 & X.ndice.Desarrollo.Humano\\\\\n",
       "\\hline\n",
       "\tMin. & 373.00  & 0.6760  & 175.000 &  7.100  & 10.900  & 0.62700\\\\\n",
       "\t1st Qu. & 392.05  & 0.7045  & 236.125 &  7.925  & 10.975  & 0.63375\\\\\n",
       "\tMedian & 473.60  & 0.7275  & 258.700 &  8.850  & 11.250  & 0.67900\\\\\n",
       "\tMean & 513.90  & 0.7180  & 238.400 &  9.450  & 11.250  & 0.68100\\\\\n",
       "\t3rd Qu. & 595.45  & 0.7410  & 260.975 & 10.375  & 11.525  & 0.72625\\\\\n",
       "\tMax. & 735.40  & 0.7410  & 261.200 & 13.000  & 11.600  & 0.73900\\\\\n",
       "\\end{tabular}\n"
      ],
      "text/markdown": [
       "\n",
       "| <!--/--> | Poblaciï..n..miles..2011 | IDSE | Ingreso.per.cï..p..Mens..miles....2006.11 | Pobreza...2006.11 | Escolaridad..aï..os..2006.11 | X.ndice.Desarrollo.Humano |\n",
       "|---|---|---|---|---|---|---|\n",
       "| Min. | 373.00  | 0.6760  | 175.000 |  7.100  | 10.900  | 0.62700 |\n",
       "| 1st Qu. | 392.05  | 0.7045  | 236.125 |  7.925  | 10.975  | 0.63375 |\n",
       "| Median | 473.60  | 0.7275  | 258.700 |  8.850  | 11.250  | 0.67900 |\n",
       "| Mean | 513.90  | 0.7180  | 238.400 |  9.450  | 11.250  | 0.68100 |\n",
       "| 3rd Qu. | 595.45  | 0.7410  | 260.975 | 10.375  | 11.525  | 0.72625 |\n",
       "| Max. | 735.40  | 0.7410  | 261.200 | 13.000  | 11.600  | 0.73900 |\n",
       "\n"
      ],
      "text/plain": [
       "        Poblaciï..n..miles..2011 IDSE  \n",
       "Min.    373.00                   0.6760\n",
       "1st Qu. 392.05                   0.7045\n",
       "Median  473.60                   0.7275\n",
       "Mean    513.90                   0.7180\n",
       "3rd Qu. 595.45                   0.7410\n",
       "Max.    735.40                   0.7410\n",
       "        Ingreso.per.cï..p..Mens..miles....2006.11 Pobreza...2006.11\n",
       "Min.    175.000                                    7.100           \n",
       "1st Qu. 236.125                                    7.925           \n",
       "Median  258.700                                    8.850           \n",
       "Mean    238.400                                    9.450           \n",
       "3rd Qu. 260.975                                   10.375           \n",
       "Max.    261.200                                   13.000           \n",
       "        Escolaridad..aï..os..2006.11 X.ndice.Desarrollo.Humano\n",
       "Min.    10.900                       0.62700                  \n",
       "1st Qu. 10.975                       0.63375                  \n",
       "Median  11.250                       0.67900                  \n",
       "Mean    11.250                       0.68100                  \n",
       "3rd Qu. 11.525                       0.72625                  \n",
       "Max.    11.600                       0.73900                  "
      ]
     },
     "metadata": {},
     "output_type": "display_data"
    },
    {
     "data": {
      "text/html": [
       "<table>\n",
       "<thead><tr><th></th><th scope=col>Poblaciï..n..miles..2011</th><th scope=col>IDSE</th><th scope=col>Ingreso.per.cï..p..Mens..miles....2006.11</th><th scope=col>Pobreza...2006.11</th><th scope=col>Escolaridad..aï..os..2006.11</th><th scope=col>X.ndice.Desarrollo.Humano</th></tr></thead>\n",
       "<tbody>\n",
       "\t<tr><th scope=row>Min.</th><td>107.2000 </td><td>0.5190000</td><td>134.1000 </td><td> 6.50000 </td><td> 8.90000 </td><td>0.4820000</td></tr>\n",
       "\t<tr><th scope=row>1st Qu.</th><td>128.0000 </td><td>0.6080000</td><td>166.8500 </td><td>11.50000 </td><td>10.00000 </td><td>0.5430000</td></tr>\n",
       "\t<tr><th scope=row>Median</th><td>168.3000 </td><td>0.6550000</td><td>188.0000 </td><td>15.20000 </td><td>10.40000 </td><td>0.5870000</td></tr>\n",
       "\t<tr><th scope=row>Mean</th><td>181.8154 </td><td>0.6424872</td><td>194.9974 </td><td>14.93077 </td><td>10.41795 </td><td>0.5794615</td></tr>\n",
       "\t<tr><th scope=row>3rd Qu.</th><td>222.1500 </td><td>0.6730000</td><td>219.5500 </td><td>17.80000 </td><td>10.90000 </td><td>0.6190000</td></tr>\n",
       "\t<tr><th scope=row>Max.</th><td>311.0000 </td><td>0.7330000</td><td>284.6000 </td><td>23.70000 </td><td>11.70000 </td><td>0.6740000</td></tr>\n",
       "</tbody>\n",
       "</table>\n"
      ],
      "text/latex": [
       "\\begin{tabular}{r|llllll}\n",
       "  & Poblaciï..n..miles..2011 & IDSE & Ingreso.per.cï..p..Mens..miles....2006.11 & Pobreza...2006.11 & Escolaridad..aï..os..2006.11 & X.ndice.Desarrollo.Humano\\\\\n",
       "\\hline\n",
       "\tMin. & 107.2000  & 0.5190000 & 134.1000  &  6.50000  &  8.90000  & 0.4820000\\\\\n",
       "\t1st Qu. & 128.0000  & 0.6080000 & 166.8500  & 11.50000  & 10.00000  & 0.5430000\\\\\n",
       "\tMedian & 168.3000  & 0.6550000 & 188.0000  & 15.20000  & 10.40000  & 0.5870000\\\\\n",
       "\tMean & 181.8154  & 0.6424872 & 194.9974  & 14.93077  & 10.41795  & 0.5794615\\\\\n",
       "\t3rd Qu. & 222.1500  & 0.6730000 & 219.5500  & 17.80000  & 10.90000  & 0.6190000\\\\\n",
       "\tMax. & 311.0000  & 0.7330000 & 284.6000  & 23.70000  & 11.70000  & 0.6740000\\\\\n",
       "\\end{tabular}\n"
      ],
      "text/markdown": [
       "\n",
       "| <!--/--> | Poblaciï..n..miles..2011 | IDSE | Ingreso.per.cï..p..Mens..miles....2006.11 | Pobreza...2006.11 | Escolaridad..aï..os..2006.11 | X.ndice.Desarrollo.Humano |\n",
       "|---|---|---|---|---|---|---|\n",
       "| Min. | 107.2000  | 0.5190000 | 134.1000  |  6.50000  |  8.90000  | 0.4820000 |\n",
       "| 1st Qu. | 128.0000  | 0.6080000 | 166.8500  | 11.50000  | 10.00000  | 0.5430000 |\n",
       "| Median | 168.3000  | 0.6550000 | 188.0000  | 15.20000  | 10.40000  | 0.5870000 |\n",
       "| Mean | 181.8154  | 0.6424872 | 194.9974  | 14.93077  | 10.41795  | 0.5794615 |\n",
       "| 3rd Qu. | 222.1500  | 0.6730000 | 219.5500  | 17.80000  | 10.90000  | 0.6190000 |\n",
       "| Max. | 311.0000  | 0.7330000 | 284.6000  | 23.70000  | 11.70000  | 0.6740000 |\n",
       "\n"
      ],
      "text/plain": [
       "        Poblaciï..n..miles..2011 IDSE     \n",
       "Min.    107.2000                 0.5190000\n",
       "1st Qu. 128.0000                 0.6080000\n",
       "Median  168.3000                 0.6550000\n",
       "Mean    181.8154                 0.6424872\n",
       "3rd Qu. 222.1500                 0.6730000\n",
       "Max.    311.0000                 0.7330000\n",
       "        Ingreso.per.cï..p..Mens..miles....2006.11 Pobreza...2006.11\n",
       "Min.    134.1000                                   6.50000         \n",
       "1st Qu. 166.8500                                  11.50000         \n",
       "Median  188.0000                                  15.20000         \n",
       "Mean    194.9974                                  14.93077         \n",
       "3rd Qu. 219.5500                                  17.80000         \n",
       "Max.    284.6000                                  23.70000         \n",
       "        Escolaridad..aï..os..2006.11 X.ndice.Desarrollo.Humano\n",
       "Min.     8.90000                     0.4820000                \n",
       "1st Qu. 10.00000                     0.5430000                \n",
       "Median  10.40000                     0.5870000                \n",
       "Mean    10.41795                     0.5794615                \n",
       "3rd Qu. 10.90000                     0.6190000                \n",
       "Max.    11.70000                     0.6740000                "
      ]
     },
     "metadata": {},
     "output_type": "display_data"
    },
    {
     "data": {
      "text/html": [
       "<table>\n",
       "<thead><tr><th></th><th scope=col>Poblaciï..n..miles..2011</th><th scope=col>IDSE</th><th scope=col>Ingreso.per.cï..p..Mens..miles....2006.11</th><th scope=col>Pobreza...2006.11</th><th scope=col>Escolaridad..aï..os..2006.11</th><th scope=col>X.ndice.Desarrollo.Humano</th></tr></thead>\n",
       "<tbody>\n",
       "\t<tr><th scope=row>Min.</th><td>109.60</td><td>0.8090</td><td>487.50</td><td>1.30  </td><td>11.60 </td><td>0.733 </td></tr>\n",
       "\t<tr><th scope=row>1st Qu.</th><td>126.60</td><td>0.8330</td><td>569.30</td><td>1.70  </td><td>13.10 </td><td>0.793 </td></tr>\n",
       "\t<tr><th scope=row>Median</th><td>145.10</td><td>0.8920</td><td>587.90</td><td>4.10  </td><td>13.70 </td><td>0.841 </td></tr>\n",
       "\t<tr><th scope=row>Mean</th><td>166.68</td><td>0.8944</td><td>712.88</td><td>4.34  </td><td>13.54 </td><td>0.854 </td></tr>\n",
       "\t<tr><th scope=row>3rd Qu.</th><td>164.00</td><td>0.9680</td><td>953.00</td><td>6.90  </td><td>14.60 </td><td>0.931 </td></tr>\n",
       "\t<tr><th scope=row>Max.</th><td>288.10</td><td>0.9700</td><td>966.70</td><td>7.70  </td><td>14.70 </td><td>0.972 </td></tr>\n",
       "</tbody>\n",
       "</table>\n"
      ],
      "text/latex": [
       "\\begin{tabular}{r|llllll}\n",
       "  & Poblaciï..n..miles..2011 & IDSE & Ingreso.per.cï..p..Mens..miles....2006.11 & Pobreza...2006.11 & Escolaridad..aï..os..2006.11 & X.ndice.Desarrollo.Humano\\\\\n",
       "\\hline\n",
       "\tMin. & 109.60 & 0.8090 & 487.50 & 1.30   & 11.60  & 0.733 \\\\\n",
       "\t1st Qu. & 126.60 & 0.8330 & 569.30 & 1.70   & 13.10  & 0.793 \\\\\n",
       "\tMedian & 145.10 & 0.8920 & 587.90 & 4.10   & 13.70  & 0.841 \\\\\n",
       "\tMean & 166.68 & 0.8944 & 712.88 & 4.34   & 13.54  & 0.854 \\\\\n",
       "\t3rd Qu. & 164.00 & 0.9680 & 953.00 & 6.90   & 14.60  & 0.931 \\\\\n",
       "\tMax. & 288.10 & 0.9700 & 966.70 & 7.70   & 14.70  & 0.972 \\\\\n",
       "\\end{tabular}\n"
      ],
      "text/markdown": [
       "\n",
       "| <!--/--> | Poblaciï..n..miles..2011 | IDSE | Ingreso.per.cï..p..Mens..miles....2006.11 | Pobreza...2006.11 | Escolaridad..aï..os..2006.11 | X.ndice.Desarrollo.Humano |\n",
       "|---|---|---|---|---|---|---|\n",
       "| Min. | 109.60 | 0.8090 | 487.50 | 1.30   | 11.60  | 0.733  |\n",
       "| 1st Qu. | 126.60 | 0.8330 | 569.30 | 1.70   | 13.10  | 0.793  |\n",
       "| Median | 145.10 | 0.8920 | 587.90 | 4.10   | 13.70  | 0.841  |\n",
       "| Mean | 166.68 | 0.8944 | 712.88 | 4.34   | 13.54  | 0.854  |\n",
       "| 3rd Qu. | 164.00 | 0.9680 | 953.00 | 6.90   | 14.60  | 0.931  |\n",
       "| Max. | 288.10 | 0.9700 | 966.70 | 7.70   | 14.70  | 0.972  |\n",
       "\n"
      ],
      "text/plain": [
       "        Poblaciï..n..miles..2011 IDSE  \n",
       "Min.    109.60                   0.8090\n",
       "1st Qu. 126.60                   0.8330\n",
       "Median  145.10                   0.8920\n",
       "Mean    166.68                   0.8944\n",
       "3rd Qu. 164.00                   0.9680\n",
       "Max.    288.10                   0.9700\n",
       "        Ingreso.per.cï..p..Mens..miles....2006.11 Pobreza...2006.11\n",
       "Min.    487.50                                    1.30             \n",
       "1st Qu. 569.30                                    1.70             \n",
       "Median  587.90                                    4.10             \n",
       "Mean    712.88                                    4.34             \n",
       "3rd Qu. 953.00                                    6.90             \n",
       "Max.    966.70                                    7.70             \n",
       "        Escolaridad..aï..os..2006.11 X.ndice.Desarrollo.Humano\n",
       "Min.    11.60                        0.733                    \n",
       "1st Qu. 13.10                        0.793                    \n",
       "Median  13.70                        0.841                    \n",
       "Mean    13.54                        0.854                    \n",
       "3rd Qu. 14.60                        0.931                    \n",
       "Max.    14.70                        0.972                    "
      ]
     },
     "metadata": {},
     "output_type": "display_data"
    }
   ],
   "source": [
    "#Utilizando el k optimo obtenido anteriormente:\n",
    "cl<-kmeans(datos,3,iter.max=1000,nstart=10)\n",
    "print(cl$cluster)\n",
    "apply(datos[cl$cluster==1,],2,summary)\n",
    "apply(datos[cl$cluster==2,],2,summary)\n",
    "apply(datos[cl$cluster==3,],2,summary)"
   ]
  },
  {
   "cell_type": "code",
   "execution_count": 383,
   "metadata": {
    "vscode": {
     "languageId": "r"
    }
   },
   "outputs": [],
   "source": [
    "#(2.3) \n",
    "#Caracterice los grupos obtenidos con el K óptimo. Interprete sus resultados\n",
    "\n",
    "# Caracterización de los datos para k=3\n",
    "# Los 3 grupos que se generan son bastante diferenciables los unos de los otros.\n",
    "# - En el primer grupo se encuentran comunas que en general presentan más pobreza que los otros \n",
    "# 2 grupos con una media de 14.3 y en general un no tan alto índice de desarrollo humano, ingreso per cápita y escolaridad.\n",
    "# - El segundo grupo está compuesto por comunas con una alta población, siendo la media de 513 mil habitantes,\n",
    "#  por ejemplo Puente Alto, La Florida y Maipú\n",
    "# - Finalmente el tercer grupo lo componen comunas con altos valores en ingreso per cápita (media: 194.99),\n",
    "#  desarrollo humano (media: 0.642) y escolaridad (media: 10.41795), lo componen comunas como Las Condes, Santiago, Lo Barnechea\n"
   ]
  }
 ],
 "metadata": {
  "celltoolbar": "Raw Cell Format",
  "kernelspec": {
   "display_name": "R",
   "language": "R",
   "name": "ir"
  },
  "language_info": {
   "codemirror_mode": "r",
   "file_extension": ".r",
   "mimetype": "text/x-r-source",
   "name": "R",
   "pygments_lexer": "r",
   "version": "3.6.1"
  }
 },
 "nbformat": 4,
 "nbformat_minor": 2
}
