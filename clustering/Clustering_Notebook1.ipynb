{
 "cells": [
  {
   "cell_type": "markdown",
   "metadata": {},
   "source": [
    "### Notebook 1:  Clustering con K-means\n",
    "En este notebook vamos a implementar el algoritmo de clustering K-means en R. El objetivo es entender como funciona este algoritmo y  aprender a utilizarlo con un ejemplo simple. Se incluye además la estrategia para definir el número de grupos k. Al final se propone un ejercicio con nuevos datos, con el fin de aprender a utilizar el algoritmo. "
   ]
  },
  {
   "cell_type": "code",
   "execution_count": 1,
   "metadata": {},
   "outputs": [
    {
     "name": "stdout",
     "output_type": "stream",
     "text": [
      "           WATER PROTEIN  FAT LACTOSE  ASH\n",
      "HORSE       90.1     2.6  1.0     6.9 0.35\n",
      "ORANGUTAN   88.5     1.4  3.5     6.0 0.24\n",
      "MONKEY      88.4     2.2  2.7     6.4 0.18\n",
      "DONKEY      90.3     1.7  1.4     6.2 0.40\n",
      "HIPPO       90.4     0.6  4.5     4.4 0.10\n",
      "CAMEL       87.7     3.5  3.4     4.8 0.71\n",
      "BISON       86.9     4.8  1.7     5.7 0.90\n",
      "BUFFALO     82.1     5.9  7.9     4.7 0.78\n",
      "GUINEA_PIG  81.9     7.4  7.2     2.7 0.85\n",
      "CAT         81.6    10.1  6.3     4.4 0.75\n",
      "FOX         81.6     6.6  5.9     4.9 0.93\n",
      "LLAMA       86.5     3.9  3.2     5.6 0.80\n",
      "MULE        90.0     2.0  1.8     5.5 0.47\n",
      "PIG         82.8     7.1  5.1     3.7 1.10\n",
      "ZEBRA       86.2     3.0  4.8     5.3 0.70\n",
      "SHEEP       82.0     5.6  6.4     4.7 0.91\n",
      "DOG         76.3     9.3  9.5     3.0 1.20\n",
      "ELEPHANT    70.7     3.6 17.6     5.6 0.63\n",
      "RABBIT      71.3    12.3 13.1     1.9 2.30\n",
      "RAT         72.5     9.2 12.6     3.3 1.40\n",
      "DEER        65.9    10.4 19.7     2.6 1.40\n",
      "REINDEER    64.8    10.7 20.3     2.5 1.40\n",
      "WHALE       64.8    11.1 21.2     1.6 1.70\n",
      "SEAL        46.4     9.7 42.0     0.0 0.85\n",
      "DOLPHIN     44.9    10.6 34.9     0.9 0.53\n"
     ]
    },
    {
     "data": {
      "text/plain": [
       "     WATER          PROTEIN            FAT           LACTOSE     \n",
       " Min.   :44.90   Min.   : 0.600   Min.   : 1.00   Min.   :0.000  \n",
       " 1st Qu.:71.30   1st Qu.: 3.000   1st Qu.: 3.40   1st Qu.:2.700  \n",
       " Median :82.00   Median : 5.900   Median : 6.30   Median :4.700  \n",
       " Mean   :78.18   Mean   : 6.212   Mean   :10.31   Mean   :4.132  \n",
       " 3rd Qu.:87.70   3rd Qu.: 9.700   3rd Qu.:13.10   3rd Qu.:5.600  \n",
       " Max.   :90.40   Max.   :12.300   Max.   :42.00   Max.   :6.900  \n",
       "      ASH        \n",
       " Min.   :0.1000  \n",
       " 1st Qu.:0.5300  \n",
       " Median :0.8000  \n",
       " Mean   :0.8632  \n",
       " 3rd Qu.:1.1000  \n",
       " Max.   :2.3000  "
      ]
     },
     "metadata": {},
     "output_type": "display_data"
    },
    {
     "data": {
      "image/png": "[encoded data removed]",
      "text/plain": [
       "plot without title"
      ]
     },
     "metadata": {
      "image/png": {
       "height": 420,
       "width": 420
      },
      "text/plain": {
       "height": 420,
       "width": 420
      }
     },
     "output_type": "display_data"
    }
   ],
   "source": [
    "library(cluster)\n",
    "library(ggplot2)\n",
    "\n",
    "#ruta datos\n",
    "#lee datos del archivo de texto como una matriz. La primera #columna se utiliza como vector de nombres de las filas\n",
    "datos <-read.table(\"c:\\\\milk.dat\",row.names=1,dec=\".\",header=TRUE)\n",
    "print(datos)\n",
    "summary(datos)\n",
    "boxplot(datos)"
   ]
  },
  {
   "cell_type": "markdown",
   "metadata": {},
   "source": [
    "**Descripción de los datos y porque realizar un análisis de agrupamiento**\n",
    "\n",
    "Se trata de un conjunto de datos que describen la composición de la leche de 25 mamíferos. Se consideran 5 características en porcentajes: agua, proteína, grasa, lactosa y calcio. Se puede observar del boxplot que, en promedio, el mayor porcentaje de todas las leches es agua (cerca de 80%), seguido de proteína, grasa y lactosa (cerca del 5%) y bastante menor porcentaje de calcio (0,8%). Las componente que tienen mayor variación son el porcentaje de agua y de grasa. Parece pertinente realizar un análisis de agrupamiento para distinguir grupos de mamíferos que poseen leches de características similares."
   ]
  },
  {
   "cell_type": "code",
   "execution_count": 11,
   "metadata": {
    "scrolled": true
   },
   "outputs": [
    {
     "data": {
      "image/png": "[encoded data removed]",
      "text/plain": [
       "plot without title"
      ]
     },
     "metadata": {
      "image/png": {
       "height": 420,
       "width": 420
      },
      "text/plain": {
       "height": 420,
       "width": 420
      }
     },
     "output_type": "display_data"
    }
   ],
   "source": [
    "#ingresar valor de k0 \n",
    "k0=3\n",
    "cl<-kmeans(datos,k0,iter.max=1000,nstart=10)\n",
    "#grafica los datos coloreados con el grupo asignado en planos de pares de variables\n",
    "pairs(datos,col=cl$cluster)"
   ]
  },
  {
   "cell_type": "markdown",
   "metadata": {},
   "source": [
    "Al considerar 3 grupos con el algoritmo KMeans, se obtienen grupos claramente diferenciados por las variables porcentaje de agua y grasa. El grupo negro (focas y delfines), con los menores porcentajes de agua y mayores porcentajes de grasa. El grupo negro, con 6 mamíferos, cuyas leches tienen porcentajes intermedios de agua (60 a 75%) y grasa (12 a 22%). Y luego el grupo rojo, el mas común, con 17 mamíferos, cuyas leches tienen mas de 75% de agua y menos de 10% de grasa. Las otras variables no permiten discriminar completamente los 3 grupos definidos."
   ]
  },
  {
   "cell_type": "code",
   "execution_count": 9,
   "metadata": {},
   "outputs": [
    {
     "name": "stdout",
     "output_type": "stream",
     "text": [
      "Call:\n",
      "princomp(x = datos, cor = TRUE)\n",
      "\n",
      "Standard deviations:\n",
      "    Comp.1     Comp.2     Comp.3     Comp.4     Comp.5 \n",
      "1.96946572 0.94201777 0.35905327 0.31397620 0.07941651 \n",
      "\n",
      " 5  variables and  25 observations.\n"
     ]
    },
    {
     "data": {
      "text/html": [
       "<table>\n",
       "<caption>A matrix: 20 × 5 of type dbl</caption>\n",
       "<thead>\n",
       "\t<tr><th scope=col>Comp.1</th><th scope=col>Comp.2</th><th scope=col>Comp.3</th><th scope=col>Comp.4</th><th scope=col>Comp.5</th></tr>\n",
       "</thead>\n",
       "<tbody>\n",
       "\t<tr><td> 1.332785e+00</td><td> 0.22326342</td><td>-0.01492711</td><td> 0.185200990</td><td>-0.019506445</td></tr>\n",
       "\t<tr><td> 2.060294e+00</td><td>-1.01919913</td><td> 0.76243569</td><td> 0.510091168</td><td> 0.029381555</td></tr>\n",
       "\t<tr><td>-1.309609e+00</td><td> 0.77403221</td><td>-0.15970917</td><td>-0.015484555</td><td>-0.064370973</td></tr>\n",
       "\t<tr><td>-2.212053e+00</td><td> 0.34503580</td><td>-0.21147194</td><td>-0.064828833</td><td> 0.044332315</td></tr>\n",
       "\t<tr><td>-2.345616e+00</td><td> 0.31000268</td><td>-0.20568573</td><td>-0.108604915</td><td> 0.031051371</td></tr>\n",
       "\t<tr><td>-2.555018e-01</td><td> 0.28737324</td><td> 0.88185687</td><td> 0.013099885</td><td>-0.016484103</td></tr>\n",
       "\t<tr><td>-3.528390e+00</td><td>-2.28086300</td><td> 0.12858522</td><td>-0.432830339</td><td>-0.249417356</td></tr>\n",
       "\t<tr><td>-4.133773e+00</td><td>-2.20080107</td><td> 0.06721481</td><td> 0.374615334</td><td> 0.190501442</td></tr>\n",
       "\t<tr><td> 4.710687e-01</td><td> 0.39033806</td><td>-0.10706204</td><td>-0.108384912</td><td>-0.029962683</td></tr>\n",
       "\t<tr><td> 2.255503e+00</td><td>-0.23269966</td><td>-0.10290220</td><td> 0.009369287</td><td> 0.005376567</td></tr>\n",
       "\t<tr><td> 3.022937e-01</td><td>-1.07987759</td><td>-1.00459374</td><td> 0.114092996</td><td> 0.000905093</td></tr>\n",
       "\t<tr><td> 1.390928e+00</td><td>-0.01265979</td><td>-0.11692864</td><td> 0.287078632</td><td>-0.004502066</td></tr>\n",
       "\t<tr><td>-9.965577e-05</td><td> 0.78813837</td><td> 0.33407028</td><td> 0.056860351</td><td>-0.056423047</td></tr>\n",
       "\t<tr><td>-2.892787e+00</td><td> 0.72112072</td><td>-0.05594256</td><td> 0.276172029</td><td> 0.054319487</td></tr>\n",
       "\t<tr><td>-5.100844e-02</td><td> 0.47013584</td><td> 0.35567618</td><td>-1.050969667</td><td> 0.159792918</td></tr>\n",
       "\t<tr><td> 5.050683e-01</td><td> 0.08823533</td><td>-0.00838298</td><td>-0.133774458</td><td> 0.083805910</td></tr>\n",
       "\t<tr><td>-2.798474e+00</td><td> 2.28879316</td><td>-0.16191407</td><td> 0.394421155</td><td>-0.021718684</td></tr>\n",
       "\t<tr><td> 2.297298e+00</td><td>-0.67823805</td><td>-0.06514599</td><td>-0.083470414</td><td> 0.004788585</td></tr>\n",
       "\t<tr><td>-9.828286e-01</td><td> 0.72523875</td><td> 0.33155190</td><td>-0.169590003</td><td>-0.063456145</td></tr>\n",
       "\t<tr><td> 1.282742e+00</td><td> 0.62266660</td><td>-0.25378522</td><td>-0.065147967</td><td>-0.044486332</td></tr>\n",
       "</tbody>\n",
       "</table>\n"
      ],
      "text/latex": [
       "A matrix: 20 × 5 of type dbl\n",
       "\\begin{tabular}{r|lllll}\n",
       " Comp.1 & Comp.2 & Comp.3 & Comp.4 & Comp.5\\\\\n",
       "\\hline\n",
       "\t  1.332785e+00 &  0.22326342 & -0.01492711 &  0.185200990 & -0.019506445\\\\\n",
       "\t  2.060294e+00 & -1.01919913 &  0.76243569 &  0.510091168 &  0.029381555\\\\\n",
       "\t -1.309609e+00 &  0.77403221 & -0.15970917 & -0.015484555 & -0.064370973\\\\\n",
       "\t -2.212053e+00 &  0.34503580 & -0.21147194 & -0.064828833 &  0.044332315\\\\\n",
       "\t -2.345616e+00 &  0.31000268 & -0.20568573 & -0.108604915 &  0.031051371\\\\\n",
       "\t -2.555018e-01 &  0.28737324 &  0.88185687 &  0.013099885 & -0.016484103\\\\\n",
       "\t -3.528390e+00 & -2.28086300 &  0.12858522 & -0.432830339 & -0.249417356\\\\\n",
       "\t -4.133773e+00 & -2.20080107 &  0.06721481 &  0.374615334 &  0.190501442\\\\\n",
       "\t  4.710687e-01 &  0.39033806 & -0.10706204 & -0.108384912 & -0.029962683\\\\\n",
       "\t  2.255503e+00 & -0.23269966 & -0.10290220 &  0.009369287 &  0.005376567\\\\\n",
       "\t  3.022937e-01 & -1.07987759 & -1.00459374 &  0.114092996 &  0.000905093\\\\\n",
       "\t  1.390928e+00 & -0.01265979 & -0.11692864 &  0.287078632 & -0.004502066\\\\\n",
       "\t -9.965577e-05 &  0.78813837 &  0.33407028 &  0.056860351 & -0.056423047\\\\\n",
       "\t -2.892787e+00 &  0.72112072 & -0.05594256 &  0.276172029 &  0.054319487\\\\\n",
       "\t -5.100844e-02 &  0.47013584 &  0.35567618 & -1.050969667 &  0.159792918\\\\\n",
       "\t  5.050683e-01 &  0.08823533 & -0.00838298 & -0.133774458 &  0.083805910\\\\\n",
       "\t -2.798474e+00 &  2.28879316 & -0.16191407 &  0.394421155 & -0.021718684\\\\\n",
       "\t  2.297298e+00 & -0.67823805 & -0.06514599 & -0.083470414 &  0.004788585\\\\\n",
       "\t -9.828286e-01 &  0.72523875 &  0.33155190 & -0.169590003 & -0.063456145\\\\\n",
       "\t  1.282742e+00 &  0.62266660 & -0.25378522 & -0.065147967 & -0.044486332\\\\\n",
       "\\end{tabular}\n"
      ],
      "text/markdown": [
       "\n",
       "A matrix: 20 × 5 of type dbl\n",
       "\n",
       "| Comp.1 | Comp.2 | Comp.3 | Comp.4 | Comp.5 |\n",
       "|---|---|---|---|---|\n",
       "|  1.332785e+00 |  0.22326342 | -0.01492711 |  0.185200990 | -0.019506445 |\n",
       "|  2.060294e+00 | -1.01919913 |  0.76243569 |  0.510091168 |  0.029381555 |\n",
       "| -1.309609e+00 |  0.77403221 | -0.15970917 | -0.015484555 | -0.064370973 |\n",
       "| -2.212053e+00 |  0.34503580 | -0.21147194 | -0.064828833 |  0.044332315 |\n",
       "| -2.345616e+00 |  0.31000268 | -0.20568573 | -0.108604915 |  0.031051371 |\n",
       "| -2.555018e-01 |  0.28737324 |  0.88185687 |  0.013099885 | -0.016484103 |\n",
       "| -3.528390e+00 | -2.28086300 |  0.12858522 | -0.432830339 | -0.249417356 |\n",
       "| -4.133773e+00 | -2.20080107 |  0.06721481 |  0.374615334 |  0.190501442 |\n",
       "|  4.710687e-01 |  0.39033806 | -0.10706204 | -0.108384912 | -0.029962683 |\n",
       "|  2.255503e+00 | -0.23269966 | -0.10290220 |  0.009369287 |  0.005376567 |\n",
       "|  3.022937e-01 | -1.07987759 | -1.00459374 |  0.114092996 |  0.000905093 |\n",
       "|  1.390928e+00 | -0.01265979 | -0.11692864 |  0.287078632 | -0.004502066 |\n",
       "| -9.965577e-05 |  0.78813837 |  0.33407028 |  0.056860351 | -0.056423047 |\n",
       "| -2.892787e+00 |  0.72112072 | -0.05594256 |  0.276172029 |  0.054319487 |\n",
       "| -5.100844e-02 |  0.47013584 |  0.35567618 | -1.050969667 |  0.159792918 |\n",
       "|  5.050683e-01 |  0.08823533 | -0.00838298 | -0.133774458 |  0.083805910 |\n",
       "| -2.798474e+00 |  2.28879316 | -0.16191407 |  0.394421155 | -0.021718684 |\n",
       "|  2.297298e+00 | -0.67823805 | -0.06514599 | -0.083470414 |  0.004788585 |\n",
       "| -9.828286e-01 |  0.72523875 |  0.33155190 | -0.169590003 | -0.063456145 |\n",
       "|  1.282742e+00 |  0.62266660 | -0.25378522 | -0.065147967 | -0.044486332 |\n",
       "\n"
      ],
      "text/plain": [
       "   Comp.1        Comp.2      Comp.3      Comp.4       Comp.5      \n",
       "1   1.332785e+00  0.22326342 -0.01492711  0.185200990 -0.019506445\n",
       "2   2.060294e+00 -1.01919913  0.76243569  0.510091168  0.029381555\n",
       "3  -1.309609e+00  0.77403221 -0.15970917 -0.015484555 -0.064370973\n",
       "4  -2.212053e+00  0.34503580 -0.21147194 -0.064828833  0.044332315\n",
       "5  -2.345616e+00  0.31000268 -0.20568573 -0.108604915  0.031051371\n",
       "6  -2.555018e-01  0.28737324  0.88185687  0.013099885 -0.016484103\n",
       "7  -3.528390e+00 -2.28086300  0.12858522 -0.432830339 -0.249417356\n",
       "8  -4.133773e+00 -2.20080107  0.06721481  0.374615334  0.190501442\n",
       "9   4.710687e-01  0.39033806 -0.10706204 -0.108384912 -0.029962683\n",
       "10  2.255503e+00 -0.23269966 -0.10290220  0.009369287  0.005376567\n",
       "11  3.022937e-01 -1.07987759 -1.00459374  0.114092996  0.000905093\n",
       "12  1.390928e+00 -0.01265979 -0.11692864  0.287078632 -0.004502066\n",
       "13 -9.965577e-05  0.78813837  0.33407028  0.056860351 -0.056423047\n",
       "14 -2.892787e+00  0.72112072 -0.05594256  0.276172029  0.054319487\n",
       "15 -5.100844e-02  0.47013584  0.35567618 -1.050969667  0.159792918\n",
       "16  5.050683e-01  0.08823533 -0.00838298 -0.133774458  0.083805910\n",
       "17 -2.798474e+00  2.28879316 -0.16191407  0.394421155 -0.021718684\n",
       "18  2.297298e+00 -0.67823805 -0.06514599 -0.083470414  0.004788585\n",
       "19 -9.828286e-01  0.72523875  0.33155190 -0.169590003 -0.063456145\n",
       "20  1.282742e+00  0.62266660 -0.25378522 -0.065147967 -0.044486332"
      ]
     },
     "metadata": {},
     "output_type": "display_data"
    },
    {
     "data": {
      "text/plain": [
       "K-means clustering with 20 clusters of sizes 2, 1, 1, 1, 1, 1, 1, 1, 2, 3, 1, 1, 1, 1, 1, 1, 1, 2, 1, 1\n",
       "\n",
       "Cluster means:\n",
       "      WATER PROTEIN   FAT LACTOSE       ASH\n",
       "1  87.10000     3.7  3.30     5.2 0.7550000\n",
       "2  90.40000     0.6  4.50     4.4 0.1000000\n",
       "3  72.50000     9.2 12.60     3.3 1.4000000\n",
       "4  65.90000    10.4 19.70     2.6 1.4000000\n",
       "5  64.80000    10.7 20.30     2.5 1.4000000\n",
       "6  81.90000     7.4  7.20     2.7 0.8500000\n",
       "7  44.90000    10.6 34.90     0.9 0.5300000\n",
       "8  46.40000     9.7 42.00     0.0 0.8500000\n",
       "9  81.80000     6.1  6.15     4.8 0.9200000\n",
       "10 90.13333     2.1  1.40     6.2 0.4066667\n",
       "11 70.70000     3.6 17.60     5.6 0.6300000\n",
       "12 86.20000     3.0  4.80     5.3 0.7000000\n",
       "13 82.80000     7.1  5.10     3.7 1.1000000\n",
       "14 64.80000    11.1 21.20     1.6 1.7000000\n",
       "15 81.60000    10.1  6.30     4.4 0.7500000\n",
       "16 82.10000     5.9  7.90     4.7 0.7800000\n",
       "17 71.30000    12.3 13.10     1.9 2.3000000\n",
       "18 88.45000     1.8  3.10     6.2 0.2100000\n",
       "19 76.30000     9.3  9.50     3.0 1.2000000\n",
       "20 86.90000     4.8  1.70     5.7 0.9000000\n",
       "\n",
       "Clustering vector:\n",
       "     HORSE  ORANGUTAN     MONKEY     DONKEY      HIPPO      CAMEL      BISON \n",
       "        10         18         18         10          2          1         20 \n",
       "   BUFFALO GUINEA_PIG        CAT        FOX      LLAMA       MULE        PIG \n",
       "        16          6         15          9          1         10         13 \n",
       "     ZEBRA      SHEEP        DOG   ELEPHANT     RABBIT        RAT       DEER \n",
       "        12          9         19         11         17          3          4 \n",
       "  REINDEER      WHALE       SEAL    DOLPHIN \n",
       "         5         14          8          7 \n",
       "\n",
       "Within cluster sum of squares by cluster:\n",
       " [1] 1.144050 0.000000 0.000000 0.000000 0.000000 0.000000 0.000000 0.000000\n",
       " [9] 0.725200 1.773933 0.000000 0.000000 0.000000 0.000000 0.000000 0.000000\n",
       "[17] 0.000000 0.726800 0.000000 0.000000\n",
       " (between_SS / total_SS =  99.9 %)\n",
       "\n",
       "Available components:\n",
       "\n",
       "[1] \"cluster\"      \"centers\"      \"totss\"        \"withinss\"     \"tot.withinss\"\n",
       "[6] \"betweenss\"    \"size\"         \"iter\"         \"ifault\"      "
      ]
     },
     "metadata": {},
     "output_type": "display_data"
    },
    {
     "data": {
      "image/png": "[encoded data removed]",
      "text/plain": [
       "Plot with title \"res\""
      ]
     },
     "metadata": {
      "image/png": {
       "height": 420,
       "width": 420
      },
      "text/plain": {
       "height": 420,
       "width": 420
      }
     },
     "output_type": "display_data"
    },
    {
     "data": {
      "image/png": "[encoded data removed]",
      "text/plain": [
       "plot without title"
      ]
     },
     "metadata": {
      "image/png": {
       "height": 420,
       "width": 420
      },
      "text/plain": {
       "height": 420,
       "width": 420
      }
     },
     "output_type": "display_data"
    }
   ],
   "source": [
    "#Análisis de Componentes Principales para graficar los grupos obtenidos\n",
    "#Calcula plano de componentes principales y grafica las observaciones con el número de su grupo\n",
    "res <- princomp(datos, cor=TRUE)\n",
    "print(res)\n",
    "plot(res)\n",
    "res2 <- predict(res,cl$centers)\n",
    "res2\n",
    "cl\n",
    "biplot(res,xlabs=cl$cluster)\n",
    "#grafica los centros de cada grupo en el plano de componentes principales utilizando colores distintos\n",
    "points(res2[,1:2],col=1:k0,pch=19)\n"
   ]
  },
  {
   "cell_type": "markdown",
   "metadata": {},
   "source": [
    "La representación de los grupos en el primer plano principal nos permite distinguir que el grupo 3 representa a los individuos con mayores valores de FAT, mientras corresponde a los mamíferos con mayores porcentajes de agua y lactosa y por otra parte el grupo 2 contiene mamíferos con mayores porcentajes de proteína y calcio (a excepción de un caso)."
   ]
  },
  {
   "cell_type": "code",
   "execution_count": 6,
   "metadata": {},
   "outputs": [
    {
     "data": {
      "image/png": "[encoded data removed]",
      "text/plain": [
       "Plot with title \"J v/s k en k-means\""
      ]
     },
     "metadata": {
      "image/png": {
       "height": 420,
       "width": 420
      },
      "text/plain": {
       "height": 420,
       "width": 420
      }
     },
     "output_type": "display_data"
    }
   ],
   "source": [
    "#Estrategia para elegir K, el numero de grupos\n",
    "#J suma cuadrado de las distancias por cada k utilizado\n",
    "#K-means\n",
    "J<-rep(0,20)\n",
    "fin_iter<-20\n",
    "\n",
    "\n",
    "for (k in 1:fin_iter){\n",
    "     cl<-kmeans(datos,k,iter.max=1000,nstart=10)\n",
    "\t J[k]<-cl$tot.withinss\n",
    "}\n",
    "\n",
    "\n",
    "plot(1:fin_iter,J,xlab=\"k\",ylab=\"J\",type=\"p\",main=\"J v/s k en k-means\",col=2) "
   ]
  },
  {
   "cell_type": "markdown",
   "metadata": {},
   "source": [
    "**Ejercicio 1:** \n",
    "1. De acuerdo al gráfico obtenido, cuál es el valor de K mas apropiado? Agregue código para automatizar este criterio.\n",
    "2. Caracterice los grupos obtenidos con el K óptimo. Interprete sus resultados"
   ]
  },
  {
   "cell_type": "code",
   "execution_count": 15,
   "metadata": {},
   "outputs": [
    {
     "data": {
      "text/plain": [
       "$`1`\n",
       "   Min. 1st Qu.  Median    Mean 3rd Qu.    Max. \n",
       "  81.60   82.08   86.70   86.06   88.88   90.40 \n",
       "\n",
       "$`2`\n",
       "   Min. 1st Qu.  Median    Mean 3rd Qu.    Max. \n",
       "  44.90   45.27   45.65   45.65   46.02   46.40 \n",
       "\n",
       "$`3`\n",
       "   Min. 1st Qu.  Median    Mean 3rd Qu.    Max. \n",
       "  64.80   65.35   70.70   69.47   71.90   76.30 \n"
      ]
     },
     "metadata": {},
     "output_type": "display_data"
    },
    {
     "data": {
      "text/plain": [
       "$`1`\n",
       "   Min. 1st Qu.  Median    Mean 3rd Qu.    Max. \n",
       "  0.600   2.150   3.700   4.275   6.075  10.100 \n",
       "\n",
       "$`2`\n",
       "   Min. 1st Qu.  Median    Mean 3rd Qu.    Max. \n",
       "  9.700   9.925  10.150  10.150  10.375  10.600 \n",
       "\n",
       "$`3`\n",
       "   Min. 1st Qu.  Median    Mean 3rd Qu.    Max. \n",
       "  3.600   9.250  10.400   9.514  10.900  12.300 \n"
      ]
     },
     "metadata": {},
     "output_type": "display_data"
    },
    {
     "data": {
      "text/plain": [
       "$`1`\n",
       "   Min. 1st Qu.  Median    Mean 3rd Qu.    Max. \n",
       "  1.000   2.475   4.000   4.175   6.000   7.900 \n",
       "\n",
       "$`2`\n",
       "   Min. 1st Qu.  Median    Mean 3rd Qu.    Max. \n",
       "  34.90   36.67   38.45   38.45   40.23   42.00 \n",
       "\n",
       "$`3`\n",
       "   Min. 1st Qu.  Median    Mean 3rd Qu.    Max. \n",
       "   9.50   12.85   17.60   16.29   20.00   21.20 \n"
      ]
     },
     "metadata": {},
     "output_type": "display_data"
    },
    {
     "data": {
      "text/plain": [
       "$`1`\n",
       "   Min. 1st Qu.  Median    Mean 3rd Qu.    Max. \n",
       "  2.700   4.625   5.100   5.119   5.775   6.900 \n",
       "\n",
       "$`2`\n",
       "   Min. 1st Qu.  Median    Mean 3rd Qu.    Max. \n",
       "  0.000   0.225   0.450   0.450   0.675   0.900 \n",
       "\n",
       "$`3`\n",
       "   Min. 1st Qu.  Median    Mean 3rd Qu.    Max. \n",
       "  1.600   2.200   2.600   2.929   3.150   5.600 \n"
      ]
     },
     "metadata": {},
     "output_type": "display_data"
    },
    {
     "data": {
      "text/plain": [
       "$`1`\n",
       "   Min. 1st Qu.  Median    Mean 3rd Qu.    Max. \n",
       " 0.1000  0.3875  0.7300  0.6356  0.8625  1.1000 \n",
       "\n",
       "$`2`\n",
       "   Min. 1st Qu.  Median    Mean 3rd Qu.    Max. \n",
       "   0.53    0.61    0.69    0.69    0.77    0.85 \n",
       "\n",
       "$`3`\n",
       "   Min. 1st Qu.  Median    Mean 3rd Qu.    Max. \n",
       "  0.630   1.300   1.400   1.433   1.550   2.300 \n"
      ]
     },
     "metadata": {},
     "output_type": "display_data"
    }
   ],
   "source": [
    "tapply(datos[,1],cl$cluster,summary)\n",
    "tapply(datos[,2],cl$cluster,summary)\n",
    "tapply(datos[,3],cl$cluster,summary)\n",
    "tapply(datos[,4],cl$cluster,summary)\n",
    "tapply(datos[,5],cl$cluster,summary)\n"
   ]
  },
  {
   "cell_type": "markdown",
   "metadata": {},
   "source": [
    "**Ejercicio 2:** Realice un análisis de clustering con el conjunto de datos comunas.csv. \n",
    "1. Describa los datos y discuta la pertinencia de realizar un análisis de clustering o agrupamiento\n",
    "2. Utilice k-means para realizar el clustering de los datos y calcule el K óptimo. \n",
    "3. Caracterice los grupos obtenidos con el K óptimo. Interprete sus resultados\n"
   ]
  },
  {
   "cell_type": "code",
   "execution_count": 5,
   "metadata": {},
   "outputs": [],
   "source": [
    "datos <- read.csv(\"comunas.csv\",header=TRUE,sep=\";\",dec=\".\")"
   ]
  }
 ],
 "metadata": {
  "celltoolbar": "Raw Cell Format",
  "kernelspec": {
   "display_name": "R",
   "language": "R",
   "name": "ir"
  },
  "language_info": {
   "codemirror_mode": "r",
   "file_extension": ".r",
   "mimetype": "text/x-r-source",
   "name": "R",
   "pygments_lexer": "r",
   "version": "3.6.1"
  }
 },
 "nbformat": 4,
 "nbformat_minor": 2
}
