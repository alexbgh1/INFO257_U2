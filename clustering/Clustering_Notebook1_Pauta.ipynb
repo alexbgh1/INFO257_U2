{
 "cells": [
  {
   "cell_type": "markdown",
   "metadata": {},
   "source": [
    "### PAUTA Notebook 1:  Clustering con K-means\n",
    "En este notebook vamos a implementar el algoritmo de clustering K-means en R. El objetivo es entender como funciona este algoritmo y  aprender a utilizarlo con un ejemplo simple. Se incluye además la estrategia para definir el número de grupos k. Al final se propone un ejercicio con nuevos datos, con el fin de aprender a utilizar el algoritmo. "
   ]
  },
  {
   "cell_type": "code",
   "execution_count": 3,
   "metadata": {},
   "outputs": [
    {
     "name": "stdout",
     "output_type": "stream",
     "text": [
      "           WATER PROTEIN  FAT LACTOSE  ASH\n",
      "HORSE       90.1     2.6  1.0     6.9 0.35\n",
      "ORANGUTAN   88.5     1.4  3.5     6.0 0.24\n",
      "MONKEY      88.4     2.2  2.7     6.4 0.18\n",
      "DONKEY      90.3     1.7  1.4     6.2 0.40\n",
      "HIPPO       90.4     0.6  4.5     4.4 0.10\n",
      "CAMEL       87.7     3.5  3.4     4.8 0.71\n",
      "BISON       86.9     4.8  1.7     5.7 0.90\n",
      "BUFFALO     82.1     5.9  7.9     4.7 0.78\n",
      "GUINEA_PIG  81.9     7.4  7.2     2.7 0.85\n",
      "CAT         81.6    10.1  6.3     4.4 0.75\n",
      "FOX         81.6     6.6  5.9     4.9 0.93\n",
      "LLAMA       86.5     3.9  3.2     5.6 0.80\n",
      "MULE        90.0     2.0  1.8     5.5 0.47\n",
      "PIG         82.8     7.1  5.1     3.7 1.10\n",
      "ZEBRA       86.2     3.0  4.8     5.3 0.70\n",
      "SHEEP       82.0     5.6  6.4     4.7 0.91\n",
      "DOG         76.3     9.3  9.5     3.0 1.20\n",
      "ELEPHANT    70.7     3.6 17.6     5.6 0.63\n",
      "RABBIT      71.3    12.3 13.1     1.9 2.30\n",
      "RAT         72.5     9.2 12.6     3.3 1.40\n",
      "DEER        65.9    10.4 19.7     2.6 1.40\n",
      "REINDEER    64.8    10.7 20.3     2.5 1.40\n",
      "WHALE       64.8    11.1 21.2     1.6 1.70\n",
      "SEAL        46.4     9.7 42.0     0.0 0.85\n",
      "DOLPHIN     44.9    10.6 34.9     0.9 0.53\n"
     ]
    },
    {
     "data": {
      "text/plain": [
       "     WATER          PROTEIN            FAT           LACTOSE     \n",
       " Min.   :44.90   Min.   : 0.600   Min.   : 1.00   Min.   :0.000  \n",
       " 1st Qu.:71.30   1st Qu.: 3.000   1st Qu.: 3.40   1st Qu.:2.700  \n",
       " Median :82.00   Median : 5.900   Median : 6.30   Median :4.700  \n",
       " Mean   :78.18   Mean   : 6.212   Mean   :10.31   Mean   :4.132  \n",
       " 3rd Qu.:87.70   3rd Qu.: 9.700   3rd Qu.:13.10   3rd Qu.:5.600  \n",
       " Max.   :90.40   Max.   :12.300   Max.   :42.00   Max.   :6.900  \n",
       "      ASH        \n",
       " Min.   :0.1000  \n",
       " 1st Qu.:0.5300  \n",
       " Median :0.8000  \n",
       " Mean   :0.8632  \n",
       " 3rd Qu.:1.1000  \n",
       " Max.   :2.3000  "
      ]
     },
     "metadata": {},
     "output_type": "display_data"
    },
    {
     "data": {
      "image/png": "[encoded data removed]",
      "text/plain": [
       "plot without title"
      ]
     },
     "metadata": {
      "image/png": {
       "height": 420,
       "width": 420
      },
      "text/plain": {
       "height": 420,
       "width": 420
      }
     },
     "output_type": "display_data"
    }
   ],
   "source": [
    "library(cluster)\n",
    "library(ggplot2)\n",
    "\n",
    "#ruta datos\n",
    "#lee datos del archivo de texto como una matriz. La primera #columna se utiliza como vector de nombres de las filas\n",
    "datos <-read.table(\"c:\\\\milk.dat\",row.names=1,dec=\".\",header=TRUE)\n",
    "print(datos)\n",
    "summary(datos)\n",
    "boxplot(datos)"
   ]
  },
  {
   "cell_type": "markdown",
   "metadata": {},
   "source": [
    "**Descripción de los datos y porque realizar un análisis de agrupamiento**\n",
    "\n",
    "Se trata de un conjunto de datos que describen la composición de la leche de 25 mamíferos. Se consideran 5 características en porcentajes: agua, proteína, grasa, lactosa y calcio. Se puede observar del boxplot que, en promedio, el mayor porcentaje de todas las leches es agua (cerca de 80%), seguido de proteína, grasa y lactosa (cerca del 5%) y bastante menor porcentaje de calcio (0,8%). Las componente que tienen mayor variación son el porcentaje de agua y de grasa. Parece pertinente realizar un análisis de agrupamiento para distinguir grupos de mamíferos que poseen leches de características similares."
   ]
  },
  {
   "cell_type": "code",
   "execution_count": 4,
   "metadata": {
    "scrolled": true
   },
   "outputs": [
    {
     "data": {
      "image/png": "[encoded data removed]",
      "text/plain": [
       "plot without title"
      ]
     },
     "metadata": {
      "image/png": {
       "height": 420,
       "width": 420
      },
      "text/plain": {
       "height": 420,
       "width": 420
      }
     },
     "output_type": "display_data"
    }
   ],
   "source": [
    "#ingresar valor de k0 \n",
    "k0=3\n",
    "cl<-kmeans(datos,k0,iter.max=1000,nstart=10)\n",
    "#grafica los datos coloreados con el grupo asignado en planos de pares de variables\n",
    "pairs(datos,col=cl$cluster)"
   ]
  },
  {
   "cell_type": "markdown",
   "metadata": {},
   "source": [
    "Al considerar 3 grupos con el algoritmo KMeans, se obtienen grupos claramente diferenciados por las variables porcentaje de agua y grasa. El grupo negro (focas y delfines), con los menores porcentajes de agua y mayores porcentajes de grasa. El grupo negro, con 6 mamíferos, cuyas leches tienen porcentajes intermedios de agua (60 a 75%) y grasa (12 a 22%). Y luego el grupo rojo, el mas común, con 17 mamíferos, cuyas leches tienen mas de 75% de agua y menos de 10% de grasa. Las otras variables no permiten discriminar completamente los 3 grupos definidos."
   ]
  },
  {
   "cell_type": "code",
   "execution_count": 5,
   "metadata": {},
   "outputs": [
    {
     "name": "stdout",
     "output_type": "stream",
     "text": [
      "Call:\n",
      "princomp(x = datos, cor = TRUE)\n",
      "\n",
      "Standard deviations:\n",
      "    Comp.1     Comp.2     Comp.3     Comp.4     Comp.5 \n",
      "1.96946572 0.94201777 0.35905327 0.31397620 0.07941651 \n",
      "\n",
      " 5  variables and  25 observations.\n"
     ]
    },
    {
     "data": {
      "text/html": [
       "<table>\n",
       "<caption>A matrix: 3 × 5 of type dbl</caption>\n",
       "<thead>\n",
       "\t<tr><th scope=col>Comp.1</th><th scope=col>Comp.2</th><th scope=col>Comp.3</th><th scope=col>Comp.4</th><th scope=col>Comp.5</th></tr>\n",
       "</thead>\n",
       "<tbody>\n",
       "\t<tr><td>-3.831081</td><td>-2.2408320</td><td> 0.09790001</td><td>-0.02910750</td><td>-0.029457957</td></tr>\n",
       "\t<tr><td>-1.748439</td><td> 0.5834780</td><td>-0.20968076</td><td> 0.06088255</td><td>-0.002705362</td></tr>\n",
       "\t<tr><td> 1.243827</td><td> 0.0248324</td><td> 0.07949783</td><td>-0.02299768</td><td> 0.004865841</td></tr>\n",
       "</tbody>\n",
       "</table>\n"
      ],
      "text/latex": [
       "A matrix: 3 × 5 of type dbl\n",
       "\\begin{tabular}{r|lllll}\n",
       " Comp.1 & Comp.2 & Comp.3 & Comp.4 & Comp.5\\\\\n",
       "\\hline\n",
       "\t -3.831081 & -2.2408320 &  0.09790001 & -0.02910750 & -0.029457957\\\\\n",
       "\t -1.748439 &  0.5834780 & -0.20968076 &  0.06088255 & -0.002705362\\\\\n",
       "\t  1.243827 &  0.0248324 &  0.07949783 & -0.02299768 &  0.004865841\\\\\n",
       "\\end{tabular}\n"
      ],
      "text/markdown": [
       "\n",
       "A matrix: 3 × 5 of type dbl\n",
       "\n",
       "| Comp.1 | Comp.2 | Comp.3 | Comp.4 | Comp.5 |\n",
       "|---|---|---|---|---|\n",
       "| -3.831081 | -2.2408320 |  0.09790001 | -0.02910750 | -0.029457957 |\n",
       "| -1.748439 |  0.5834780 | -0.20968076 |  0.06088255 | -0.002705362 |\n",
       "|  1.243827 |  0.0248324 |  0.07949783 | -0.02299768 |  0.004865841 |\n",
       "\n"
      ],
      "text/plain": [
       "  Comp.1    Comp.2     Comp.3      Comp.4      Comp.5      \n",
       "1 -3.831081 -2.2408320  0.09790001 -0.02910750 -0.029457957\n",
       "2 -1.748439  0.5834780 -0.20968076  0.06088255 -0.002705362\n",
       "3  1.243827  0.0248324  0.07949783 -0.02299768  0.004865841"
      ]
     },
     "metadata": {},
     "output_type": "display_data"
    },
    {
     "data": {
      "text/plain": [
       "K-means clustering with 3 clusters of sizes 2, 7, 16\n",
       "\n",
       "Cluster means:\n",
       "     WATER   PROTEIN      FAT  LACTOSE      ASH\n",
       "1 45.65000 10.150000 38.45000 0.450000 0.690000\n",
       "2 69.47143  9.514286 16.28571 2.928571 1.432857\n",
       "3 86.06250  4.275000  4.17500 5.118750 0.635625\n",
       "\n",
       "Clustering vector:\n",
       "     HORSE  ORANGUTAN     MONKEY     DONKEY      HIPPO      CAMEL      BISON \n",
       "         3          3          3          3          3          3          3 \n",
       "   BUFFALO GUINEA_PIG        CAT        FOX      LLAMA       MULE        PIG \n",
       "         3          3          3          3          3          3          3 \n",
       "     ZEBRA      SHEEP        DOG   ELEPHANT     RABBIT        RAT       DEER \n",
       "         3          3          2          2          2          2          2 \n",
       "  REINDEER      WHALE       SEAL    DOLPHIN \n",
       "         2          2          1          1 \n",
       "\n",
       "Within cluster sum of squares by cluster:\n",
       "[1]  27.1912 299.9911 377.2215\n",
       " (between_SS / total_SS =  89.9 %)\n",
       "\n",
       "Available components:\n",
       "\n",
       "[1] \"cluster\"      \"centers\"      \"totss\"        \"withinss\"     \"tot.withinss\"\n",
       "[6] \"betweenss\"    \"size\"         \"iter\"         \"ifault\"      "
      ]
     },
     "metadata": {},
     "output_type": "display_data"
    },
    {
     "data": {
      "image/png": "[encoded data removed]",
      "text/plain": [
       "Plot with title \"res\""
      ]
     },
     "metadata": {
      "image/png": {
       "height": 420,
       "width": 420
      },
      "text/plain": {
       "height": 420,
       "width": 420
      }
     },
     "output_type": "display_data"
    },
    {
     "data": {
      "image/png": "[encoded data removed]",
      "text/plain": [
       "plot without title"
      ]
     },
     "metadata": {
      "image/png": {
       "height": 420,
       "width": 420
      },
      "text/plain": {
       "height": 420,
       "width": 420
      }
     },
     "output_type": "display_data"
    }
   ],
   "source": [
    "#Análisis de Componentes Principales para graficar los grupos obtenidos\n",
    "#Calcula plano de componentes principales y grafica las observaciones con el número de su grupo\n",
    "res <- princomp(datos, cor=TRUE)\n",
    "print(res)\n",
    "plot(res)\n",
    "res2 <- predict(res,cl$centers)\n",
    "res2\n",
    "cl\n",
    "biplot(res,xlabs=cl$cluster)\n",
    "#grafica los centros de cada grupo en el plano de componentes principales utilizando colores distintos\n",
    "points(res2[,1:2],col=1:k0,pch=19)\n"
   ]
  },
  {
   "cell_type": "markdown",
   "metadata": {},
   "source": [
    "La representación de los grupos en el primer plano principal nos permite distinguir que el grupo 3 representa a los individuos con mayores valores de FAT, mientras corresponde a los mamíferos con mayores porcentajes de agua y lactosa y por otra parte el grupo 2 contiene mamíferos con mayores porcentajes de proteína y calcio (a excepción de un caso)."
   ]
  },
  {
   "cell_type": "code",
   "execution_count": 6,
   "metadata": {},
   "outputs": [
    {
     "data": {
      "image/png": "[encoded data removed]",
      "text/plain": [
       "Plot with title \"J v/s k en k-means\""
      ]
     },
     "metadata": {
      "image/png": {
       "height": 420,
       "width": 420
      },
      "text/plain": {
       "height": 420,
       "width": 420
      }
     },
     "output_type": "display_data"
    }
   ],
   "source": [
    "#Estrategia para elegir K, el numero de grupos\n",
    "#J suma cuadrado de las distancias por cada k utilizado\n",
    "#K-means\n",
    "J<-rep(0,20)\n",
    "fin_iter<-20\n",
    "\n",
    "\n",
    "for (k in 1:fin_iter){\n",
    "     cl<-kmeans(datos,k,iter.max=1000,nstart=10)\n",
    "\t J[k]<-cl$tot.withinss\n",
    "}\n",
    "\n",
    "\n",
    "plot(1:fin_iter,J,xlab=\"k\",ylab=\"J\",type=\"p\",main=\"J v/s k en k-means\",col=2) "
   ]
  },
  {
   "cell_type": "markdown",
   "metadata": {},
   "source": [
    "**Ejercicio 1:** \n",
    "1. De acuerdo al gráfico obtenido, cuál es el valor de K mas apropiado? Agregue código para automatizar este criterio.\n",
    "2. Caracterice los grupos obtenidos con el K óptimo. Interprete sus resultados"
   ]
  },
  {
   "cell_type": "markdown",
   "metadata": {},
   "source": [
    "#### Respuesta 1.1:\n",
    "De acuerdo a la heurística vista en clases, el codo en el gráfico se encuentra entre k =3 o 4. Por parsimonia se escoje k=3. El código para automatizar la heurística es el siguiente:"
   ]
  },
  {
   "cell_type": "code",
   "execution_count": 7,
   "metadata": {},
   "outputs": [
    {
     "name": "stdout",
     "output_type": "stream",
     "text": [
      "[1]  704.403726 1482.419188 4818.266230    3.250272\n",
      "[1]  341.885448  362.518278 1482.419188    4.089226\n",
      "[1] 212.504458 129.380989 362.518278   2.801944\n",
      "[1] 141.106117  71.398342 129.380989   1.812101\n",
      "[1] 109.515408  31.590708  71.398342   2.260106\n",
      "[1] 87.337075 22.178333 31.590708  1.424395\n",
      "[1] 76.352662 10.984413 22.178333  2.019073\n",
      "[1] 66.167795 10.184867 10.984413  1.078503\n",
      "[1] 59.382928  6.784867 10.184867  1.501115\n",
      "[1] 36.9515950 22.4313333  6.7848667  0.3024727\n",
      "[1]  52.52625 -15.57466  22.43133   0.00000\n",
      "[1]  22.31998  30.20627 -15.57466   0.00000\n",
      "[1] 20.55403  1.76595 30.20627  0.00000\n",
      "[1] 21.1729167 -0.6188833  1.7659500  0.0000000\n",
      "[1] 17.1725500  4.0003667 -0.6188833  0.0000000\n",
      "[1] 7.229983 9.942567 4.000367 0.000000\n",
      "[1] 11.404983 -4.175000  9.942567  0.000000\n",
      "[1]  4.369983  7.035000 -4.175000  0.000000\n",
      "[1] 3\n"
     ]
    }
   ],
   "source": [
    "J<-rep(0,20)\n",
    "fin_iter<-20\n",
    "tasa <- rep(0,20)\n",
    "dif <- rep(1,20)\n",
    "cl_1 <- kmeans(datos,1,iter.max=1000,nstart=10)\n",
    "J[1] <-cl_1$tot.withinss\n",
    "cl_2 <- kmeans(datos,2,iter.max=1000,nstart=10)\n",
    "J[2] <-cl_2$tot.withinss\n",
    "dif[2] <- J[1]-J[2]\n",
    "tasa[2]<-1\n",
    "t_max <- 1\n",
    "k_max <-1\n",
    "\n",
    "for (k in 3:fin_iter){\n",
    "     cl<-kmeans(datos,k,iter.max=2000,nstart=10)\n",
    "\t J[k]<-cl$tot.withinss\n",
    "     dif[k] <- J[k-1]-J[k]\n",
    "    # calcula la tasa mientras la función de pérdida sea decreciente\n",
    "     if ((dif[k] >0)&&(tasa[k-1]>0)){\n",
    "         tasa[k] <- dif[k-1]/dif[k]\n",
    "         if (tasa[k]>t_max) {\n",
    "             t_max <- tasa[k]\n",
    "             k_max <- k-1\n",
    "         }\n",
    "     }\n",
    "     print(c(J[k],dif[k], dif[k-1], tasa[k]))\n",
    "}\n",
    "\n",
    "print(k_max)"
   ]
  },
  {
   "cell_type": "code",
   "execution_count": 18,
   "metadata": {},
   "outputs": [
    {
     "name": "stdout",
     "output_type": "stream",
     "text": [
      "   Agua Proteina Grasa Lactosa Calcio\n",
      "1 45.65    10.15 38.45    0.45   0.69\n",
      "2 70.70    10.40 17.60    2.60   1.40\n",
      "3 86.70     3.70  4.00    5.10   0.73\n"
     ]
    }
   ],
   "source": [
    "k0=3\n",
    "cl<-kmeans(datos,k0,iter.max=1000,nstart=10)\n",
    "x1 <- tapply(datos[,1],cl$cluster,median)\n",
    "x2<- tapply(datos[,2],cl$cluster,median)\n",
    "x3 <- tapply(datos[,3],cl$cluster,median)\n",
    "x4 <- tapply(datos[,4],cl$cluster,median)\n",
    "x5 <- tapply(datos[,5],cl$cluster,median)\n",
    "medianas <- cbind(x1,x2,x3,x4,x5)\n",
    "colnames(medianas)<- c('Agua','Proteina','Grasa','Lactosa','Calcio')\n",
    "print(medianas)"
   ]
  },
  {
   "cell_type": "markdown",
   "metadata": {},
   "source": [
    "#### Respuesta 1.2:\n",
    "Al considerar 3 grupos con el algoritmo KMeans, se obtienen los siguientes valores de medianas por grupo:\n",
    "Grupo 1: 2 mamíferos (focas y delfines) cuya leche tiene los menores porcentajes de agua, lactosa y calcio y mayores porcentajes de grasa.\n",
    "Grupo 2: 6 mamíferos cuya leche tiene  porcentaje medio de agua, grasa y lactosa y mayores porcentajes de proteína y calcio.\n",
    "Grupo 3: 17 mamíferos, cuya leche tiene los mayores porcentajes de agua y lactosa y los menores porcentajes de proteína, grasa y calcio."
   ]
  },
  {
   "cell_type": "markdown",
   "metadata": {},
   "source": [
    "**Ejercicio 2:** Realice un análisis de clustering con el conjunto de datos comunas.csv. \n",
    "1. Describa los datos y discuta la pertinencia de realizar un análisis de clustering o agrupamiento\n",
    "2. Utilice k-means para realizar el clustering de los datos y calcule el K óptimo. \n",
    "3. Caracterice los grupos obtenidos con el K óptimo. Interprete sus resultados\n"
   ]
  },
  {
   "cell_type": "code",
   "execution_count": 61,
   "metadata": {},
   "outputs": [],
   "source": [
    "datos <- read.csv(\"comunas.csv\",header=TRUE,sep=\";\",dec=\".\")"
   ]
  },
  {
   "cell_type": "code",
   "execution_count": 62,
   "metadata": {},
   "outputs": [
    {
     "data": {
      "text/html": [
       "<ol class=list-inline>\n",
       "\t<li>323</li>\n",
       "\t<li>14</li>\n",
       "</ol>\n"
      ],
      "text/latex": [
       "\\begin{enumerate*}\n",
       "\\item 323\n",
       "\\item 14\n",
       "\\end{enumerate*}\n"
      ],
      "text/markdown": [
       "1. 323\n",
       "2. 14\n",
       "\n",
       "\n"
      ],
      "text/plain": [
       "[1] 323  14"
      ]
     },
     "metadata": {},
     "output_type": "display_data"
    },
    {
     "data": {
      "text/plain": [
       "       V1               V2               V3               V4       \n",
       " Min.   :  2.10   Min.   :0.2350   Min.   :  89.2   Min.   : 1.30  \n",
       " 1st Qu.: 10.25   1st Qu.:0.4655   1st Qu.: 127.9   1st Qu.:10.80  \n",
       " Median : 19.20   Median :0.5440   Median : 155.1   Median :15.10  \n",
       " Mean   : 52.30   Mean   :0.5444   Mean   : 176.9   Mean   :16.34  \n",
       " 3rd Qu.: 55.55   3rd Qu.:0.6200   3rd Qu.: 191.5   3rd Qu.:21.00  \n",
       " Max.   :735.40   Max.   :0.9920   Max.   :1143.1   Max.   :39.50  \n",
       "       V5               V6              V7               V8       \n",
       " Min.   : 6.400   Min.   :49.00   Min.   : 23.60   Min.   :68.10  \n",
       " 1st Qu.: 8.100   1st Qu.:73.90   1st Qu.: 69.60   1st Qu.:75.10  \n",
       " Median : 9.000   Median :80.80   Median : 82.90   Median :76.40  \n",
       " Mean   : 9.093   Mean   :79.55   Mean   : 80.03   Mean   :76.22  \n",
       " 3rd Qu.: 9.900   3rd Qu.:86.05   3rd Qu.: 93.65   3rd Qu.:77.50  \n",
       " Max.   :15.000   Max.   :98.00   Max.   :100.00   Max.   :82.20  \n",
       "       V9              V10              V11             V12        \n",
       " Min.   :0.2390   Min.   :  9.40   Min.   :30.00   Min.   : 0.000  \n",
       " 1st Qu.:0.4345   1st Qu.: 67.65   1st Qu.:72.95   1st Qu.: 5.950  \n",
       " Median :0.5070   Median : 78.60   Median :77.00   Median : 7.700  \n",
       " Mean   :0.5027   Mean   : 80.02   Mean   :76.25   Mean   : 7.699  \n",
       " 3rd Qu.:0.5615   3rd Qu.: 92.10   3rd Qu.:80.45   3rd Qu.: 9.200  \n",
       " Max.   :0.9910   Max.   :179.00   Max.   :96.00   Max.   :31.600  "
      ]
     },
     "metadata": {},
     "output_type": "display_data"
    },
    {
     "data": {
      "image/png": "[encoded data removed]",
      "text/plain": [
       "plot without title"
      ]
     },
     "metadata": {
      "image/png": {
       "height": 420,
       "width": 420
      },
      "text/plain": {
       "height": 420,
       "width": 420
      }
     },
     "output_type": "display_data"
    }
   ],
   "source": [
    "dim(datos)\n",
    "datos1 <- as.matrix(datos[1:323,3:14])\n",
    "datos2 <- matrix(as.numeric(datos1),ncol=12,nrow=323,byrow=FALSE)\n",
    "summary(datos2)\n",
    "boxplot(datos2)"
   ]
  },
  {
   "cell_type": "code",
   "execution_count": 65,
   "metadata": {},
   "outputs": [
    {
     "name": "stdout",
     "output_type": "stream",
     "text": [
      " [1] \"Poblaci.n..miles..2011\"                     \n",
      " [2] \"IDSE\"                                       \n",
      " [3] \"Ingreso.per.c.p..Mens..miles....2006.11\"    \n",
      " [4] \"Pobreza...2006.11\"                          \n",
      " [5] \"Escolaridad..aØos..2006.11\"                 \n",
      " [6] \"Material.Vivienda.bueno.o.acceptable...2006\"\n",
      " [7] \"Alcantarillado.o.Fosa.S.pt....2006\"         \n",
      " [8] \"Esperanza.vida.al.nacer..aØos..2005.10\"     \n",
      " [9] \"X.ndice.Desarrollo.Humano\"                  \n",
      "[10] \"Tasa.AVPP.x.1000.h.2007.11\"                 \n",
      "[11] \"X..defunc..50..aØos.2011\"                   \n",
      "[12] \"Mortalidad.Infantil.x.1000.NV.2009.11\"      \n"
     ]
    },
    {
     "data": {
      "image/png": "[encoded data removed]",
      "text/plain": [
       "Plot with title \"\""
      ]
     },
     "metadata": {
      "image/png": {
       "height": 420,
       "width": 420
      },
      "text/plain": {
       "height": 420,
       "width": 420
      }
     },
     "output_type": "display_data"
    }
   ],
   "source": [
    "library(corrplot)\n",
    "print(colnames(datos)[3:14])\n",
    "correl <- cor(datos2)\n",
    "corrplot(correl, method = \"circle\", order = \"hclust\", addrect = 2)"
   ]
  },
  {
   "cell_type": "markdown",
   "metadata": {},
   "source": [
    "#### Respuesta Pregunta 2.1:\n",
    "1) Los datos consideran 12 variables e índices socio-económicos y de salud descritos a nivel de las 323 comunas de Chile. Del análisis PCA realizado en la tarea anterior, se sabe que es un conjunto de datos complejo de analizar, y que presenta algunas variables mas correlacionadas que otras. Del cálculo de la matriz de correlaciones, se observa además que la cantidad de habitantes en cada comuna, su índice IDSE y el ingreso per cápita están relacionadas positivamente entre sí, formando un grupo de variables. Mientras que todas las otras variables forman otro grupo de variables correlacionadas positivamente entre si, y negativamente con el grupo anterior, a excepción de pobreza que parece no estar correlacionada directamente con ninguna de las variables descritas.\n",
    "\n",
    "La falta de asocioación de pobreza con las demás variables no parecen muy lógica, por lo que se estima que podría haber distintos grupos en los datos, que al analizarlos todos juntos provocan estas conclusión poco intuitiva. Ya en el PCA se observó que las relaciones entre variables se modificaban si se estudiaba por separado las comunas con mas de 100.000 habitantes de aquellas con menor población. Esta es una buena razón por la cual generar un análisis de agrupamiento y luego analizar el comportamiento de las variables al interior de cada grupo. "
   ]
  },
  {
   "cell_type": "code",
   "execution_count": 24,
   "metadata": {},
   "outputs": [
    {
     "data": {
      "image/png": "[encoded data removed]",
      "text/plain": [
       "Plot with title \"J v/s k en k-means\""
      ]
     },
     "metadata": {
      "image/png": {
       "height": 420,
       "width": 420
      },
      "text/plain": {
       "height": 420,
       "width": 420
      }
     },
     "output_type": "display_data"
    }
   ],
   "source": [
    "datos3 <- scale(datos2)\n",
    "J<-rep(0,20)\n",
    "fin_iter<-20\n",
    "\n",
    "\n",
    "for (k in 1:fin_iter){\n",
    "     cl<-kmeans(datos2,k,iter.max=1000,nstart=10)\n",
    "\t J[k]<-cl$tot.withinss\n",
    "}\n",
    "\n",
    "\n",
    "plot(1:fin_iter,J,xlab=\"k\",ylab=\"J\",type=\"p\",main=\"J v/s k en k-means\",col=2) "
   ]
  },
  {
   "cell_type": "code",
   "execution_count": 66,
   "metadata": {},
   "outputs": [
    {
     "name": "stdout",
     "output_type": "stream",
     "text": [
      "[1] 2.107423e+06 1.556427e+06 2.293043e+06 1.473273e+00\n",
      "[1] 1.643602e+06 4.638210e+05 1.556427e+06 3.355664e+00\n",
      "[1] 1.249069e+06 3.945336e+05 4.638210e+05 1.175618e+00\n",
      "[1] 9.256033e+05 3.234653e+05 3.945336e+05 1.219709e+00\n",
      "[1] 7.530267e+05 1.725767e+05 3.234653e+05 1.874328e+00\n",
      "[1] 6.271940e+05 1.258327e+05 1.725767e+05 1.371478e+00\n",
      "[1] 5.665744e+05 6.061964e+04 1.258327e+05 2.075774e+00\n",
      "[1] 5.070083e+05 5.956603e+04 6.061964e+04 1.017688e+00\n",
      "[1] 4.812035e+05 2.580487e+04 5.956603e+04 2.308325e+00\n",
      "[1] 4.601178e+05 2.108563e+04 2.580487e+04 1.223813e+00\n",
      "[1] 4.357837e+05 2.433410e+04 2.108563e+04 8.665055e-01\n",
      "[1] 4.113091e+05 2.447462e+04 2.433410e+04 9.942585e-01\n",
      "[1] 3.953563e+05 1.595285e+04 2.447462e+04 1.534185e+00\n",
      "[1] 3.797765e+05 1.557981e+04 1.595285e+04 1.023943e+00\n",
      "[1] 3.660455e+05 1.373093e+04 1.557981e+04 1.134651e+00\n",
      "[1] 3.584414e+05 7.604111e+03 1.373093e+04 1.805725e+00\n",
      "[1] 351434.75893   7006.65440   7604.11143      1.08527\n",
      "[1] 3.322207e+05 1.921410e+04 7.006654e+03 3.646622e-01\n",
      "[1] 3\n"
     ]
    }
   ],
   "source": [
    "J<-rep(0,20)\n",
    "fin_iter<-20\n",
    "tasa <- rep(0,20)\n",
    "dif <- rep(1,20)\n",
    "cl_1 <- kmeans(datos2,1,iter.max=1000,nstart=10)\n",
    "J[1] <-cl_1$tot.withinss\n",
    "cl_2 <- kmeans(datos2,2,iter.max=1000,nstart=10)\n",
    "J[2] <-cl_2$tot.withinss\n",
    "dif[2] <- J[1]-J[2]\n",
    "tasa[2]<-1\n",
    "t_max <- 1\n",
    "k_max <-1\n",
    "\n",
    "for (k in 3:fin_iter){\n",
    "     cl<-kmeans(datos2,k,iter.max=2000,nstart=10)\n",
    "\t J[k]<-cl$tot.withinss\n",
    "     dif[k] <- J[k-1]-J[k]\n",
    "    # calcula la tasa mientras la función de pérdida sea decreciente\n",
    "     if ((dif[k] >0)&&(tasa[k-1]>0)){\n",
    "         tasa[k] <- dif[k-1]/dif[k]\n",
    "         if (tasa[k]>t_max) {\n",
    "             t_max <- tasa[k]\n",
    "             k_max <- k-1\n",
    "         }\n",
    "     }\n",
    "     print(c(J[k],dif[k], dif[k-1], tasa[k]))\n",
    "}\n",
    "\n",
    "print(k_max)"
   ]
  },
  {
   "cell_type": "markdown",
   "metadata": {},
   "source": [
    "#### Respuesta Pregunta 2.2 \n",
    "De la gráfica se observa un primer codo en k=3, lo cual se verifica con el código automatizado."
   ]
  },
  {
   "cell_type": "code",
   "execution_count": 73,
   "metadata": {},
   "outputs": [
    {
     "name": "stdout",
     "output_type": "stream",
     "text": [
      "          G1     G2     G3\n",
      " [1,] 118.10 213.60  16.65\n",
      " [2,]   0.93   0.67   0.53\n",
      " [3,] 770.45 212.60 149.65\n",
      " [4,]   3.05  14.50  15.70\n",
      " [5,]  14.15  10.70   8.80\n",
      " [6,]  95.75  85.00  79.70\n",
      " [7,] 100.00  97.40  79.70\n",
      " [8,]  80.45  77.20  76.15\n",
      " [9,]   0.89   0.62   0.49\n",
      "[10,]  49.40  75.10  80.70\n",
      "[11,]  87.95  73.70  77.20\n",
      "[12,]   5.85   7.80   7.70\n"
     ]
    }
   ],
   "source": [
    "cl<-kmeans(datos2,3,iter.max=1000,nstart=10)\n",
    "mediana <- matrix(0, ncol=12, nrow=3)\n",
    "for (i in 1:12) \n",
    "    mediana[,i] <- tapply(datos2[,i],cl$cluster,median)\n",
    "rownames(mediana)<- c('G1','G2','G3')\n",
    "mediana <- round(mediana, digits=2)\n",
    "print(t(mediana))"
   ]
  },
  {
   "cell_type": "code",
   "execution_count": 74,
   "metadata": {},
   "outputs": [
    {
     "data": {
      "text/plain": [
       "\n",
       "  1   2   3 \n",
       "  6  33 284 "
      ]
     },
     "metadata": {},
     "output_type": "display_data"
    },
    {
     "data": {
      "image/png": "[encoded data removed]",
      "text/plain": [
       "Plot with title \"Histogram of cl$cluster\""
      ]
     },
     "metadata": {
      "image/png": {
       "height": 420,
       "width": 420
      },
      "text/plain": {
       "height": 420,
       "width": 420
      }
     },
     "output_type": "display_data"
    }
   ],
   "source": [
    "hist(cl$cluster)\n",
    "table(cl$cluster)"
   ]
  },
  {
   "cell_type": "markdown",
   "metadata": {},
   "source": [
    "#### Respuesta Pregunta 2.3\n",
    "De acuerdo al agrupamiento se distingue claramente un grupo pequeño, de 6 comunas, caracterizado por altos ingresos, altos índices socioeconómicos y de salud, cantidad de habitantes medio, y bajo índice de pobreza, tasa de AVPP y mortalidad infantil. Por otra parte, tenemos un segundo grupo de las comunas con mayor cantidad de habitantes (33) con valores medios de los índices socio-económicos y de salud, a excepción de la mortalidad infantil y mortalidad en menores de 50 años. Este resultado se puede explicar por que en dichas comunas existe mayor acceso a fuentes de trabajo y establecimientos de salud.  Por último tenemos el grupo que concentra a la mayor cantidad de comunas, con bastante menor número de habitantes y los mas bajos índices socio-económicos y de salud, mayores niveles de pobreza y tasa de AVPP y valores medios de mortalidad menores de 50 años y tasa de mortalidad infantil. "
   ]
  }
 ],
 "metadata": {
  "celltoolbar": "Raw Cell Format",
  "kernelspec": {
   "display_name": "R",
   "language": "R",
   "name": "ir"
  },
  "language_info": {
   "codemirror_mode": "r",
   "file_extension": ".r",
   "mimetype": "text/x-r-source",
   "name": "R",
   "pygments_lexer": "r",
   "version": "3.6.1"
  }
 },
 "nbformat": 4,
 "nbformat_minor": 2
}
