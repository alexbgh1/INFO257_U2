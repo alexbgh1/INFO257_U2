{
 "cells": [
  {
   "cell_type": "markdown",
   "metadata": {},
   "source": [
    "# K-means\n",
    "En resumen marca 2 X en el espacio y les atribuye ciertos datos\n",
    "Itera moviendo las X hacia on conjunto de datos aglomerado\n",
    "Repite hasta tener grupos formados\n",
    "\n",
    "\n",
    "Función de similaridad (distancia)\n",
    "Función de pérdida (J)\n",
    "Algoritmo para función de pérdida\n",
    "\n",
    "Distintos tipos de disimilaridad (método para diferenciar, generalmente distancia euclidiana) ; es invariante a traslaciones y rotaciones NO ASÍ escalamiento\n",
    "\n",
    "Estandarizar datos NO SIEMPRE ES ÚTIL\n",
    "\n",
    "Responsabilidades Rik = Matriz con un 1 si pertence al grupo y 0 si no. columnas  = grupo y fila = el dato\n",
    "\n",
    "\n",
    "Función de Pérdida = J = La suma de los cuadrados de las distancias desde un dato hasta su prototipo asignado, conocido como la dispersión dentro de los grupos\n",
    "\n",
    "PASO E= Fijar uk y minimizar J respecto Rik\n",
    "PASO M= Fijar valores para Rik y minimizar J respecto uk\n",
    "\n",
    "prototipo uk se define como la media de los puntos en el grupo\n",
    "\n",
    "encuentra minimos locales (nstart > 1)\n",
    "\n",
    "\n",
    "#### DIFERENCIAS GMM\n",
    "Asume grupos esféricos y con probabilidad 1 o 0, variaciones pequeñas pueden cambiar todo"
   ]
  },
  {
   "cell_type": "code",
   "execution_count": 1,
   "metadata": {
    "vscode": {
     "languageId": "r"
    }
   },
   "outputs": [],
   "source": [
    "# # Librerias\n",
    "# library(cluster)\n",
    "# library(ggplot2)\n",
    "\n",
    "\n",
    "# #observar datos (una vez inicializados)\n",
    "# datos <-read.table(\"c:\\\\milk.dat\",row.names=1,dec=\".\",header=TRUE)\n",
    "\n",
    "# summary(datos)\n",
    "# boxplot(datos)\n",
    "# dim(datos)\n",
    "\n",
    "\n",
    "# # Inicia clustering k0 = 3 grupos\n",
    "# k0=3\n",
    "# cl<-kmeans(datos,k0,iter.max=1000,nstart=10)\n",
    "\n",
    "\n",
    "# # Analisis componentes principales\n",
    "# res <- princomp(datos, cor=TRUE)\n",
    "# print(res)\n",
    "# plot(res)\n",
    "# res2 <- predict(res,cl$centers)\n",
    "# res2\n",
    "# cl\n",
    "# biplot(res,xlabs=cl$cluster)\n",
    "# #grafica los centros de cada grupo en el plano de componentes principales utilizando colores distintos\n",
    "# points(res2[,1:2],col=1:k0,pch=19)\n",
    "\n",
    "\n",
    "# # Graficar un K optimo por metodo del codo\n",
    "# J<-rep(0,20)\n",
    "# fin_iter<-20\n",
    "\n",
    "\n",
    "# for (k in 1:fin_iter){\n",
    "#      cl<-kmeans(datos,k,iter.max=1000,nstart=10)\n",
    "# \t J[k]<-cl$tot.withinss\n",
    "# }\n",
    "\n",
    "\n",
    "# plot(1:fin_iter,J,xlab=\"k\",ylab=\"J\",type=\"p\",main=\"J v/s k en k-means\",col=2)"
   ]
  }
 ],
 "metadata": {
  "kernelspec": {
   "display_name": "R",
   "language": "R",
   "name": "ir"
  },
  "language_info": {
   "codemirror_mode": "r",
   "file_extension": ".r",
   "mimetype": "text/x-r-source",
   "name": "R",
   "pygments_lexer": "r",
   "version": "3.6.1"
  },
  "orig_nbformat": 4
 },
 "nbformat": 4,
 "nbformat_minor": 2
}
