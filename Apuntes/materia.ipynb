{
 "cells": [
  {
   "cell_type": "markdown",
   "metadata": {},
   "source": [
    "<h1>Librerias a considerar</h1>"
   ]
  },
  {
   "cell_type": "code",
   "execution_count": 7,
   "metadata": {
    "vscode": {
     "languageId": "r"
    }
   },
   "outputs": [],
   "source": [
    "# #PCA\n",
    "# install.packages(\"corrplot\")\n",
    "\n",
    "# # GMM Jerarquico\n",
    "# install.packages(\"cluster\")\n",
    "# install.packages(\"mclust\")\n",
    "\n",
    "# # SOM\n",
    "# install.packages(\"kohonen\")"
   ]
  },
  {
   "cell_type": "code",
   "execution_count": 8,
   "metadata": {
    "vscode": {
     "languageId": "r"
    }
   },
   "outputs": [],
   "source": [
    "# K-means\n",
    "# library(cluster)\n",
    "# library(ggplot2)\n",
    "\n",
    "# GMM Jerarquico\n",
    "# library(mclust)\n",
    "# library(cluster)\n",
    "\n",
    "# SOM: Self Organizing Map\n",
    "# library(kohonen)"
   ]
  },
  {
   "cell_type": "code",
   "execution_count": null,
   "metadata": {
    "vscode": {
     "languageId": "r"
    }
   },
   "outputs": [],
   "source": [
    "# purity <- function(clusters, classes) {\n",
    "#   sum(apply(table(classes, clusters), 2, max)) / length(clusters)\n",
    "# }\n",
    "\n",
    "# print(purity(cl,data por nombre: data[,1]))"
   ]
  },
  {
   "cell_type": "markdown",
   "metadata": {},
   "source": [
    "## Aprendizaje NO supervisado\n",
    "Se tienen los datos 'x' sin etiqueta\n",
    "\n",
    "-> Etiquetar datos puede ser costoso, por lo que puede ser una alternativa aplicar técnicas de aprendizaje no supervizado\n",
    "\n",
    "-> Se suele utilizar para datos de alta dimensionalidad y representarlos en una menor dimensión\n"
   ]
  },
  {
   "cell_type": "markdown",
   "metadata": {},
   "source": []
  }
 ],
 "metadata": {
  "kernelspec": {
   "display_name": "R",
   "language": "R",
   "name": "ir"
  },
  "language_info": {
   "codemirror_mode": "r",
   "file_extension": ".r",
   "mimetype": "text/x-r-source",
   "name": "R",
   "pygments_lexer": "r",
   "version": "3.6.1"
  },
  "orig_nbformat": 4
 },
 "nbformat": 4,
 "nbformat_minor": 2
}
