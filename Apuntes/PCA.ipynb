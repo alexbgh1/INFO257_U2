{
 "cells": [
  {
   "cell_type": "markdown",
   "metadata": {},
   "source": [
    "### PCA\n",
    "El objetivo del PCA es explicar la mayor parte de la variabilidad en los datos con un número menor de variables que el conjunto de datos original. \n",
    "\n",
    "𝑝(𝑝−1)/2 diagramas posibles, con p variables\n",
    "\n",
    "Cada una de las dimensiones encontradas por PCA es una combinación lineal de las características p \n",
    "\n",
    "Con esto en mente:\n",
    "\n",
    "Sea $X$ una matriz de $n$ datos $d$-dimensionales, con cada componente  de media nula, i.e.\n",
    "\n",
    "$$X = \\begin{pmatrix}\n",
    "x_{11} &...& x_{1d} \\\\\n",
    "&...&\\\\\n",
    "x_{n1}&...& x_{nd} \\\\\n",
    "\\end{pmatrix}\n",
    "\\quad donde \\quad \\bar{\\bf{x}_j}=0, \\quad j=1,...,d$$\n",
    "\n",
    "Buscamos la dirección $w'=(w_1,...,w_d)$ tal que la proyección de $X$ sobre esta dirección maximice la varianza empírica de $Xw$: \n",
    "\n",
    "$$\\max_w \\hat{\\sigma}^2(Xw) \\quad \\text{s. a} \\quad \\|w\\|=1$$\n",
    "\n",
    "Tenemos que:\n",
    "\n",
    "$$\\hat{\\sigma}^2(Xw) =  w'X'Xw  - (\\mathbb{E}(Xw))^2= w' \\hat{\\Sigma} w$$\n",
    "\n",
    "donde  $\\hat{\\Sigma}$ es la varianza empírica de $X$:\n",
    "$$\\hat{\\Sigma} = X'X = \\begin{pmatrix}\n",
    "\\sum_{i=1}^n (x_{i1})^2 &...& \\sum_{i=1}^n (x_{i1}x_{id}) \\\\\n",
    "&...&\\\\\n",
    "\\sum_{i=1}^n (x_{id}x_{i1})&...& \\sum_{i=1}^n (x_{id})^2  \\\\\n",
    "\\end{pmatrix}$$\n",
    "\n",
    "Para maximizar la varianza $\\hat{\\sigma}^2(Xw)$, construimos el Lagrangiano:\n",
    "\n",
    "$$L = w' \\hat{\\Sigma} w + \\lambda (w'w-1)$$\n",
    "\n",
    "La condición de máximo queda:\n",
    "\n",
    "$$\\frac{\\partial L}{\\partial w} = 2 \\hat{\\Sigma} w - 2\\lambda w = 0 \\quad \\implies \\quad \\hat{\\Sigma} w = \\lambda w$$\n",
    "\n",
    "Con lo cual $w$ es un vector propio de $\\hat{\\Sigma}$,  y por lo tanto\n",
    "\n",
    "$$\\hat{\\sigma}^2(Xw) = w' \\hat{\\Sigma} w = w' (\\lambda w) = \\lambda$$\n",
    "\n",
    "la dirección de máxima varianza es la dirección asociada al vector propio cuyo valor propio es máximo."
   ]
  },
  {
   "cell_type": "code",
   "execution_count": 22,
   "metadata": {
    "vscode": {
     "languageId": "r"
    }
   },
   "outputs": [],
   "source": [
    "# PCA MANUAL\n",
    "\n",
    "data(\"USArrests\")\n",
    "\n",
    "# # # Calcula varianzas para cada variable\n",
    "\n",
    "# apply(USArrests, 2, var)\n",
    "# apply(USArrests,2,mean)\n",
    "\n",
    "\n",
    "# 1. # # Escalar datos (esto practicamente SIEMPRE SE HACE)\n",
    "\n",
    "# scaled_df <- apply(USArrests, 2, scale)\n",
    "# head(scaled_df)\n",
    "# apply(scaled_df, 2, var)\n",
    "# apply(scaled_df, 2, mean)\n",
    "\n",
    "\n",
    "# 2. # # Calculando valores y vectores propios de la matriz de covarianzas empírica\n",
    "\n",
    "# arrests.cov <- cov(scaled_df)\n",
    "# arrests.eigen <- eigen(arrests.cov)\n",
    "# arrests.eigen\n",
    "\n",
    "# (EXTRA) # # Calcular peso de Componentes Principales\n",
    "\n",
    "# PVE <- arrests.eigen$values / sum(arrests.eigen$values)\n",
    "# round(PVE, 2)\n",
    "\n",
    "# 3. # # Extrayendo los pesos de los dos primeras componentes principales \n",
    "\n",
    "# w <- -arrests.eigen$vectors[,1:2] \n",
    "# row.names(w) <- c(\"Murder\", \"Assault\", \"UrbanPop\", \"Rape\")\n",
    "# colnames(w) <- c(\"PC1\", \"PC2\")\n",
    "# w\n",
    "\n",
    "\n",
    "# 4. # # Calcula proyección de los datos en cada componente principal \n",
    "# PC1 <- as.matrix(scaled_df) %*% w[,1]\n",
    "# PC2 <- as.matrix(scaled_df) %*% w[,2]\n",
    "\n",
    "# # # Crea nuevo dataframe con la proyección\n",
    "# PC <- data.frame(State = row.names(USArrests), PC1, PC2)"
   ]
  },
  {
   "cell_type": "code",
   "execution_count": null,
   "metadata": {
    "vscode": {
     "languageId": "r"
    }
   },
   "outputs": [],
   "source": []
  },
  {
   "cell_type": "code",
   "execution_count": 23,
   "metadata": {
    "vscode": {
     "languageId": "r"
    }
   },
   "outputs": [],
   "source": [
    "# 1. # # Aplicando PCA con Funciones de R\n",
    "\n",
    "# pca_res <- princomp(USArrests, cor= TRUE)\n",
    "# # cambio direccion para col 2 y 4\n",
    "# pca_res$loadings[,2] <- -pca_res$loadings[,2]\n",
    "# pca_res$loadings[,4] <- -pca_res$loadings[,4]\n",
    "\n",
    "# pca_res <- prcomp(data, scale = TRUE)\n",
    "# names(pca_res)\n",
    "# pca_res$sdev\n",
    "# pca_res$rotation <- -pca_res$rotation\n",
    "# pca_res$center\n",
    "# pca_res$scale\n",
    "# pca_res$x <- -pca_res$x\n",
    "\n",
    "\n",
    "# 2. # # Graficando PCA con Biplot (Multivariable)\n",
    "# biplot(pca_res, scale = 0)\n"
   ]
  },
  {
   "cell_type": "code",
   "execution_count": null,
   "metadata": {
    "vscode": {
     "languageId": "r"
    }
   },
   "outputs": [],
   "source": []
  }
 ],
 "metadata": {
  "kernelspec": {
   "display_name": "R",
   "language": "R",
   "name": "ir"
  },
  "language_info": {
   "codemirror_mode": "r",
   "file_extension": ".r",
   "mimetype": "text/x-r-source",
   "name": "R",
   "pygments_lexer": "r",
   "version": "3.6.1"
  },
  "orig_nbformat": 4
 },
 "nbformat": 4,
 "nbformat_minor": 2
}
