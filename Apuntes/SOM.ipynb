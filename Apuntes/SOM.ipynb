{
 "cells": [
  {
   "cell_type": "markdown",
   "metadata": {},
   "source": [
    "# Search organization Map\n",
    "\n",
    "Red neuronal\n",
    "\n",
    "nodo son grillas\n",
    "\n",
    "observaciones son los datos\n",
    "\n",
    "nodos activables\n",
    "\n",
    "Es importante estandarizar los datos"
   ]
  },
  {
   "cell_type": "code",
   "execution_count": null,
   "metadata": {
    "vscode": {
     "languageId": "r"
    }
   },
   "outputs": [],
   "source": [
    "# #Libreria\n",
    "# library(kohonen)\n",
    "\n",
    "\n",
    "# #ruta datos\n",
    "# #lee datos del archivo de texto como una matriz. La primera #columna se utiliza como vector de nombres de las filas\n",
    "# datos <-read.table(\"milk1.dat\",row.names=1,dec=\".\",header=TRUE)\n",
    "# datos <- as.data.frame(datos)\n",
    "# summary(datos)\n",
    "# head(datos)\n",
    "\n",
    "\n",
    "# #create SOM grid\n",
    "# sommap <- som(scale(datos), grid = somgrid(2, 2, \"hexagonal\"))\n",
    "# plot(sommap)\n",
    "\n",
    "# colors <- function(n, alpha = 1) {\n",
    "#     rev(heat.colors(n, alpha))\n",
    "# }\n",
    "\n",
    "# plot(sommap, type = \"counts\", palette.name = colors, heatkey = TRUE)\n",
    "\n",
    "# plot(sommap, type = \"mapping\", pchs = 20, main = \"Mapping Type SOM\")\n",
    "\n",
    "# plot(sommap, type = \"dist.neighbours\", palette.name = terrain.colors)"
   ]
  }
 ],
 "metadata": {
  "kernelspec": {
   "display_name": "R",
   "language": "R",
   "name": "ir"
  },
  "language_info": {
   "name": "R"
  },
  "orig_nbformat": 4
 },
 "nbformat": 4,
 "nbformat_minor": 2
}
