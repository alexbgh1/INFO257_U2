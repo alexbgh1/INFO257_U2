{
 "cells": [
  {
   "cell_type": "markdown",
   "metadata": {},
   "source": [
    "# Modelamiento de mezclas normales y Agrupamiento Jerarquico\n",
    "\n",
    "### GMM\n",
    "\n",
    "Sigue cierta distribución de probabilidad - Máxima verosimilitud\n",
    "\n",
    "Función de pérdida: El negativo del logaritmo de la verosimilitud\n",
    "\n",
    "Regla de bayes\n",
    "\n",
    "Converge a óptimos locales.\n",
    "Se requiere iniciar el algoritmo con distintos valores iniciales de los parámetros (como en K-means).\n",
    "\n",
    "### Agrupamiento Jerarquico\n",
    "Aglomeramiento y divisivo\n",
    "\n",
    "Disimiliridad\n",
    "\n",
    "Single Linkage: genera grupos mas extendidos. MIN\n",
    "\n",
    "Complete Linkage: genera grupos mas concentrados. MAX\n",
    "\n",
    "Group Average: estrategia promedio entre las dos anteriores. No es invariante bajo transformaciones monótonas. AVG\n",
    "\n",
    "\n"
   ]
  },
  {
   "cell_type": "code",
   "execution_count": null,
   "metadata": {
    "vscode": {
     "languageId": "r"
    }
   },
   "outputs": [],
   "source": [
    "# library(mclust)\n",
    "# library(cluster)\n",
    "\n",
    "# # Mclust equivale a modelamiento de mezclas normales \n",
    "# clus <-Mclust(datos)\n",
    "# summary(clus)\n",
    "# plot(clus)\n",
    "# clus\n",
    "\n",
    "# # Se selecciona el minimo del primer grafico como valor inical para los grupos ( G )\n",
    "\n",
    "# Clasificacion de grupos\n",
    "# cl <- clus$classification\n",
    "# centers <- t(clus$parameters$mean)\n",
    "\n",
    "\n",
    "# # JERARQUICO\n",
    "# res3 <- hclust(dist(datos))\n",
    "# plot(res3)\n",
    "# biplot(res, xlabs= cutree(res3,3))\n"
   ]
  }
 ],
 "metadata": {
  "kernelspec": {
   "display_name": "R",
   "language": "R",
   "name": "ir"
  },
  "language_info": {
   "name": "R"
  },
  "orig_nbformat": 4
 },
 "nbformat": 4,
 "nbformat_minor": 2
}
