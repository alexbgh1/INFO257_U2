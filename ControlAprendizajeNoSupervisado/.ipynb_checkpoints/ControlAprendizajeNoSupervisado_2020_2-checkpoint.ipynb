{
 "cells": [
  {
   "cell_type": "markdown",
   "metadata": {},
   "source": [
    "# Control Aprendizaje No Supervisado\n",
    "\n",
    "*Al finalizar, subir el notebook desarrollado a siveducMD*\n",
    "\n",
    "**1.** Describa en qué consiste el análisis de componentes principales incluyendo las propiedades que cumplen las dos primeras componentes principales y su proyección de los datos en ellas. Indique sus aplicaciones más comunes."
   ]
  },
  {
   "cell_type": "markdown",
   "metadata": {},
   "source": []
  },
  {
   "cell_type": "markdown",
   "metadata": {},
   "source": [
    "**2.** Elabore una tabla comparativa  de los algoritmos de agrupamiento que hemos estudiado, incluyendo breve descripción, ventajas, desventajas y ejemplos de aplicación.\n",
    "\n"
   ]
  },
  {
   "cell_type": "markdown",
   "metadata": {},
   "source": []
  },
  {
   "cell_type": "markdown",
   "metadata": {},
   "source": [
    "**Parte práctica:** Considere los datos adjuntos provenientes de un estudio de granos pertenecientes a tres variedades diferentes de trigo: Kama, Rosa y Canadian (Valores 1, 2 y 3 respectivamente consignados en la variable V8),70 elementos de cada uno, seleccionados al azar para el experimento. Los atributos de los datos provienen de una visualización de alta calidad de la estructura interna del grano utilizando una técnica de rayos X suaves. La ventaja de esta técnica es que no es destructiva y es considerablemente más económica que otras técnicas de imagen más sofisticadas como la microscopía de barrido o la tecnología láser. Las imágenes se registraron en placas KODAK de rayos X de 13x18 cm. Los estudios se llevaron a cabo utilizando grano de trigo cosechado en combinación procedente de campos experimentales, explorados en el Instituto de Agrofísica de la Academia de Ciencias de Polonia en Lublin. (https://archive.ics.uci.edu/ml/datasets/seeds#)\n",
    "\n",
    "En este control se trata de determinar si los atributos así observados permiten agrupar adecuadamente los granos de acuerdo a la variedad a la que pertenecen. \n",
    "\n",
    "Los **atributos** son siete parámetros geométricos medidos en los granos de trigo: \n",
    "1. V1: área A\n",
    "2. V2: perímetro P\n",
    "3. V3: compacidad C = 4*pi*A/P^2,\n",
    "4. V4: longitud de la semilla\n",
    "5. V5: ancho de la semilla\n",
    "6. V6: coeficiente de asimetría\n",
    "7. V7: longitud de la ranura de la semilla\n",
    "\n",
    "**3.** Realice un análisis exploratorio de los datos. Interprete sus resultados.\n",
    "    \n",
    "**4.** Escoja un método de agrupamiento que estime es adecuado para tratar estos datos (excluyendo la variable V8). Justifique su elección y desarrolle los agrupamientos correspondientes. Justifique los valores de los parámetros utilizados. Itere si es necesario.\n",
    "    \n",
    "**5.** Grafique sus resultados utilizando una proyección de los datos en el primer plano de componentes principales. Interprete sus resultados.\n",
    "\n",
    "**6. La medida Purity** \n",
    "\n",
    "Esta es una madida útil para cuantificar la calidad del agrupamiento cuando se conoce la clase de cada observación.\n",
    "\n",
    "Sea $N_{ij}$ el número de observaciones en el cluster $i$ que pertenecen a la clase $j$ y $N_i = \\sum_{j=1}^{C} N_{ij}$  el número total de elementos del cluster $i$. Se define $p_{ij} = \\frac{N_{ij}}{N_i}$ la probabilidad empírica de la clase $j$ en el cluster $i$. Se denomina **Purity** del cluster $i$ a:\n",
    "$$p_i = \\max_{j= 1,\\cdots, C} p_{ij}$$\n",
    "y la **Purity** del agrupamiento completo:\n",
    "$$\\text{Purity} = \\sum_{i} \\frac{N_i}{N} p_i$$\n",
    "El rango de Purity es $[0,1]$ y cuanto mas cercano a $1$ es mejor el agrupamiento (mas cercano a las clases).\n",
    "\n",
    "Utilice la medida Purity para establecer la calidad del agrupamiento. Realice una conclusión general de sus resultados.\n",
    "\n",
    " \n"
   ]
  },
  {
   "cell_type": "code",
   "execution_count": 1,
   "metadata": {},
   "outputs": [
    {
     "name": "stdout",
     "output_type": "stream",
     "text": [
      "      V1    V2     V3    V4    V5    V6    V7 V8\n",
      "1  15.26 14.84 0.8710 5.763 3.312 2.221 5.220  1\n",
      "2  14.88 14.57 0.8811 5.554 3.333 1.018 4.956  1\n",
      "3  14.29 14.09 0.9050 5.291 3.337 2.699 4.825  1\n",
      "4  13.84 13.94 0.8955 5.324 3.379 2.259 4.805  1\n",
      "5  16.14 14.99 0.9034 5.658 3.562 1.355 5.175  1\n",
      "6  14.38 14.21 0.8951 5.386 3.312 2.462 4.956  1\n",
      "7  14.69 14.49 0.8799 5.563 3.259 3.586 5.219  1\n",
      "8  14.11 14.10 0.8911 5.420 3.302 2.700 5.000  1\n",
      "9  16.63 15.46 0.8747 6.053 3.465 2.040 5.877  1\n",
      "10 16.44 15.25 0.8880 5.884 3.505 1.969 5.533  1\n"
     ]
    }
   ],
   "source": [
    "library(cluster)\n",
    "library(ggplot2)\n",
    "datos <-read.table(\"seeds_dataset.txt\",dec=\".\",sep=\"\\t\")\n",
    "print(datos[1:10,])"
   ]
  },
  {
   "cell_type": "code",
   "execution_count": 10,
   "metadata": {},
   "outputs": [
    {
     "data": {
      "image/png": "[encoded data removed]",
      "text/plain": [
       "Plot with title \"Histogram of datos[, 8]\""
      ]
     },
     "metadata": {
      "image/png": {
       "height": 420,
       "width": 420
      }
     },
     "output_type": "display_data"
    }
   ],
   "source": [
    "hist(datos[,8])"
   ]
  },
  {
   "cell_type": "code",
   "execution_count": 21,
   "metadata": {},
   "outputs": [],
   "source": [
    "#implementación de Purity\n",
    "ClusterPurity <- function(clusters, classes) {\n",
    "  sum(apply(table(classes, clusters), 2, max)) / length(clusters)\n",
    "}"
   ]
  }
 ],
 "metadata": {
  "kernelspec": {
   "display_name": "R",
   "language": "R",
   "name": "ir"
  },
  "language_info": {
   "codemirror_mode": "r",
   "file_extension": ".r",
   "mimetype": "text/x-r-source",
   "name": "R",
   "pygments_lexer": "r",
   "version": "4.0.5"
  }
 },
 "nbformat": 4,
 "nbformat_minor": 2
}
