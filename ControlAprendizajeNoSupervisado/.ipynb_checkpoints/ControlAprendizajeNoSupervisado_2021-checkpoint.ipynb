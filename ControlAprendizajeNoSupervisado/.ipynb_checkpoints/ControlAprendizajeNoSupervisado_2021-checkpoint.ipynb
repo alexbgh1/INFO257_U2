{
 "cells": [
  {
   "cell_type": "markdown",
   "metadata": {},
   "source": [
    "# Control Aprendizaje No Supervisado\n",
    "\n",
    "*Al finalizar, subir el notebook desarrollado a siveducMD*\n",
    "\n",
    "**1.** Describa en qué consiste el análisis de componentes principales incluyendo las propiedades que cumplen las dos primeras componentes principales y su proyección de los datos en ellas. Explique bajo que circunstancias es necesario considerar la 3era y 4ta componentes principales. Indique las aplicaciones más comunes del PCA."
   ]
  },
  {
   "cell_type": "markdown",
   "metadata": {},
   "source": []
  },
  {
   "cell_type": "markdown",
   "metadata": {},
   "source": [
    "**2.** Escoja uno de los algoritmos de agrupamiento que hemos estudiado, realice una breve descripción del algoritmo y detalle ventajas, desventajas y ejemplos de aplicación.\n",
    "\n"
   ]
  },
  {
   "cell_type": "code",
   "execution_count": null,
   "metadata": {},
   "outputs": [],
   "source": []
  },
  {
   "cell_type": "markdown",
   "metadata": {},
   "source": []
  },
  {
   "cell_type": "markdown",
   "metadata": {},
   "source": [
    "**Parte práctica:** \n",
    "\n",
    "Considere los datos adjuntos provenientes de una muestra de canciones de spotify, recolectadas por kaggle.com, que incluye para cada canción 11 características (columnas 4 a la 14). Se trata de analizar si tales características permiten agrupar las canciones según género.  \n",
    "\n",
    "Entre las características disponibles hay algunas que son calculadas por el propio algoritmo de Spotify, y por lo tanto, tienen cierto grado de subjetividad, como son: **acousticness, danceability, energy, instrumentalness, liveness, speechiness y valence**. \n",
    "\n",
    "Por otra parte hay otras variables objetivas como **duration_ms, tempo y  loudness**. Son atributos de una canción que no están sujetos a interpretación del algoritmo. Por ejemplo, la duración es la que tenga la pista y el tempo será el que determine un metrónomo.\n",
    "\n",
    "Por último se consigna la variable **popularity**, cuyo valor  está basado en datos reales de reproducción, pero ponderada por la cercanía en el tiempo (reproducciones más recientes tienen mayor peso a la hora de calcular la popularidad).\n",
    "\n",
    "En este control se trata de determinar si las características aquí descritas permiten agrupar adecuadamente las canciones de acuerdo al género a la que pertenecen (primera columna de los datos)\n",
    "\n",
    "\n",
    "\n",
    "**3.** Realice un análisis exploratorio de los datos de las 11 características de las canciones (columnas 4 a la 14). Interprete sus resultados.\n",
    "    \n",
    "**4.** Escoja un método de agrupamiento que estime es adecuado para tratar estos datos. Justifique su elección y desarrolle los agrupamientos correspondientes. Justifique los valores de los parámetros utilizados. Itere si es necesario.\n",
    "    \n",
    "**5.** Grafique sus resultados utilizando una proyección de los datos en el primer plano de componentes principales. Interprete sus resultados.\n",
    "\n",
    "**6. La medida Purity** \n",
    "\n",
    "Esta es una medida útil para cuantificar la calidad del agrupamiento cuando se conoce la clase de cada observación.\n",
    "\n",
    "Sea $N_{ij}$ el número de observaciones en el cluster $i$ que pertenecen a la clase $j$ y $N_i = \\sum_{j=1}^{C} N_{ij}$  el número total de elementos del cluster $i$. Se define $p_{ij} = \\frac{N_{ij}}{N_i}$ la probabilidad empírica de la clase $j$ en el cluster $i$. Se denomina **Purity** del cluster $i$ a:\n",
    "$$p_i = \\max_{j= 1,\\cdots, C} p_{ij}$$\n",
    "y la **Purity** del agrupamiento completo:\n",
    "$$\\text{Purity} = \\sum_{i} \\frac{N_i}{N} p_i$$\n",
    "El rango de Purity es $[0,1]$ y cuanto mas cercano a $1$ es mejor el agrupamiento (mas cercano a las clases).\n",
    "\n",
    "Utilice la medida Purity para establecer la calidad del agrupamiento. Realice una conclusión general de sus resultados.\n",
    "\n",
    " \n"
   ]
  },
  {
   "cell_type": "code",
   "execution_count": 1,
   "metadata": {},
   "outputs": [
    {
     "name": "stdout",
     "output_type": "stream",
     "text": [
      "       genre             artist_name\n",
      "1  Classical Wolfgang Amadeus Mozart\n",
      "2  Classical Wolfgang Amadeus Mozart\n",
      "3  Classical Wolfgang Amadeus Mozart\n",
      "4  Classical         Fr‚d‚ric Chopin\n",
      "5  Classical         Fr‚d‚ric Chopin\n",
      "6  Classical         Fr‚d‚ric Chopin\n",
      "7  Classical    Ludwig van Beethoven\n",
      "8  Classical    Ludwig van Beethoven\n",
      "9  Classical   Johann Sebastian Bach\n",
      "10 Classical   Johann Sebastian Bach\n",
      "                                                                 track_name\n",
      "1                              Grabmusik, K. 42: III. Geliebte Seel' (Live)\n",
      "2       Requiem in D Minor, K. 626: IIIb. Sequence No. 2, Tuba mirum (Live)\n",
      "3                                12 Duets (No. 10 Andante) - Violin Version\n",
      "4                                   Mazurkas, Op. 50: No. 2 in A-Flat Major\n",
      "5                     M‚lodies Polonaises, Op. 74: No. 9, Melodia (Lamento)\n",
      "6                        Preludes, Op. 28: No. 12 in G-Sharp Minor (Presto)\n",
      "7                   Fidelio, Op. 72, Act I: Wenn ich diese T\\201r nicht (Live)\n",
      "8  Piano Sonata No. 8 in C Minor, Op. 13 \"Path‚tique\": II. Adagio cantabile\n",
      "9             Violin Partita No. 1 in B Minor, BWV 1002: IV. Double. Presto\n",
      "10               St. John Passion, BWV 245, Pt. 2: No. 17, Ach groáer K”nig\n",
      "   popularity acousticness danceability duration_ms energy instrumentalness\n",
      "1          14        0.942        0.350       79333 0.0761         0.00e+00\n",
      "2          13        0.991        0.236      261000 0.0753         3.15e-03\n",
      "3           2        0.994        0.240       48000 0.2510         9.58e-01\n",
      "4          32        0.996        0.387      136293 0.0222         9.22e-01\n",
      "5          29        0.994        0.358      154147 0.2050         1.45e-05\n",
      "6          25        0.993        0.470       70987 0.2040         9.15e-01\n",
      "7           0        0.644        0.415       64760 0.0197         0.00e+00\n",
      "8           0        0.993        0.380      297372 0.0414         9.23e-01\n",
      "9          23        0.993        0.332      219947 0.2300         8.72e-01\n",
      "10         17        0.982        0.173       86401 0.1020         3.49e-02\n",
      "   liveness loudness speechiness   tempo valence\n",
      "1    0.1560  -22.003      0.0352 140.044  0.0293\n",
      "2    0.0858  -23.232      0.0426 122.973  0.3000\n",
      "3    0.1020  -11.310      0.0394  99.234  0.1600\n",
      "4    0.1200  -29.504      0.1400 112.360  0.0687\n",
      "5    0.1490  -13.588      0.0430  87.696  0.5180\n",
      "6    0.1180  -21.667      0.0653 138.257  0.0398\n",
      "7    0.1970  -34.225      0.0369  74.338  0.2280\n",
      "8    0.1130  -22.443      0.0350  75.241  0.5470\n",
      "9    0.1110  -23.125      0.0620  99.962  0.0356\n",
      "10   0.1460  -24.937      0.0387  86.998  0.3350\n"
     ]
    }
   ],
   "source": [
    "library(cluster)\n",
    "library(ggplot2)\n",
    "datos <-read.csv(\"tiposMusica.csv\",dec=\".\",sep=\";\",header=TRUE)\n",
    "print(datos[1:10,])"
   ]
  },
  {
   "cell_type": "code",
   "execution_count": 2,
   "metadata": {},
   "outputs": [
    {
     "data": {
      "text/plain": [
       "\n",
       " Classical Electronic       Rock \n",
       "        71         39         39 "
      ]
     },
     "metadata": {},
     "output_type": "display_data"
    }
   ],
   "source": [
    "table(datos[,1])"
   ]
  },
  {
   "cell_type": "code",
   "execution_count": 7,
   "metadata": {},
   "outputs": [],
   "source": [
    "#implementación de Purity\n",
    "ClusterPurity <- function(clusters, classes) {\n",
    "  sum(apply(table(classes, clusters), 2, max)) / length(clusters)\n",
    "}"
   ]
  },
  {
   "cell_type": "code",
   "execution_count": null,
   "metadata": {},
   "outputs": [],
   "source": []
  }
 ],
 "metadata": {
  "kernelspec": {
   "display_name": "R",
   "language": "R",
   "name": "ir"
  },
  "language_info": {
   "codemirror_mode": "r",
   "file_extension": ".r",
   "mimetype": "text/x-r-source",
   "name": "R",
   "pygments_lexer": "r",
   "version": "4.0.5"
  }
 },
 "nbformat": 4,
 "nbformat_minor": 2
}
